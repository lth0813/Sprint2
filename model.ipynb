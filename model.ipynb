{
 "cells": [
  {
   "cell_type": "code",
   "execution_count": 110,
   "id": "15ff1e0b-2bae-499d-ab1e-7657ab7c7e81",
   "metadata": {},
   "outputs": [],
   "source": [
    "import pandas as pd\n",
    "import numpy as np\n",
    "import matplotlib.pyplot as plt\n",
    "from itertools import chain\n",
    "import cv2 as cv\n",
    "from glob import glob\n",
    "\n",
    "from sklearn.model_selection import train_test_split\n",
    "\n",
    "from konlpy.tag import Kkma, Okt\n",
    "\n",
    "from sklearn.model_selection import cross_validate\n",
    "from sklearn.linear_model import SGDClassifier\n",
    "\n",
    "from tensorflow.keras.utils import to_categorical, pad_sequences, plot_model, to_categorical\n",
    "from tensorflow.keras.layers import Dense, Conv1D, MaxPooling1D, BatchNormalization, Embedding, Flatten, Conv2D, MaxPooling2D\n",
    "from tensorflow.keras.models import Sequential\n",
    "from tensorflow.keras.applications import VGG16"
   ]
  },
  {
   "cell_type": "markdown",
   "id": "19cedc02-f24b-4b4a-b747-617977315bf8",
   "metadata": {},
   "source": [
    "0 종이류\n",
    "1 플라스틱류\n",
    "2 유리병\n",
    "3 캔류\n",
    "4 고철류\n",
    "5 스티로폼\n",
    "6 도기류\n",
    "7 비닐류\n",
    "8 형광등\n",
    "9 페트병\n",
    "10 나무"
   ]
  },
  {
   "cell_type": "code",
   "execution_count": 111,
   "id": "48d81441-7320-4b22-a8e5-bb9fdca45b2d",
   "metadata": {
    "tags": []
   },
   "outputs": [
    {
     "name": "stdout",
     "output_type": "stream",
     "text": [
      "40391\n",
      "40422\n",
      "42187\n",
      "40086\n",
      "40100\n",
      "40377\n",
      "40262\n",
      "41220\n",
      "40270\n",
      "40036\n",
      "41697\n"
     ]
    }
   ],
   "source": [
    "# 각각의 리스트에 이미지파일명 담기\n",
    "paper_list=glob(\"./_trash/*종이류*/*/*/*.jpg\")\n",
    "plastic_list=glob(\"./_trash/*플라스틱류*/*/*/*.jpg\")\n",
    "glass_list=glob(\"./_trash/*유리병*/*/*/*.jpg\")\n",
    "can_list=glob(\"./_trash/*캔류*/*/*/*.jpg\")\n",
    "metal_list=glob(\"./_trash/*고철류*/*/*/*.jpg\")\n",
    "styrofoam_list=glob(\"./_trash/*스티로폼*/*/*/*.jpg\")\n",
    "pottery_list=glob(\"./_trash/*도기류*/*/*/*.jpg\")\n",
    "vinyl_list=glob(\"./_trash/*비닐류*/*/*/*.jpg\")\n",
    "lamp_list=glob(\"./_trash/*형광등*/*/*/*.jpg\")\n",
    "pet_list=glob(\"./_trash/*페트병*/*/*/*.jpg\")\n",
    "tree_list=glob(\"./_trash/*나무*/*/*/*.jpg\")\n",
    "\n",
    "# 각 리스트의 개수\n",
    "print(len(paper_list))\n",
    "print(len(plastic_list))\n",
    "print(len(glass_list))\n",
    "print(len(can_list))\n",
    "print(len(metal_list))\n",
    "print(len(styrofoam_list))\n",
    "print(len(pottery_list))\n",
    "print(len(vinyl_list))\n",
    "print(len(lamp_list))\n",
    "print(len(pet_list))\n",
    "print(len(tree_list))"
   ]
  },
  {
   "cell_type": "code",
   "execution_count": 112,
   "id": "1a88246f-fed9-4dc8-bde9-f67629830455",
   "metadata": {
    "tags": []
   },
   "outputs": [
    {
     "name": "stdout",
     "output_type": "stream",
     "text": [
      "447048\n"
     ]
    }
   ],
   "source": [
    "data_list=list(chain(\n",
    "    paper_list,\n",
    "    plastic_list,\n",
    "    glass_list,\n",
    "    can_list,\n",
    "    metal_list,\n",
    "    styrofoam_list,\n",
    "    pottery_list,\n",
    "    vinyl_list,\n",
    "    lamp_list,\n",
    "    pet_list,\n",
    "    tree_list\n",
    "))\n",
    "print(len(data_list))"
   ]
  },
  {
   "cell_type": "code",
   "execution_count": 113,
   "id": "478bb591-973f-492a-bf85-eb56e1c4408c",
   "metadata": {},
   "outputs": [],
   "source": [
    "# 데이터셋 개수 설정함수\n",
    "def make_dl(n):\n",
    "    paper_list_n=paper_list[:n]\n",
    "    plastic_list_n=plastic_list[:n]\n",
    "    glass_list_n=glass_list[:n]\n",
    "    can_list_n=can_list[:n]\n",
    "    metal_list_n=metal_list[:n]\n",
    "    styrofoam_list_n=styrofoam_list[:n]\n",
    "    pottery_list_n=pottery_list[:n]\n",
    "    vinyl_list_n=vinyl_list[:n]\n",
    "    lamp_list_n=lamp_list[:n]\n",
    "    pet_list_n=pet_list[:n]\n",
    "    tree_list_n=tree_list[:n]\n",
    "    data_list_n=list(chain(\n",
    "        paper_list_n, \n",
    "        plastic_list_n, \n",
    "        glass_list_n, \n",
    "        can_list_n, \n",
    "        metal_list_n, \n",
    "        styrofoam_list_n, \n",
    "        pottery_list_n, \n",
    "        vinyl_list_n, \n",
    "        lamp_list_n,\n",
    "        pet_list_n,\n",
    "        tree_list_n\n",
    "    ))\n",
    "    return data_list_n"
   ]
  },
  {
   "cell_type": "code",
   "execution_count": 114,
   "id": "8b032e97-bb98-49a4-a197-16b422e55804",
   "metadata": {
    "tags": []
   },
   "outputs": [],
   "source": [
    "# target리스트 생성함수\n",
    "def make_target(data_list):\n",
    "    target=[]\n",
    "    for idx, val in enumerate(data_list):\n",
    "        if '종이류' in val:\n",
    "            target.append(0)\n",
    "        elif '플라스틱' in val:\n",
    "            target.append(1)\n",
    "        elif '유리병' in val:\n",
    "            target.append(2)\n",
    "        elif '캔류' in val:\n",
    "            target.append(3)\n",
    "        elif '고철류' in val:\n",
    "            target.append(4)\n",
    "        elif '스티로폼' in val:\n",
    "            target.append(5)\n",
    "        elif '도기류' in val:\n",
    "            target.append(6)\n",
    "        elif '비닐류' in val:\n",
    "            target.append(7)\n",
    "        elif '형광등' in val:\n",
    "            target.append(8)\n",
    "        elif '페트병' in val:\n",
    "            target.append(9)\n",
    "        elif '나무' in val:\n",
    "            target.append(10)\n",
    "    return target"
   ]
  },
  {
   "cell_type": "code",
   "execution_count": 115,
   "id": "1f4736b6-d15a-4a44-ac3d-e156ac918baf",
   "metadata": {
    "tags": []
   },
   "outputs": [],
   "source": [
    "# 함수 x = scaled_data_list \n",
    "def scaling(data_list):\n",
    "    X = np.zeros((len(data_list),150,150,3))\n",
    "    for idx, file in enumerate(data_list):\n",
    "        dt = plt.imread(file)\n",
    "        dt = cv.resize(dt, (150,150)).reshape(1,150,150,-1)\n",
    "        X[idx] = dt[:,:,:,:3]\n",
    "    return X"
   ]
  },
  {
   "cell_type": "code",
   "execution_count": 116,
   "id": "5b5efee0-ba5a-412b-aceb-d11f9a4a5733",
   "metadata": {
    "tags": []
   },
   "outputs": [],
   "source": [
    "# 정수형클래스 레이블의 한글명, 이미지를 반환\n",
    "def what(image):\n",
    "    img=plt.imread(image)\n",
    "    dt=cv.resize(img,(150,150)).reshape(1,150,150,-1)\n",
    "    dt=dt[:,:,:,:3]\n",
    "    dt_trans = conv_base.predict(dt)\n",
    "    argmax = np.argmax(model.predict(dt_trans))\n",
    "    if argmax==0:\n",
    "        print(plt.imshow(img))\n",
    "        return \"종이류\"\n",
    "    elif argmax==1:\n",
    "        print(plt.imshow(img))\n",
    "        return \"플라스틱류\", \n",
    "    elif argmax==2:\n",
    "        print(plt.imshow(img))\n",
    "        return \"유리병\"\n",
    "    elif argmax==3:\n",
    "        print(plt.imshow(img))\n",
    "        return \"캔류\"\n",
    "    elif argmax==4:\n",
    "        print(plt.imshow(img))\n",
    "        return \"고철류\"\n",
    "    elif argmax==5:\n",
    "        print(plt.imshow(img))\n",
    "        return \"스티로폼\"\n",
    "    elif argmax==6:\n",
    "        print(plt.imshow(img))\n",
    "        return \"도기류\"\n",
    "    elif argmax==7:\n",
    "        print(plt.imshow(img))\n",
    "        return \"비닐류\"\n",
    "    elif argmax==8:\n",
    "        print(plt.imshow(img))\n",
    "        return \"형광등\"\n",
    "    elif argmax==9:\n",
    "        print(plt.imshow(img))\n",
    "        return \"페트병\"\n",
    "    elif argmax==10:\n",
    "        print(plt.imshow(img))\n",
    "        return \"나무\""
   ]
  },
  {
   "cell_type": "code",
   "execution_count": 117,
   "id": "8bfaae2d-b332-4125-8fde-62f30eb477e1",
   "metadata": {
    "tags": []
   },
   "outputs": [],
   "source": [
    "## 실제 학습 코드"
   ]
  },
  {
   "cell_type": "code",
   "execution_count": 118,
   "id": "ed09fb2d-7c9a-4ff8-b407-448fd321636e",
   "metadata": {
    "tags": []
   },
   "outputs": [
    {
     "name": "stdout",
     "output_type": "stream",
     "text": [
      "5500\n"
     ]
    }
   ],
   "source": [
    "# n=500\n",
    "# 각 분류당 n개 추출해서 data_list로 병합\n",
    "data_list=make_dl(500)\n",
    "\n",
    "# target 생성\n",
    "target=make_target(data_list)\n",
    "\n",
    "# 총 데이터셋 개수\n",
    "print(len(data_list))"
   ]
  },
  {
   "cell_type": "code",
   "execution_count": 119,
   "id": "a94f9697-5cf5-4df7-9ee2-51de7bb267fc",
   "metadata": {
    "tags": []
   },
   "outputs": [],
   "source": [
    "# 정수형클래스 레이블을 원-핫 인코딩 벡터로 변환하는 함수\n",
    "y = np.array(target)\n",
    "y = to_categorical(y)"
   ]
  },
  {
   "cell_type": "code",
   "execution_count": 120,
   "id": "96b51f0a-60cf-454a-8b05-fcb12e531545",
   "metadata": {
    "tags": []
   },
   "outputs": [],
   "source": [
    "# data_list를 이용해 스케일링\n",
    "X=scaling(data_list)"
   ]
  },
  {
   "cell_type": "code",
   "execution_count": 121,
   "id": "9f52dbce-5edb-4d42-bc8a-61a6d895e8ab",
   "metadata": {
    "tags": []
   },
   "outputs": [],
   "source": [
    "X_, X_test, y_, y_test = train_test_split(X, y, test_size=.2)"
   ]
  },
  {
   "cell_type": "code",
   "execution_count": 122,
   "id": "771a6bec-ad34-4da2-a56a-dc85b9e30f1a",
   "metadata": {
    "tags": []
   },
   "outputs": [],
   "source": [
    "X_train, X_validation, y_train, y_validation = train_test_split(X_, y_)"
   ]
  },
  {
   "cell_type": "code",
   "execution_count": 123,
   "id": "d614390c-9b1b-4bba-bdc2-70533d45893e",
   "metadata": {
    "tags": []
   },
   "outputs": [
    {
     "name": "stdout",
     "output_type": "stream",
     "text": [
      "(1100, 150, 150, 3)\n",
      "(1100, 11)\n",
      "(3300, 150, 150, 3)\n",
      "(3300, 11)\n",
      "(1100, 150, 150, 3)\n",
      "(1100, 11)\n"
     ]
    }
   ],
   "source": [
    "print(X_test.shape)\n",
    "print(y_test.shape)\n",
    "print(X_train.shape)\n",
    "print(y_train.shape)\n",
    "print(X_validation.shape)\n",
    "print(y_validation.shape)"
   ]
  },
  {
   "cell_type": "code",
   "execution_count": 124,
   "id": "408986db-a341-4ce9-81b6-59293425d5a0",
   "metadata": {
    "tags": []
   },
   "outputs": [
    {
     "name": "stdout",
     "output_type": "stream",
     "text": [
      "Model: \"vgg16\"\n",
      "_________________________________________________________________\n",
      " Layer (type)                Output Shape              Param #   \n",
      "=================================================================\n",
      " input_4 (InputLayer)        [(None, 150, 150, 3)]     0         \n",
      "                                                                 \n",
      " block1_conv1 (Conv2D)       (None, 150, 150, 64)      1792      \n",
      "                                                                 \n",
      " block1_conv2 (Conv2D)       (None, 150, 150, 64)      36928     \n",
      "                                                                 \n",
      " block1_pool (MaxPooling2D)  (None, 75, 75, 64)        0         \n",
      "                                                                 \n",
      " block2_conv1 (Conv2D)       (None, 75, 75, 128)       73856     \n",
      "                                                                 \n",
      " block2_conv2 (Conv2D)       (None, 75, 75, 128)       147584    \n",
      "                                                                 \n",
      " block2_pool (MaxPooling2D)  (None, 37, 37, 128)       0         \n",
      "                                                                 \n",
      " block3_conv1 (Conv2D)       (None, 37, 37, 256)       295168    \n",
      "                                                                 \n",
      " block3_conv2 (Conv2D)       (None, 37, 37, 256)       590080    \n",
      "                                                                 \n",
      " block3_conv3 (Conv2D)       (None, 37, 37, 256)       590080    \n",
      "                                                                 \n",
      " block3_pool (MaxPooling2D)  (None, 18, 18, 256)       0         \n",
      "                                                                 \n",
      " block4_conv1 (Conv2D)       (None, 18, 18, 512)       1180160   \n",
      "                                                                 \n",
      " block4_conv2 (Conv2D)       (None, 18, 18, 512)       2359808   \n",
      "                                                                 \n",
      " block4_conv3 (Conv2D)       (None, 18, 18, 512)       2359808   \n",
      "                                                                 \n",
      " block4_pool (MaxPooling2D)  (None, 9, 9, 512)         0         \n",
      "                                                                 \n",
      " block5_conv1 (Conv2D)       (None, 9, 9, 512)         2359808   \n",
      "                                                                 \n",
      " block5_conv2 (Conv2D)       (None, 9, 9, 512)         2359808   \n",
      "                                                                 \n",
      " block5_conv3 (Conv2D)       (None, 9, 9, 512)         2359808   \n",
      "                                                                 \n",
      " block5_pool (MaxPooling2D)  (None, 4, 4, 512)         0         \n",
      "                                                                 \n",
      "=================================================================\n",
      "Total params: 14714688 (56.13 MB)\n",
      "Trainable params: 14714688 (56.13 MB)\n",
      "Non-trainable params: 0 (0.00 Byte)\n",
      "_________________________________________________________________\n"
     ]
    }
   ],
   "source": [
    "vgg = VGG16(include_top=False, input_shape=(150,150,3))\n",
    "vgg.summary()"
   ]
  },
  {
   "cell_type": "code",
   "execution_count": 125,
   "id": "3b3be297-974a-47e5-8383-ef7417551af3",
   "metadata": {
    "tags": []
   },
   "outputs": [
    {
     "name": "stdout",
     "output_type": "stream",
     "text": [
      "104/104 [==============================] - 73s 690ms/step\n",
      "35/35 [==============================] - 24s 671ms/step\n"
     ]
    }
   ],
   "source": [
    "X_train_trans = vgg.predict(X_train)\n",
    "X_validation_trans = vgg.predict(X_validation)"
   ]
  },
  {
   "cell_type": "code",
   "execution_count": 126,
   "id": "9c5a9660-2051-43a2-8070-e692941c883c",
   "metadata": {
    "tags": []
   },
   "outputs": [],
   "source": [
    "model = Sequential(\n",
    "    [\n",
    "        Flatten(input_shape=X_train_trans.shape[1:]),\n",
    "        Dense(256,activation='relu'),\n",
    "        BatchNormalization(),\n",
    "        Dense(128,activation='relu'),\n",
    "        BatchNormalization(),\n",
    "        Dense(64,activation='relu'),\n",
    "        BatchNormalization(),\n",
    "        Dense(32,activation='relu'),\n",
    "        BatchNormalization(),\n",
    "        Dense(11\n",
    "              ,activation='softmax')\n",
    "    ]\n",
    ")"
   ]
  },
  {
   "cell_type": "code",
   "execution_count": 127,
   "id": "d5db8302-0a68-4f8c-a907-3dae127160c3",
   "metadata": {
    "tags": []
   },
   "outputs": [
    {
     "name": "stdout",
     "output_type": "stream",
     "text": [
      "WARNING:tensorflow:From C:\\Users\\user\\anaconda3\\Lib\\site-packages\\keras\\src\\optimizers\\__init__.py:309: The name tf.train.Optimizer is deprecated. Please use tf.compat.v1.train.Optimizer instead.\n",
      "\n"
     ]
    }
   ],
   "source": [
    "model.compile(optimizer='adam',loss='categorical_crossentropy',metrics='accuracy')"
   ]
  },
  {
   "cell_type": "code",
   "execution_count": 128,
   "id": "6bc98612-a7c3-40c9-907a-d8e4bf0327fc",
   "metadata": {
    "tags": []
   },
   "outputs": [
    {
     "name": "stdout",
     "output_type": "stream",
     "text": [
      "Epoch 1/20\n",
      "WARNING:tensorflow:From C:\\Users\\user\\anaconda3\\Lib\\site-packages\\keras\\src\\utils\\tf_utils.py:492: The name tf.ragged.RaggedTensorValue is deprecated. Please use tf.compat.v1.ragged.RaggedTensorValue instead.\n",
      "\n",
      "WARNING:tensorflow:From C:\\Users\\user\\anaconda3\\Lib\\site-packages\\keras\\src\\engine\\base_layer_utils.py:384: The name tf.executing_eagerly_outside_functions is deprecated. Please use tf.compat.v1.executing_eagerly_outside_functions instead.\n",
      "\n",
      "104/104 [==============================] - 6s 22ms/step - loss: 1.5380 - accuracy: 0.5106 - val_loss: 1.2523 - val_accuracy: 0.6145\n",
      "Epoch 2/20\n",
      "104/104 [==============================] - 2s 21ms/step - loss: 0.7674 - accuracy: 0.7764 - val_loss: 0.9792 - val_accuracy: 0.6973\n",
      "Epoch 3/20\n",
      "104/104 [==============================] - 2s 21ms/step - loss: 0.4650 - accuracy: 0.8712 - val_loss: 0.9111 - val_accuracy: 0.7182\n",
      "Epoch 4/20\n",
      "104/104 [==============================] - 2s 20ms/step - loss: 0.2949 - accuracy: 0.9239 - val_loss: 0.8761 - val_accuracy: 0.7464\n",
      "Epoch 5/20\n",
      "104/104 [==============================] - 2s 20ms/step - loss: 0.2132 - accuracy: 0.9436 - val_loss: 0.9499 - val_accuracy: 0.7400\n",
      "Epoch 6/20\n",
      "104/104 [==============================] - 2s 20ms/step - loss: 0.1782 - accuracy: 0.9561 - val_loss: 0.9242 - val_accuracy: 0.7400\n",
      "Epoch 7/20\n",
      "104/104 [==============================] - 2s 20ms/step - loss: 0.1420 - accuracy: 0.9639 - val_loss: 0.9971 - val_accuracy: 0.7445\n",
      "Epoch 8/20\n",
      "104/104 [==============================] - 2s 20ms/step - loss: 0.1212 - accuracy: 0.9676 - val_loss: 0.9938 - val_accuracy: 0.7391\n",
      "Epoch 9/20\n",
      "104/104 [==============================] - 2s 20ms/step - loss: 0.0784 - accuracy: 0.9806 - val_loss: 1.0219 - val_accuracy: 0.7382\n",
      "Epoch 10/20\n",
      "104/104 [==============================] - 2s 20ms/step - loss: 0.0757 - accuracy: 0.9800 - val_loss: 1.0309 - val_accuracy: 0.7218\n",
      "Epoch 11/20\n",
      "104/104 [==============================] - 2s 20ms/step - loss: 0.0720 - accuracy: 0.9809 - val_loss: 1.0580 - val_accuracy: 0.7309\n",
      "Epoch 12/20\n",
      "104/104 [==============================] - 2s 20ms/step - loss: 0.0673 - accuracy: 0.9806 - val_loss: 1.0126 - val_accuracy: 0.7582\n",
      "Epoch 13/20\n",
      "104/104 [==============================] - 2s 20ms/step - loss: 0.0664 - accuracy: 0.9803 - val_loss: 1.0898 - val_accuracy: 0.7318\n",
      "Epoch 14/20\n",
      "104/104 [==============================] - 2s 20ms/step - loss: 0.0454 - accuracy: 0.9870 - val_loss: 1.0411 - val_accuracy: 0.7509\n",
      "Epoch 15/20\n",
      "104/104 [==============================] - 2s 20ms/step - loss: 0.0688 - accuracy: 0.9818 - val_loss: 1.0514 - val_accuracy: 0.7364\n",
      "Epoch 16/20\n",
      "104/104 [==============================] - 2s 20ms/step - loss: 0.0448 - accuracy: 0.9897 - val_loss: 1.0875 - val_accuracy: 0.7300\n",
      "Epoch 17/20\n",
      "104/104 [==============================] - 2s 20ms/step - loss: 0.0551 - accuracy: 0.9809 - val_loss: 1.1425 - val_accuracy: 0.7436\n",
      "Epoch 18/20\n",
      "104/104 [==============================] - 2s 20ms/step - loss: 0.0408 - accuracy: 0.9894 - val_loss: 1.1498 - val_accuracy: 0.7482\n",
      "Epoch 19/20\n",
      "104/104 [==============================] - 2s 20ms/step - loss: 0.0529 - accuracy: 0.9845 - val_loss: 1.1005 - val_accuracy: 0.7509\n",
      "Epoch 20/20\n",
      "104/104 [==============================] - 2s 20ms/step - loss: 0.0564 - accuracy: 0.9858 - val_loss: 1.1066 - val_accuracy: 0.7445\n"
     ]
    },
    {
     "data": {
      "text/plain": [
       "<keras.src.callbacks.History at 0x22c03559850>"
      ]
     },
     "execution_count": 128,
     "metadata": {},
     "output_type": "execute_result"
    }
   ],
   "source": [
    "model.fit(\n",
    "    X_train_trans,\n",
    "    y_train,\n",
    "    batch_size=32,\n",
    "    epochs=20,\n",
    "    validation_data=(X_validation_trans, y_validation)\n",
    ")"
   ]
  },
  {
   "cell_type": "code",
   "execution_count": 133,
   "id": "9b6aff77-1072-4401-be5d-7149d1deaed7",
   "metadata": {
    "tags": []
   },
   "outputs": [
    {
     "name": "stdout",
     "output_type": "stream",
     "text": [
      "1/1 [==============================] - 0s 61ms/step\n",
      "1/1 [==============================] - 0s 17ms/step\n",
      "AxesImage(size=(1300, 838))\n"
     ]
    },
    {
     "data": {
      "text/plain": [
       "'나무'"
      ]
     },
     "execution_count": 133,
     "metadata": {},
     "output_type": "execute_result"
    },
    {
     "data": {
      "image/png": "[encoded data removed]",
      "text/plain": [
       "<Figure size 640x480 with 1 Axes>"
      ]
     },
     "metadata": {},
     "output_type": "display_data"
    }
   ],
   "source": [
    "what('3.jpg')"
   ]
  }
 ],
 "metadata": {
  "kernelspec": {
   "display_name": "Python 3 (ipykernel)",
   "language": "python",
   "name": "python3"
  },
  "language_info": {
   "codemirror_mode": {
    "name": "ipython",
    "version": 3
   },
   "file_extension": ".py",
   "mimetype": "text/x-python",
   "name": "python",
   "nbconvert_exporter": "python",
   "pygments_lexer": "ipython3",
   "version": "3.11.4"
  }
 },
 "nbformat": 4,
 "nbformat_minor": 5
}
