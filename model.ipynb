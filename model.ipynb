{
 "cells": [
  {
   "cell_type": "code",
   "execution_count": 71,
   "id": "15ff1e0b-2bae-499d-ab1e-7657ab7c7e81",
   "metadata": {},
   "outputs": [],
   "source": [
    "import pandas as pd\n",
    "import numpy as np\n",
    "import os\n",
    "import pickle\n",
    "import tensorflow as tf\n",
    "from tensorflow import keras\n",
    "import matplotlib.pyplot as plt\n",
    "from itertools import chain\n",
    "import cv2 as cv\n",
    "from glob import glob\n",
    "\n",
    "from sklearn.model_selection import train_test_split\n",
    "from sklearn.model_selection import cross_validate\n",
    "from sklearn.linear_model import SGDClassifier\n",
    "\n",
    "from tensorflow.keras.models import Sequential\n",
    "from tensorflow.keras.applications import VGG16\n",
    "from tensorflow.keras.utils import to_categorical, pad_sequences, plot_model, to_categorical\n",
    "from tensorflow.keras.layers import Dense, Conv1D, MaxPooling1D, BatchNormalization, Embedding, Flatten, Conv2D, MaxPooling2D"
   ]
  },
  {
   "cell_type": "markdown",
   "id": "19cedc02-f24b-4b4a-b747-617977315bf8",
   "metadata": {},
   "source": [
    "0 종이류\n",
    "1 플라스틱류\n",
    "2 유리병\n",
    "3 캔류\n",
    "4 고철류\n",
    "5 스티로폼\n",
    "6 도기류\n",
    "7 비닐류\n",
    "8 형광등\n",
    "9 페트병\n",
    "10 나무"
   ]
  },
  {
   "cell_type": "code",
   "execution_count": 2,
   "id": "1f4736b6-d15a-4a44-ac3d-e156ac918baf",
   "metadata": {
    "tags": []
   },
   "outputs": [],
   "source": [
    "# 이미지 (150, 150)로 리사이징 \n",
    "def scaling(data_list):\n",
    "    X = np.zeros((len(data_list),150,150,3))\n",
    "    for idx, file in enumerate(data_list):\n",
    "        dt = plt.imread(file)\n",
    "        dt = cv.resize(dt, (150,150)).reshape(1,150,150,-1)\n",
    "        X[idx] = dt[:,:,:,:3]\n",
    "    return X"
   ]
  },
  {
   "cell_type": "code",
   "execution_count": 32,
   "id": "5b5efee0-ba5a-412b-aceb-d11f9a4a5733",
   "metadata": {
    "tags": []
   },
   "outputs": [],
   "source": [
    "# image 파라미터에 이미지경로를 넣거나 imread를 통해 읽어내면 레이블의 한글명, 이미지를 반환\n",
    "def what(image):\n",
    "    if isinstance(image, np.ndarray):\n",
    "        img=image.astype(int)\n",
    "        dt=cv.resize(img,(150,150)).reshape(1,150,150,-1)\n",
    "        dt=dt[:,:,:,:3]\n",
    "        dt_trans = vgg.predict(dt)\n",
    "        argmax = np.argmax(model.predict(dt_trans))\n",
    "        return label_by_index(argmax), plt.imshow(img)\n",
    "    else:\n",
    "        img=plt.imread(image)\n",
    "        dt=cv.resize(img,(150,150)).reshape(1,150,150,-1)\n",
    "        dt=dt[:,:,:,:3]\n",
    "        dt_trans = vgg.predict(dt)\n",
    "        argmax = np.argmax(model.predict(dt_trans))\n",
    "        print(model.predict(dt_trans))\n",
    "        return label_by_index(argmax), plt.imshow(img)"
   ]
  },
  {
   "cell_type": "markdown",
   "id": "98e03120-20ba-452a-9063-b7c50c8f885a",
   "metadata": {},
   "source": [
    "## VGG16 모델 - 11개의 카테고리\n",
    "500개씩 총 5500개 데이터"
   ]
  },
  {
   "cell_type": "code",
   "execution_count": 17,
   "id": "e810d2e9-7af2-48ac-be17-0d14aa2ed5fe",
   "metadata": {
    "tags": []
   },
   "outputs": [
    {
     "name": "stdout",
     "output_type": "stream",
     "text": [
      "40331\n",
      "40422\n",
      "42187\n",
      "36874\n",
      "40100\n",
      "40377\n",
      "40262\n",
      "41220\n",
      "40270\n",
      "40036\n",
      "41697\n"
     ]
    }
   ],
   "source": [
    "# 각각의 리스트에 이미지파일명 담기\n",
    "paper_list=glob(\"./_trash/*종이류*/*/*/*.jpg\")\n",
    "plastic_list=glob(\"./_trash/*플라스틱류*/*/*/*.jpg\")\n",
    "glass_list=glob(\"./_trash/*유리병*/*/*/*.jpg\")\n",
    "can_list=glob(\"./_trash/*캔류*/*/*/*.jpg\")\n",
    "metal_list=glob(\"./_trash/*고철류*/*/*/*.jpg\")\n",
    "styrofoam_list=glob(\"./_trash/*스티로폼*/*/*/*.jpg\")\n",
    "pottery_list=glob(\"./_trash/*도기류*/*/*/*.jpg\")\n",
    "vinyl_list=glob(\"./_trash/*비닐류*/*/*/*.jpg\")\n",
    "lamp_list=glob(\"./_trash/*형광등*/*/*/*.jpg\")\n",
    "pet_list=glob(\"./_trash/*페트병*/*/*/*.jpg\")\n",
    "tree_list=glob(\"./_trash/*나무*/*/*/*.jpg\")\n",
    "\n",
    "# 각 리스트의 개수\n",
    "print(len(paper_list))\n",
    "print(len(plastic_list))\n",
    "print(len(glass_list))\n",
    "print(len(can_list))\n",
    "print(len(metal_list))\n",
    "print(len(styrofoam_list))\n",
    "print(len(pottery_list))\n",
    "print(len(vinyl_list))\n",
    "print(len(lamp_list))\n",
    "print(len(pet_list))\n",
    "print(len(tree_list))"
   ]
  },
  {
   "cell_type": "code",
   "execution_count": 18,
   "id": "fc005aa5-49d2-4fd4-ac57-8aac9b3d68c0",
   "metadata": {
    "tags": []
   },
   "outputs": [
    {
     "name": "stdout",
     "output_type": "stream",
     "text": [
      "443776\n"
     ]
    }
   ],
   "source": [
    "data_list=list(chain(\n",
    "    paper_list,\n",
    "    plastic_list,\n",
    "    glass_list,\n",
    "    can_list,\n",
    "    metal_list,\n",
    "    styrofoam_list,\n",
    "    pottery_list,\n",
    "    vinyl_list,\n",
    "    lamp_list,\n",
    "    pet_list,\n",
    "    tree_list\n",
    "))\n",
    "print(len(data_list))"
   ]
  },
  {
   "cell_type": "code",
   "execution_count": 71,
   "id": "51065dcc-f7cd-4efe-9488-60321c557da4",
   "metadata": {},
   "outputs": [],
   "source": [
    "# 데이터셋 개수 설정함수\n",
    "def make_dl(n):\n",
    "    paper_list_n=paper_list[:n]\n",
    "    plastic_list_n=plastic_list[:n]\n",
    "    glass_list_n=glass_list[:n]\n",
    "    can_list_n=can_list[:n]\n",
    "    metal_list_n=metal_list[:n]\n",
    "    styrofoam_list_n=styrofoam_list[:n]\n",
    "    pottery_list_n=pottery_list[:n]\n",
    "    vinyl_list_n=vinyl_list[:n]\n",
    "    lamp_list_n=lamp_list[:n]\n",
    "    pet_list_n=pet_list[:n]\n",
    "    tree_list_n=tree_list[:n]\n",
    "    data_list_n=list(chain(\n",
    "        paper_list_n, \n",
    "        plastic_list_n, \n",
    "        glass_list_n, \n",
    "        can_list_n, \n",
    "        metal_list_n, \n",
    "        styrofoam_list_n, \n",
    "        pottery_list_n, \n",
    "        vinyl_list_n, \n",
    "        lamp_list_n,\n",
    "        pet_list_n,\n",
    "        tree_list_n\n",
    "    ))\n",
    "    return data_list_n"
   ]
  },
  {
   "cell_type": "code",
   "execution_count": 72,
   "id": "46fb9c0c-0fbe-490e-975e-006f613f3318",
   "metadata": {
    "tags": []
   },
   "outputs": [],
   "source": [
    "# target리스트 생성함수\n",
    "def make_target(data_list):\n",
    "    target=[]\n",
    "    for idx, val in enumerate(data_list):\n",
    "        if '종이류' in val:\n",
    "            target.append(0)\n",
    "        elif '플라스틱' in val:\n",
    "            target.append(1)\n",
    "        elif '유리병' in val:\n",
    "            target.append(2)\n",
    "        elif '캔류' in val:\n",
    "            target.append(3)\n",
    "        elif '고철류' in val:\n",
    "            target.append(4)\n",
    "        elif '스티로폼' in val:\n",
    "            target.append(5)\n",
    "        elif '도기류' in val:\n",
    "            target.append(6)\n",
    "        elif '비닐류' in val:\n",
    "            target.append(7)\n",
    "        elif '형광등' in val:\n",
    "            target.append(8)\n",
    "        elif '페트병' in val:\n",
    "            target.append(9)\n",
    "        elif '나무' in val:\n",
    "            target.append(10)\n",
    "    return target"
   ]
  },
  {
   "cell_type": "code",
   "execution_count": 73,
   "id": "d1b1a8ce-30a3-4074-89fe-806b92ba07af",
   "metadata": {
    "tags": []
   },
   "outputs": [],
   "source": [
    "# 레이블\n",
    "def label_by_index(index):\n",
    "    labels = [\"종이류\", \"플라스틱류\", \"유리병\", \"캔류\", \"고철류\", \"스티로폼\", \"도기류\", \"비닐류\", \"형광등\", \"페트병\", \"나무\"]\n",
    "    return labels[index]"
   ]
  },
  {
   "cell_type": "code",
   "execution_count": 74,
   "id": "6db40357-a161-49b6-bb51-e67e49282624",
   "metadata": {
    "editable": true,
    "slideshow": {
     "slide_type": ""
    },
    "tags": []
   },
   "outputs": [
    {
     "name": "stdout",
     "output_type": "stream",
     "text": [
      "5500\n"
     ]
    }
   ],
   "source": [
    "n=500\n",
    "\n",
    "# 각 분류당 n개 추출해서 data_list로 병합\n",
    "data_list=make_dl(n)\n",
    "\n",
    "# target 생성\n",
    "target=make_target(data_list)\n",
    "\n",
    "# 총 데이터셋 개수\n",
    "print(len(data_list))"
   ]
  },
  {
   "cell_type": "code",
   "execution_count": 75,
   "id": "846c9680-d10f-4175-9bc6-38478eb8ab4a",
   "metadata": {
    "tags": []
   },
   "outputs": [],
   "source": [
    "# 정수형클래스 레이블을 원-핫 인코딩 벡터로 변환하는 함수\n",
    "y = np.array(target)\n",
    "y = to_categorical(y)"
   ]
  },
  {
   "cell_type": "code",
   "execution_count": 76,
   "id": "bfadbd0c-c6bd-4571-bb38-f28b0e0c9c43",
   "metadata": {
    "scrolled": true,
    "tags": []
   },
   "outputs": [],
   "source": [
    "X=scaling(data_list)"
   ]
  },
  {
   "cell_type": "code",
   "execution_count": 77,
   "id": "6fcc2987-4807-44de-80ac-c0b48cfce8b8",
   "metadata": {
    "tags": []
   },
   "outputs": [],
   "source": [
    "X_, X_test, y_, y_test = train_test_split(X, y, test_size=.2)"
   ]
  },
  {
   "cell_type": "code",
   "execution_count": 78,
   "id": "21cfa45c-4cd0-43b8-a630-f661b19aa716",
   "metadata": {
    "tags": []
   },
   "outputs": [],
   "source": [
    "X_train, X_validation, y_train, y_validation = train_test_split(X_, y_)"
   ]
  },
  {
   "cell_type": "code",
   "execution_count": 181,
   "id": "bb0a277e-9283-4c0a-a48e-1fa779d641ff",
   "metadata": {
    "tags": []
   },
   "outputs": [
    {
     "name": "stdout",
     "output_type": "stream",
     "text": [
      "(1100, 150, 150, 3)\n",
      "(1100, 11)\n",
      "(3300, 150, 150, 3)\n",
      "(3300, 11)\n",
      "(1100, 150, 150, 3)\n",
      "(1100, 11)\n"
     ]
    }
   ],
   "source": [
    "print(X_test.shape)\n",
    "print(y_test.shape)\n",
    "print(X_train.shape)\n",
    "print(y_train.shape)\n",
    "print(X_validation.shape)\n",
    "print(y_validation.shape)"
   ]
  },
  {
   "cell_type": "code",
   "execution_count": 182,
   "id": "737247b0-056b-42c3-bd29-b9c6838a5be4",
   "metadata": {
    "tags": []
   },
   "outputs": [
    {
     "name": "stdout",
     "output_type": "stream",
     "text": [
      "Model: \"vgg16\"\n",
      "_________________________________________________________________\n",
      " Layer (type)                Output Shape              Param #   \n",
      "=================================================================\n",
      " input_6 (InputLayer)        [(None, 150, 150, 3)]     0         \n",
      "                                                                 \n",
      " block1_conv1 (Conv2D)       (None, 150, 150, 64)      1792      \n",
      "                                                                 \n",
      " block1_conv2 (Conv2D)       (None, 150, 150, 64)      36928     \n",
      "                                                                 \n",
      " block1_pool (MaxPooling2D)  (None, 75, 75, 64)        0         \n",
      "                                                                 \n",
      " block2_conv1 (Conv2D)       (None, 75, 75, 128)       73856     \n",
      "                                                                 \n",
      " block2_conv2 (Conv2D)       (None, 75, 75, 128)       147584    \n",
      "                                                                 \n",
      " block2_pool (MaxPooling2D)  (None, 37, 37, 128)       0         \n",
      "                                                                 \n",
      " block3_conv1 (Conv2D)       (None, 37, 37, 256)       295168    \n",
      "                                                                 \n",
      " block3_conv2 (Conv2D)       (None, 37, 37, 256)       590080    \n",
      "                                                                 \n",
      " block3_conv3 (Conv2D)       (None, 37, 37, 256)       590080    \n",
      "                                                                 \n",
      " block3_pool (MaxPooling2D)  (None, 18, 18, 256)       0         \n",
      "                                                                 \n",
      " block4_conv1 (Conv2D)       (None, 18, 18, 512)       1180160   \n",
      "                                                                 \n",
      " block4_conv2 (Conv2D)       (None, 18, 18, 512)       2359808   \n",
      "                                                                 \n",
      " block4_conv3 (Conv2D)       (None, 18, 18, 512)       2359808   \n",
      "                                                                 \n",
      " block4_pool (MaxPooling2D)  (None, 9, 9, 512)         0         \n",
      "                                                                 \n",
      " block5_conv1 (Conv2D)       (None, 9, 9, 512)         2359808   \n",
      "                                                                 \n",
      " block5_conv2 (Conv2D)       (None, 9, 9, 512)         2359808   \n",
      "                                                                 \n",
      " block5_conv3 (Conv2D)       (None, 9, 9, 512)         2359808   \n",
      "                                                                 \n",
      " block5_pool (MaxPooling2D)  (None, 4, 4, 512)         0         \n",
      "                                                                 \n",
      "=================================================================\n",
      "Total params: 14714688 (56.13 MB)\n",
      "Trainable params: 14714688 (56.13 MB)\n",
      "Non-trainable params: 0 (0.00 Byte)\n",
      "_________________________________________________________________\n"
     ]
    }
   ],
   "source": [
    "vgg = VGG16(include_top=False, input_shape=(150,150,3))\n",
    "vgg.summary()"
   ]
  },
  {
   "cell_type": "code",
   "execution_count": 183,
   "id": "e17a00d1-4615-423c-b02c-b2db1bbcba36",
   "metadata": {
    "tags": []
   },
   "outputs": [
    {
     "name": "stdout",
     "output_type": "stream",
     "text": [
      "104/104 [==============================] - 70s 669ms/step\n",
      "35/35 [==============================] - 23s 661ms/step\n"
     ]
    }
   ],
   "source": [
    "X_train_trans = vgg.predict(X_train)\n",
    "X_validation_trans = vgg.predict(X_validation)"
   ]
  },
  {
   "cell_type": "code",
   "execution_count": 184,
   "id": "c74ded66-8143-4c10-aafd-dbc8d8577416",
   "metadata": {
    "tags": []
   },
   "outputs": [],
   "source": [
    "model = Sequential(\n",
    "    [\n",
    "        Flatten(input_shape=X_train_trans.shape[1:]),\n",
    "        Dense(256,activation='relu'),\n",
    "        BatchNormalization(),\n",
    "        Dense(128,activation='relu'),\n",
    "        BatchNormalization(),\n",
    "        Dense(64,activation='relu'),\n",
    "        BatchNormalization(),\n",
    "        Dense(32,activation='relu'),\n",
    "        BatchNormalization(),\n",
    "        Dense(11\n",
    "              ,activation='softmax')\n",
    "    ]\n",
    ")"
   ]
  },
  {
   "cell_type": "code",
   "execution_count": 185,
   "id": "c43edbe0-629f-4f16-891a-629774c26681",
   "metadata": {
    "tags": []
   },
   "outputs": [],
   "source": [
    "model.compile(optimizer='adam',loss='categorical_crossentropy',metrics='accuracy')"
   ]
  },
  {
   "cell_type": "code",
   "execution_count": 186,
   "id": "84486529-60a8-4647-82c0-9f715bc14139",
   "metadata": {
    "tags": []
   },
   "outputs": [
    {
     "name": "stdout",
     "output_type": "stream",
     "text": [
      "Epoch 1/20\n",
      "104/104 [==============================] - 4s 21ms/step - loss: 1.5337 - accuracy: 0.5142 - val_loss: 1.2370 - val_accuracy: 0.6436\n",
      "Epoch 2/20\n",
      "104/104 [==============================] - 2s 19ms/step - loss: 0.7309 - accuracy: 0.7955 - val_loss: 0.9373 - val_accuracy: 0.7100\n",
      "Epoch 3/20\n",
      "104/104 [==============================] - 2s 19ms/step - loss: 0.3849 - accuracy: 0.9024 - val_loss: 0.8492 - val_accuracy: 0.7436\n",
      "Epoch 4/20\n",
      "104/104 [==============================] - 2s 19ms/step - loss: 0.2556 - accuracy: 0.9355 - val_loss: 0.8163 - val_accuracy: 0.7545\n",
      "Epoch 5/20\n",
      "104/104 [==============================] - 2s 19ms/step - loss: 0.1484 - accuracy: 0.9703 - val_loss: 0.8104 - val_accuracy: 0.7609\n",
      "Epoch 6/20\n",
      "104/104 [==============================] - 2s 19ms/step - loss: 0.1384 - accuracy: 0.9691 - val_loss: 0.8842 - val_accuracy: 0.7373\n",
      "Epoch 7/20\n",
      "104/104 [==============================] - 2s 19ms/step - loss: 0.1006 - accuracy: 0.9779 - val_loss: 0.9168 - val_accuracy: 0.7609\n",
      "Epoch 8/20\n",
      "104/104 [==============================] - 2s 19ms/step - loss: 0.0940 - accuracy: 0.9779 - val_loss: 0.9832 - val_accuracy: 0.7409\n",
      "Epoch 9/20\n",
      "104/104 [==============================] - 2s 19ms/step - loss: 0.0900 - accuracy: 0.9755 - val_loss: 1.0027 - val_accuracy: 0.7427\n",
      "Epoch 10/20\n",
      "104/104 [==============================] - 2s 19ms/step - loss: 0.1101 - accuracy: 0.9685 - val_loss: 0.9457 - val_accuracy: 0.7455\n",
      "Epoch 11/20\n",
      "104/104 [==============================] - 2s 19ms/step - loss: 0.0915 - accuracy: 0.9761 - val_loss: 0.9800 - val_accuracy: 0.7264\n",
      "Epoch 12/20\n",
      "104/104 [==============================] - 2s 19ms/step - loss: 0.0880 - accuracy: 0.9718 - val_loss: 1.0503 - val_accuracy: 0.7264\n",
      "Epoch 13/20\n",
      "104/104 [==============================] - 2s 19ms/step - loss: 0.0578 - accuracy: 0.9858 - val_loss: 0.9913 - val_accuracy: 0.7455\n",
      "Epoch 14/20\n",
      "104/104 [==============================] - 2s 19ms/step - loss: 0.0776 - accuracy: 0.9794 - val_loss: 1.0725 - val_accuracy: 0.7318\n",
      "Epoch 15/20\n",
      "104/104 [==============================] - 2s 19ms/step - loss: 0.0760 - accuracy: 0.9767 - val_loss: 1.0722 - val_accuracy: 0.7245\n",
      "Epoch 16/20\n",
      "104/104 [==============================] - 2s 19ms/step - loss: 0.0629 - accuracy: 0.9836 - val_loss: 1.0256 - val_accuracy: 0.7445\n",
      "Epoch 17/20\n",
      "104/104 [==============================] - 2s 19ms/step - loss: 0.0360 - accuracy: 0.9912 - val_loss: 0.9867 - val_accuracy: 0.7564\n",
      "Epoch 18/20\n",
      "104/104 [==============================] - 2s 19ms/step - loss: 0.0289 - accuracy: 0.9909 - val_loss: 1.0323 - val_accuracy: 0.7473\n",
      "Epoch 19/20\n",
      "104/104 [==============================] - 2s 19ms/step - loss: 0.0456 - accuracy: 0.9858 - val_loss: 1.0701 - val_accuracy: 0.7409\n",
      "Epoch 20/20\n",
      "104/104 [==============================] - 2s 19ms/step - loss: 0.0438 - accuracy: 0.9861 - val_loss: 1.2468 - val_accuracy: 0.7355\n"
     ]
    }
   ],
   "source": [
    "history=model.fit(\n",
    "    X_train_trans,\n",
    "    y_train,\n",
    "    batch_size=32,\n",
    "    epochs=20,\n",
    "    validation_data=(X_validation_trans, y_validation)\n",
    ")"
   ]
  },
  {
   "cell_type": "code",
   "execution_count": 187,
   "id": "f400d402-b7ef-4d4e-a769-a34fad5dd8b1",
   "metadata": {
    "tags": []
   },
   "outputs": [
    {
     "name": "stdout",
     "output_type": "stream",
     "text": [
      "35/35 [==============================] - 22s 615ms/step\n"
     ]
    }
   ],
   "source": [
    "X_test_trans=vgg.predict(X_test)"
   ]
  },
  {
   "cell_type": "code",
   "execution_count": 188,
   "id": "35415572-5a88-49f9-b208-b03330d11d6b",
   "metadata": {
    "tags": []
   },
   "outputs": [
    {
     "name": "stdout",
     "output_type": "stream",
     "text": [
      "35/35 [==============================] - 0s 2ms/step - loss: 1.1605 - accuracy: 0.7473\n"
     ]
    },
    {
     "data": {
      "text/plain": [
       "[1.160548210144043, 0.7472727298736572]"
      ]
     },
     "execution_count": 188,
     "metadata": {},
     "output_type": "execute_result"
    }
   ],
   "source": [
    "model.evaluate(X_test_trans, y_test)"
   ]
  },
  {
   "cell_type": "code",
   "execution_count": 189,
   "id": "f6874f85-dc97-4ff9-82f6-2952e3dd12b0",
   "metadata": {},
   "outputs": [
    {
     "name": "stdout",
     "output_type": "stream",
     "text": [
      "0.20973119931295514\n",
      "0.940696981549263\n",
      "0.9955230325460434\n",
      "0.735954549908638\n"
     ]
    }
   ],
   "source": [
    "print(np.mean(history.history['loss']))\n",
    "print(np.mean(history.history['accuracy']))\n",
    "print(np.mean(history.history['val_loss']))\n",
    "print(np.mean(history.history['val_accuracy']))"
   ]
  },
  {
   "cell_type": "markdown",
   "id": "a373abf3-79fe-47c5-bc72-b4e03cf7caba",
   "metadata": {
    "tags": []
   },
   "source": [
    "## VGG16 block을 나눠서 학습한 모델(block1-3, block4-5) - 11개의 카테고리\n",
    "500개씩 총 5500개 데이터"
   ]
  },
  {
   "cell_type": "code",
   "execution_count": 3,
   "id": "1b92df4f-b536-464c-9e6e-d54c36294dff",
   "metadata": {
    "collapsed": true,
    "jupyter": {
     "outputs_hidden": true
    },
    "tags": []
   },
   "outputs": [
    {
     "name": "stdout",
     "output_type": "stream",
     "text": [
      "40391\n",
      "40422\n",
      "42187\n",
      "40085\n",
      "40100\n",
      "40377\n",
      "40262\n",
      "41220\n",
      "40270\n",
      "40036\n",
      "41697\n"
     ]
    }
   ],
   "source": [
    "# 각각의 리스트에 이미지파일명 담기\n",
    "paper_list=glob(\"./_trash/*종이류*/*/*/*.jpg\")\n",
    "plastic_list=glob(\"./_trash/*플라스틱류*/*/*/*.jpg\")\n",
    "glass_list=glob(\"./_trash/*유리병*/*/*/*.jpg\")\n",
    "can_list=glob(\"./_trash/*캔류*/*/*/*.jpg\")\n",
    "metal_list=glob(\"./_trash/*고철류*/*/*/*.jpg\")\n",
    "styrofoam_list=glob(\"./_trash/*스티로폼*/*/*/*.jpg\")\n",
    "pottery_list=glob(\"./_trash/*도기류*/*/*/*.jpg\")\n",
    "vinyl_list=glob(\"./_trash/*비닐류*/*/*/*.jpg\")\n",
    "lamp_list=glob(\"./_trash/*형광등*/*/*/*.jpg\")\n",
    "pet_list=glob(\"./_trash/*페트병*/*/*/*.jpg\")\n",
    "tree_list=glob(\"./_trash/*나무*/*/*/*.jpg\")\n",
    "\n",
    "# 각 리스트의 개수\n",
    "print(len(paper_list))\n",
    "print(len(plastic_list))\n",
    "print(len(glass_list))\n",
    "print(len(can_list))\n",
    "print(len(metal_list))\n",
    "print(len(styrofoam_list))\n",
    "print(len(pottery_list))\n",
    "print(len(vinyl_list))\n",
    "print(len(lamp_list))\n",
    "print(len(pet_list))\n",
    "print(len(tree_list))"
   ]
  },
  {
   "cell_type": "code",
   "execution_count": 6,
   "id": "53b3b401-939c-4806-b645-0d18c472fa1e",
   "metadata": {
    "tags": []
   },
   "outputs": [
    {
     "name": "stdout",
     "output_type": "stream",
     "text": [
      "447047\n"
     ]
    }
   ],
   "source": [
    "data_list=list(chain(\n",
    "    paper_list,\n",
    "    plastic_list,\n",
    "    glass_list,\n",
    "    can_list,\n",
    "    metal_list,\n",
    "    styrofoam_list,\n",
    "    pottery_list,\n",
    "    vinyl_list,\n",
    "    lamp_list,\n",
    "    pet_list,\n",
    "    tree_list\n",
    "))\n",
    "print(len(data_list))"
   ]
  },
  {
   "cell_type": "code",
   "execution_count": 7,
   "id": "df17f238-5533-4998-a075-a4049c4c5af4",
   "metadata": {},
   "outputs": [],
   "source": [
    "# 데이터셋 개수 설정함수\n",
    "def make_dl(n):\n",
    "    paper_list_n=paper_list[:n]\n",
    "    plastic_list_n=plastic_list[:n]\n",
    "    glass_list_n=glass_list[:n]\n",
    "    can_list_n=can_list[:n]\n",
    "    metal_list_n=metal_list[:n]\n",
    "    styrofoam_list_n=styrofoam_list[:n]\n",
    "    pottery_list_n=pottery_list[:n]\n",
    "    vinyl_list_n=vinyl_list[:n]\n",
    "    lamp_list_n=lamp_list[:n]\n",
    "    pet_list_n=pet_list[:n]\n",
    "    tree_list_n=tree_list[:n]\n",
    "    data_list_n=list(chain(\n",
    "        paper_list_n, \n",
    "        plastic_list_n, \n",
    "        glass_list_n, \n",
    "        can_list_n, \n",
    "        metal_list_n, \n",
    "        styrofoam_list_n, \n",
    "        pottery_list_n, \n",
    "        vinyl_list_n, \n",
    "        lamp_list_n,\n",
    "        pet_list_n,\n",
    "        tree_list_n\n",
    "    ))\n",
    "    return data_list_n"
   ]
  },
  {
   "cell_type": "code",
   "execution_count": 8,
   "id": "94c97b6e-c515-4688-90c3-f3efe50c493f",
   "metadata": {
    "tags": []
   },
   "outputs": [],
   "source": [
    "# target리스트 생성함수\n",
    "def make_target(data_list):\n",
    "    target=[]\n",
    "    for idx, val in enumerate(data_list):\n",
    "        if '종이류' in val:\n",
    "            target.append(0)\n",
    "        elif '플라스틱' in val:\n",
    "            target.append(1)\n",
    "        elif '유리병' in val:\n",
    "            target.append(2)\n",
    "        elif '캔류' in val:\n",
    "            target.append(3)\n",
    "        elif '고철류' in val:\n",
    "            target.append(4)\n",
    "        elif '스티로폼' in val:\n",
    "            target.append(5)\n",
    "        elif '도기류' in val:\n",
    "            target.append(6)\n",
    "        elif '비닐류' in val:\n",
    "            target.append(7)\n",
    "        elif '형광등' in val:\n",
    "            target.append(8)\n",
    "        elif '페트병' in val:\n",
    "            target.append(9)\n",
    "        elif '나무' in val:\n",
    "            target.append(10)\n",
    "    return target"
   ]
  },
  {
   "cell_type": "code",
   "execution_count": 10,
   "id": "a169d268-0dd6-4678-86f2-c63a5e16d4e7",
   "metadata": {
    "tags": []
   },
   "outputs": [],
   "source": [
    "# 레이블\n",
    "def label_by_index(index):\n",
    "    labels = [\"종이류\", \"플라스틱류\", \"유리병\", \"캔류\", \"고철류\", \"스티로폼\", \"도기류\", \"비닐류\", \"형광등\", \"페트병\", \"나무\"]\n",
    "    return labels[index]"
   ]
  },
  {
   "cell_type": "code",
   "execution_count": 12,
   "id": "1e9bd1d7-48eb-40a1-b44d-38531056d3de",
   "metadata": {
    "tags": []
   },
   "outputs": [
    {
     "name": "stdout",
     "output_type": "stream",
     "text": [
      "5500\n"
     ]
    }
   ],
   "source": [
    "# n=500\n",
    "# 각 분류당 n개 추출해서 data_list로 병합\n",
    "data_list=make_dl(500)\n",
    "\n",
    "# target 생성\n",
    "target=make_target(data_list)\n",
    "\n",
    "# 총 데이터셋 개수\n",
    "print(len(data_list))"
   ]
  },
  {
   "cell_type": "code",
   "execution_count": 13,
   "id": "4fb235ce-454f-4110-939a-1a82f78f31f2",
   "metadata": {
    "tags": []
   },
   "outputs": [],
   "source": [
    "# 정수형클래스 레이블을 원-핫 인코딩 벡터로 변환하는 함수\n",
    "y = np.array(target)\n",
    "y = to_categorical(y)"
   ]
  },
  {
   "cell_type": "code",
   "execution_count": 14,
   "id": "5d7fc0ef-6e5e-43e1-abe6-9d4badeebe09",
   "metadata": {
    "tags": []
   },
   "outputs": [],
   "source": [
    "# data_list를 이용해 스케일링\n",
    "X=scaling(data_list)"
   ]
  },
  {
   "cell_type": "code",
   "execution_count": 87,
   "id": "c2544951-7cdf-4c14-af00-c4bd33ff21ef",
   "metadata": {
    "tags": []
   },
   "outputs": [],
   "source": [
    "X_, X_test, y_, y_test = train_test_split(X, y, test_size=.2)"
   ]
  },
  {
   "cell_type": "code",
   "execution_count": 88,
   "id": "ea0bf09b-f24f-4eda-aed6-f7414b4f0a40",
   "metadata": {
    "tags": []
   },
   "outputs": [],
   "source": [
    "X_train, X_validation, y_train, y_validation = train_test_split(X_, y_)"
   ]
  },
  {
   "cell_type": "code",
   "execution_count": 89,
   "id": "e58772f2-e3c0-4b5f-abef-87dcd6a69c2c",
   "metadata": {
    "tags": []
   },
   "outputs": [
    {
     "name": "stdout",
     "output_type": "stream",
     "text": [
      "(1100, 150, 150, 3)\n",
      "(1100, 11)\n",
      "(3300, 150, 150, 3)\n",
      "(3300, 11)\n",
      "(1100, 150, 150, 3)\n",
      "(1100, 11)\n"
     ]
    }
   ],
   "source": [
    "print(X_test.shape)\n",
    "print(y_test.shape)\n",
    "print(X_train.shape)\n",
    "print(y_train.shape)\n",
    "print(X_validation.shape)\n",
    "print(y_validation.shape)"
   ]
  },
  {
   "cell_type": "code",
   "execution_count": 90,
   "id": "12e382fc-6e2f-4eda-bdb0-40359cfdf2ef",
   "metadata": {
    "tags": []
   },
   "outputs": [
    {
     "name": "stdout",
     "output_type": "stream",
     "text": [
      "Model: \"vgg16\"\n",
      "_________________________________________________________________\n",
      " Layer (type)                Output Shape              Param #   \n",
      "=================================================================\n",
      " input_5 (InputLayer)        [(None, 150, 150, 3)]     0         \n",
      "                                                                 \n",
      " block1_conv1 (Conv2D)       (None, 150, 150, 64)      1792      \n",
      "                                                                 \n",
      " block1_conv2 (Conv2D)       (None, 150, 150, 64)      36928     \n",
      "                                                                 \n",
      " block1_pool (MaxPooling2D)  (None, 75, 75, 64)        0         \n",
      "                                                                 \n",
      " block2_conv1 (Conv2D)       (None, 75, 75, 128)       73856     \n",
      "                                                                 \n",
      " block2_conv2 (Conv2D)       (None, 75, 75, 128)       147584    \n",
      "                                                                 \n",
      " block2_pool (MaxPooling2D)  (None, 37, 37, 128)       0         \n",
      "                                                                 \n",
      " block3_conv1 (Conv2D)       (None, 37, 37, 256)       295168    \n",
      "                                                                 \n",
      " block3_conv2 (Conv2D)       (None, 37, 37, 256)       590080    \n",
      "                                                                 \n",
      " block3_conv3 (Conv2D)       (None, 37, 37, 256)       590080    \n",
      "                                                                 \n",
      " block3_pool (MaxPooling2D)  (None, 18, 18, 256)       0         \n",
      "                                                                 \n",
      " block4_conv1 (Conv2D)       (None, 18, 18, 512)       1180160   \n",
      "                                                                 \n",
      " block4_conv2 (Conv2D)       (None, 18, 18, 512)       2359808   \n",
      "                                                                 \n",
      " block4_conv3 (Conv2D)       (None, 18, 18, 512)       2359808   \n",
      "                                                                 \n",
      " block4_pool (MaxPooling2D)  (None, 9, 9, 512)         0         \n",
      "                                                                 \n",
      " block5_conv1 (Conv2D)       (None, 9, 9, 512)         2359808   \n",
      "                                                                 \n",
      " block5_conv2 (Conv2D)       (None, 9, 9, 512)         2359808   \n",
      "                                                                 \n",
      " block5_conv3 (Conv2D)       (None, 9, 9, 512)         2359808   \n",
      "                                                                 \n",
      " block5_pool (MaxPooling2D)  (None, 4, 4, 512)         0         \n",
      "                                                                 \n",
      "=================================================================\n",
      "Total params: 14714688 (56.13 MB)\n",
      "Trainable params: 14714688 (56.13 MB)\n",
      "Non-trainable params: 0 (0.00 Byte)\n",
      "_________________________________________________________________\n"
     ]
    }
   ],
   "source": [
    "vgg = VGG16(include_top=False, input_shape=(150,150,3))\n",
    "vgg.summary()"
   ]
  },
  {
   "cell_type": "code",
   "execution_count": 91,
   "id": "3a5f2925-3c95-4cdb-a075-cfccc710e6ed",
   "metadata": {
    "tags": []
   },
   "outputs": [
    {
     "name": "stdout",
     "output_type": "stream",
     "text": [
      "[<keras.src.engine.input_layer.InputLayer object at 0x000002CC1039A490>, <keras.src.layers.convolutional.conv2d.Conv2D object at 0x000002CC0F7C9590>, <keras.src.layers.convolutional.conv2d.Conv2D object at 0x000002CC0F21E4D0>, <keras.src.layers.pooling.max_pooling2d.MaxPooling2D object at 0x000002CC0F8F6AD0>, <keras.src.layers.convolutional.conv2d.Conv2D object at 0x000002CC0F989BD0>, <keras.src.layers.convolutional.conv2d.Conv2D object at 0x000002CC103B17D0>, <keras.src.layers.pooling.max_pooling2d.MaxPooling2D object at 0x000002CC1039BE10>, <keras.src.layers.convolutional.conv2d.Conv2D object at 0x000002CC103C19D0>, <keras.src.layers.convolutional.conv2d.Conv2D object at 0x000002CC103A7DD0>, <keras.src.layers.convolutional.conv2d.Conv2D object at 0x000002CC0FA5EBD0>, <keras.src.layers.pooling.max_pooling2d.MaxPooling2D object at 0x000002CC10119810>]\n"
     ]
    }
   ],
   "source": [
    "output_layers=[]\n",
    "for layer in vgg.layers[:len(vgg.layers)-8]:\n",
    "    output_layers.append(vgg.get_layer(layer.name))\n",
    "print(output_layers)"
   ]
  },
  {
   "cell_type": "code",
   "execution_count": 92,
   "id": "82cfd88d-b35b-446c-aa75-749524f9e8d4",
   "metadata": {
    "tags": []
   },
   "outputs": [
    {
     "name": "stdout",
     "output_type": "stream",
     "text": [
      "Model: \"sequential_5\"\n",
      "_________________________________________________________________\n",
      " Layer (type)                Output Shape              Param #   \n",
      "=================================================================\n",
      " block1_conv1 (Conv2D)       (None, 150, 150, 64)      1792      \n",
      "                                                                 \n",
      " block1_conv2 (Conv2D)       (None, 150, 150, 64)      36928     \n",
      "                                                                 \n",
      " block1_pool (MaxPooling2D)  (None, 75, 75, 64)        0         \n",
      "                                                                 \n",
      " block2_conv1 (Conv2D)       (None, 75, 75, 128)       73856     \n",
      "                                                                 \n",
      " block2_conv2 (Conv2D)       (None, 75, 75, 128)       147584    \n",
      "                                                                 \n",
      " block2_pool (MaxPooling2D)  (None, 37, 37, 128)       0         \n",
      "                                                                 \n",
      " block3_conv1 (Conv2D)       (None, 37, 37, 256)       295168    \n",
      "                                                                 \n",
      " block3_conv2 (Conv2D)       (None, 37, 37, 256)       590080    \n",
      "                                                                 \n",
      " block3_conv3 (Conv2D)       (None, 37, 37, 256)       590080    \n",
      "                                                                 \n",
      " block3_pool (MaxPooling2D)  (None, 18, 18, 256)       0         \n",
      "                                                                 \n",
      "=================================================================\n",
      "Total params: 1735488 (6.62 MB)\n",
      "Trainable params: 1735488 (6.62 MB)\n",
      "Non-trainable params: 0 (0.00 Byte)\n",
      "_________________________________________________________________\n"
     ]
    }
   ],
   "source": [
    "model=Sequential()\n",
    "for layer in output_layers:\n",
    "    model.add(layer)\n",
    "model.summary()"
   ]
  },
  {
   "cell_type": "code",
   "execution_count": 93,
   "id": "cfa05f9e-47b2-4bdf-94ec-7839816e6128",
   "metadata": {
    "tags": []
   },
   "outputs": [
    {
     "name": "stdout",
     "output_type": "stream",
     "text": [
      "104/104 [==============================] - 46s 438ms/step\n",
      "35/35 [==============================] - 15s 438ms/step\n"
     ]
    }
   ],
   "source": [
    "X_train_trans = model.predict(X_train)\n",
    "X_validation_trans = model.predict(X_validation)"
   ]
  },
  {
   "cell_type": "code",
   "execution_count": 94,
   "id": "ce3d71a4-1f7c-4c5c-a965-130dd7a218a2",
   "metadata": {
    "tags": []
   },
   "outputs": [
    {
     "name": "stdout",
     "output_type": "stream",
     "text": [
      "(3300, 18, 18, 256)\n",
      "(1100, 18, 18, 256)\n"
     ]
    }
   ],
   "source": [
    "print(X_train_trans.shape)\n",
    "print(X_validation_trans.shape)"
   ]
  },
  {
   "cell_type": "code",
   "execution_count": 172,
   "id": "54805d86-2264-47e1-8d1e-7049a690331e",
   "metadata": {
    "tags": []
   },
   "outputs": [
    {
     "name": "stdout",
     "output_type": "stream",
     "text": [
      "Model: \"sequential_7\"\n",
      "_________________________________________________________________\n",
      " Layer (type)                Output Shape              Param #   \n",
      "=================================================================\n",
      " conv2d_6 (Conv2D)           (None, 18, 18, 512)       1180160   \n",
      "                                                                 \n",
      " conv2d_7 (Conv2D)           (None, 18, 18, 512)       2359808   \n",
      "                                                                 \n",
      " conv2d_8 (Conv2D)           (None, 18, 18, 512)       2359808   \n",
      "                                                                 \n",
      " max_pooling2d_2 (MaxPoolin  (None, 9, 9, 512)         0         \n",
      " g2D)                                                            \n",
      "                                                                 \n",
      " conv2d_9 (Conv2D)           (None, 9, 9, 512)         2359808   \n",
      "                                                                 \n",
      " conv2d_10 (Conv2D)          (None, 9, 9, 512)         2359808   \n",
      "                                                                 \n",
      " conv2d_11 (Conv2D)          (None, 9, 9, 512)         2359808   \n",
      "                                                                 \n",
      " max_pooling2d_3 (MaxPoolin  (None, 4, 4, 512)         0         \n",
      " g2D)                                                            \n",
      "                                                                 \n",
      " flatten_6 (Flatten)         (None, 8192)              0         \n",
      "                                                                 \n",
      " dense_30 (Dense)            (None, 256)               2097408   \n",
      "                                                                 \n",
      " batch_normalization_24 (Ba  (None, 256)               1024      \n",
      " tchNormalization)                                               \n",
      "                                                                 \n",
      " dense_31 (Dense)            (None, 128)               32896     \n",
      "                                                                 \n",
      " batch_normalization_25 (Ba  (None, 128)               512       \n",
      " tchNormalization)                                               \n",
      "                                                                 \n",
      " dense_32 (Dense)            (None, 64)                8256      \n",
      "                                                                 \n",
      " batch_normalization_26 (Ba  (None, 64)                256       \n",
      " tchNormalization)                                               \n",
      "                                                                 \n",
      " dense_33 (Dense)            (None, 32)                2080      \n",
      "                                                                 \n",
      " batch_normalization_27 (Ba  (None, 32)                128       \n",
      " tchNormalization)                                               \n",
      "                                                                 \n",
      " dense_34 (Dense)            (None, 11)                363       \n",
      "                                                                 \n",
      "=================================================================\n",
      "Total params: 15122123 (57.69 MB)\n",
      "Trainable params: 15121163 (57.68 MB)\n",
      "Non-trainable params: 960 (3.75 KB)\n",
      "_________________________________________________________________\n"
     ]
    }
   ],
   "source": [
    "model_=Sequential()\n",
    "model_.add(Conv2D(input_shape=X_train_trans.shape[1:], padding='same', filters=512, kernel_size=(3,3)))\n",
    "model_.add(Conv2D(padding='same', filters=512, kernel_size=(3,3)))\n",
    "model_.add(Conv2D(padding='same', filters=512, kernel_size=(3,3)))\n",
    "model_.add(MaxPooling2D())\n",
    "model_.add(Conv2D(padding='same', filters=512, kernel_size=(3,3)))\n",
    "model_.add(Conv2D(padding='same', filters=512, kernel_size=(3,3)))\n",
    "model_.add(Conv2D(padding='same', filters=512, kernel_size=(3,3)))\n",
    "model_.add(MaxPooling2D())\n",
    "model_.add(Flatten())\n",
    "model_.add(Dense(256,activation='relu'))\n",
    "model_.add(BatchNormalization())\n",
    "model_.add(Dense(128,activation='relu'))\n",
    "model_.add(BatchNormalization())\n",
    "model_.add(Dense(64,activation='relu'))\n",
    "model_.add(BatchNormalization())\n",
    "model_.add(Dense(32,activation='relu'))\n",
    "model_.add(BatchNormalization())\n",
    "model_.add(Dense(11, activation='softmax'))\n",
    "model_.summary()"
   ]
  },
  {
   "cell_type": "code",
   "execution_count": 173,
   "id": "fa5a52c2-2f84-494a-9c97-5740cccd3fb4",
   "metadata": {
    "tags": []
   },
   "outputs": [],
   "source": [
    "model_.compile(optimizer='adam',loss='categorical_crossentropy',metrics='accuracy')"
   ]
  },
  {
   "cell_type": "code",
   "execution_count": 164,
   "id": "c710d7c8-90a1-4349-8bfd-38f012f990ed",
   "metadata": {
    "tags": []
   },
   "outputs": [
    {
     "name": "stdout",
     "output_type": "stream",
     "text": [
      "Epoch 1/20\n",
      "104/104 [==============================] - 106s 1s/step - loss: 1.2378 - accuracy: 0.5788 - val_loss: 1.8150 - val_accuracy: 0.4736\n",
      "Epoch 2/20\n",
      "104/104 [==============================] - 107s 1s/step - loss: 1.0776 - accuracy: 0.6403 - val_loss: 1.5716 - val_accuracy: 0.5064\n",
      "Epoch 3/20\n",
      "104/104 [==============================] - 106s 1s/step - loss: 1.0613 - accuracy: 0.6339 - val_loss: 2.5944 - val_accuracy: 0.3764\n",
      "Epoch 4/20\n",
      "104/104 [==============================] - 101s 972ms/step - loss: 0.9860 - accuracy: 0.6645 - val_loss: 1.5688 - val_accuracy: 0.5227\n",
      "Epoch 5/20\n",
      "104/104 [==============================] - 102s 980ms/step - loss: 0.9761 - accuracy: 0.6694 - val_loss: 1.4783 - val_accuracy: 0.5582\n",
      "Epoch 6/20\n",
      "104/104 [==============================] - 102s 977ms/step - loss: 0.9387 - accuracy: 0.6888 - val_loss: 1.6120 - val_accuracy: 0.5155\n",
      "Epoch 7/20\n",
      "104/104 [==============================] - 101s 970ms/step - loss: 0.9082 - accuracy: 0.6930 - val_loss: 3.4849 - val_accuracy: 0.5273\n",
      "Epoch 8/20\n",
      "104/104 [==============================] - 101s 975ms/step - loss: 0.8100 - accuracy: 0.7370 - val_loss: 1.4615 - val_accuracy: 0.5500\n",
      "Epoch 9/20\n",
      "104/104 [==============================] - 101s 974ms/step - loss: 0.8697 - accuracy: 0.7045 - val_loss: 1.3385 - val_accuracy: 0.5973\n",
      "Epoch 10/20\n",
      "104/104 [==============================] - 101s 976ms/step - loss: 0.7541 - accuracy: 0.7476 - val_loss: 1.4829 - val_accuracy: 0.5564\n",
      "Epoch 11/20\n",
      "104/104 [==============================] - 101s 973ms/step - loss: 0.7102 - accuracy: 0.7536 - val_loss: 1.4347 - val_accuracy: 0.5764\n",
      "Epoch 12/20\n",
      "104/104 [==============================] - 101s 970ms/step - loss: 0.7027 - accuracy: 0.7615 - val_loss: 1.4596 - val_accuracy: 0.5809\n",
      "Epoch 13/20\n",
      "104/104 [==============================] - 103s 994ms/step - loss: 0.6203 - accuracy: 0.7903 - val_loss: 1.5282 - val_accuracy: 0.5755\n",
      "Epoch 14/20\n",
      "104/104 [==============================] - 101s 976ms/step - loss: 0.7448 - accuracy: 0.7473 - val_loss: 2.1530 - val_accuracy: 0.4918\n",
      "Epoch 15/20\n",
      "104/104 [==============================] - 101s 974ms/step - loss: 0.7284 - accuracy: 0.7558 - val_loss: 1.5687 - val_accuracy: 0.5600\n",
      "Epoch 16/20\n",
      "104/104 [==============================] - 101s 973ms/step - loss: 0.6289 - accuracy: 0.7894 - val_loss: 1.3795 - val_accuracy: 0.5918\n",
      "Epoch 17/20\n",
      "104/104 [==============================] - 101s 975ms/step - loss: 0.4840 - accuracy: 0.8382 - val_loss: 1.5078 - val_accuracy: 0.5773\n",
      "Epoch 18/20\n",
      "104/104 [==============================] - 101s 975ms/step - loss: 0.7029 - accuracy: 0.7606 - val_loss: 1.5413 - val_accuracy: 0.5618\n",
      "Epoch 19/20\n",
      "104/104 [==============================] - 101s 971ms/step - loss: 0.4699 - accuracy: 0.8382 - val_loss: 1.4880 - val_accuracy: 0.6018\n",
      "Epoch 20/20\n",
      "104/104 [==============================] - 101s 971ms/step - loss: 0.4440 - accuracy: 0.8503 - val_loss: 1.6985 - val_accuracy: 0.5436\n"
     ]
    }
   ],
   "source": [
    "history = model_.fit(\n",
    "    X_train_trans,\n",
    "    y_train,\n",
    "    epochs=20,\n",
    "    batch_size=32,\n",
    "    validation_data=(X_validation_trans, y_validation)\n",
    ")"
   ]
  },
  {
   "cell_type": "code",
   "execution_count": 168,
   "id": "6a582f54-ddd3-47b0-a2f8-36a862896846",
   "metadata": {
    "tags": []
   },
   "outputs": [
    {
     "name": "stdout",
     "output_type": "stream",
     "text": [
      "35/35 [==============================] - 22s 614ms/step\n"
     ]
    }
   ],
   "source": [
    "X_test_trans=vgg.predict(X_test)"
   ]
  },
  {
   "cell_type": "code",
   "execution_count": 174,
   "id": "8c60d839-9d2c-4b86-871e-4bf7de8b8439",
   "metadata": {
    "tags": []
   },
   "outputs": [
    {
     "ename": "RuntimeError",
     "evalue": "You must compile your model before training/testing. Use `model.compile(optimizer, loss)`.",
     "output_type": "error",
     "traceback": [
      "\u001b[1;31m---------------------------------------------------------------------------\u001b[0m",
      "\u001b[1;31mRuntimeError\u001b[0m                              Traceback (most recent call last)",
      "Cell \u001b[1;32mIn[174], line 1\u001b[0m\n\u001b[1;32m----> 1\u001b[0m \u001b[43mmodel\u001b[49m\u001b[38;5;241;43m.\u001b[39;49m\u001b[43mevaluate\u001b[49m\u001b[43m(\u001b[49m\u001b[43mX_test_trans\u001b[49m\u001b[43m,\u001b[49m\u001b[43m \u001b[49m\u001b[43my_test\u001b[49m\u001b[43m)\u001b[49m\n",
      "File \u001b[1;32m~\\anaconda3\\Lib\\site-packages\\keras\\src\\utils\\traceback_utils.py:70\u001b[0m, in \u001b[0;36mfilter_traceback.<locals>.error_handler\u001b[1;34m(*args, **kwargs)\u001b[0m\n\u001b[0;32m     67\u001b[0m     filtered_tb \u001b[38;5;241m=\u001b[39m _process_traceback_frames(e\u001b[38;5;241m.\u001b[39m__traceback__)\n\u001b[0;32m     68\u001b[0m     \u001b[38;5;66;03m# To get the full stack trace, call:\u001b[39;00m\n\u001b[0;32m     69\u001b[0m     \u001b[38;5;66;03m# `tf.debugging.disable_traceback_filtering()`\u001b[39;00m\n\u001b[1;32m---> 70\u001b[0m     \u001b[38;5;28;01mraise\u001b[39;00m e\u001b[38;5;241m.\u001b[39mwith_traceback(filtered_tb) \u001b[38;5;28;01mfrom\u001b[39;00m \u001b[38;5;28;01mNone\u001b[39;00m\n\u001b[0;32m     71\u001b[0m \u001b[38;5;28;01mfinally\u001b[39;00m:\n\u001b[0;32m     72\u001b[0m     \u001b[38;5;28;01mdel\u001b[39;00m filtered_tb\n",
      "File \u001b[1;32m~\\anaconda3\\Lib\\site-packages\\keras\\src\\engine\\training.py:3983\u001b[0m, in \u001b[0;36mModel._assert_compile_was_called\u001b[1;34m(self)\u001b[0m\n\u001b[0;32m   3977\u001b[0m \u001b[38;5;28;01mdef\u001b[39;00m \u001b[38;5;21m_assert_compile_was_called\u001b[39m(\u001b[38;5;28mself\u001b[39m):\n\u001b[0;32m   3978\u001b[0m     \u001b[38;5;66;03m# Checks whether `compile` has been called. If it has been called,\u001b[39;00m\n\u001b[0;32m   3979\u001b[0m     \u001b[38;5;66;03m# then the optimizer is set. This is different from whether the\u001b[39;00m\n\u001b[0;32m   3980\u001b[0m     \u001b[38;5;66;03m# model is compiled\u001b[39;00m\n\u001b[0;32m   3981\u001b[0m     \u001b[38;5;66;03m# (i.e. whether the model is built and its inputs/outputs are set).\u001b[39;00m\n\u001b[0;32m   3982\u001b[0m     \u001b[38;5;28;01mif\u001b[39;00m \u001b[38;5;129;01mnot\u001b[39;00m \u001b[38;5;28mself\u001b[39m\u001b[38;5;241m.\u001b[39m_is_compiled:\n\u001b[1;32m-> 3983\u001b[0m         \u001b[38;5;28;01mraise\u001b[39;00m \u001b[38;5;167;01mRuntimeError\u001b[39;00m(\n\u001b[0;32m   3984\u001b[0m             \u001b[38;5;124m\"\u001b[39m\u001b[38;5;124mYou must compile your model before \u001b[39m\u001b[38;5;124m\"\u001b[39m\n\u001b[0;32m   3985\u001b[0m             \u001b[38;5;124m\"\u001b[39m\u001b[38;5;124mtraining/testing. \u001b[39m\u001b[38;5;124m\"\u001b[39m\n\u001b[0;32m   3986\u001b[0m             \u001b[38;5;124m\"\u001b[39m\u001b[38;5;124mUse `model.compile(optimizer, loss)`.\u001b[39m\u001b[38;5;124m\"\u001b[39m\n\u001b[0;32m   3987\u001b[0m         )\n",
      "\u001b[1;31mRuntimeError\u001b[0m: You must compile your model before training/testing. Use `model.compile(optimizer, loss)`."
     ]
    }
   ],
   "source": [
    "model.evaluate(X_test_trans, y_test)"
   ]
  },
  {
   "cell_type": "code",
   "execution_count": 180,
   "id": "7ba27715-85f1-4d52-8f07-47ea935f9e4b",
   "metadata": {},
   "outputs": [
    {
     "name": "stdout",
     "output_type": "stream",
     "text": [
      "0.7927823394536972\n",
      "0.7321515142917633\n",
      "1.7083608210086823\n",
      "0.5422272697091103\n"
     ]
    }
   ],
   "source": [
    "print(np.mean(history.history['loss']))\n",
    "print(np.mean(history.history['accuracy']))\n",
    "print(np.mean(history.history['val_loss']))\n",
    "print(np.mean(history.history['val_accuracy']))"
   ]
  },
  {
   "cell_type": "markdown",
   "id": "1ff7f466-8e6c-40b5-ab71-d632d688cf7b",
   "metadata": {
    "tags": []
   },
   "source": [
    "## VGG16 모델 - 4개의 카테고리(종이, 플라스틱, 유리병, 페트병)\n",
    "10000개씩 총 40000개 데이터(이미지 리사이징)"
   ]
  },
  {
   "cell_type": "code",
   "execution_count": 200,
   "id": "273de414-41b6-48a4-a25a-88ffde12d987",
   "metadata": {
    "tags": []
   },
   "outputs": [
    {
     "name": "stdout",
     "output_type": "stream",
     "text": [
      "40391\n",
      "40422\n",
      "42187\n",
      "40036\n"
     ]
    }
   ],
   "source": [
    "# 각각의 리스트에 이미지파일명 담기\n",
    "paper_list=glob(\"./_trash/*종이류*/*/*/*.jpg\")\n",
    "plastic_list=glob(\"./_trash/*플라스틱류*/*/*/*.jpg\")\n",
    "glass_list=glob(\"./_trash/*유리병*/*/*/*.jpg\")\n",
    "pet_list=glob(\"./_trash/*페트병*/*/*/*.jpg\")\n",
    "\n",
    "# 각 리스트의 개수\n",
    "print(len(paper_list))\n",
    "print(len(plastic_list))\n",
    "print(len(glass_list))\n",
    "print(len(pet_list))"
   ]
  },
  {
   "cell_type": "code",
   "execution_count": 201,
   "id": "65c99881-f673-489d-8a02-3e5dfccc1d55",
   "metadata": {
    "tags": []
   },
   "outputs": [
    {
     "name": "stdout",
     "output_type": "stream",
     "text": [
      "163036\n"
     ]
    }
   ],
   "source": [
    "data_list=list(chain(\n",
    "    paper_list,\n",
    "    plastic_list,\n",
    "    glass_list,\n",
    "    pet_list\n",
    "))\n",
    "print(len(data_list))"
   ]
  },
  {
   "cell_type": "code",
   "execution_count": 211,
   "id": "5445b29c-1564-4834-89f1-c4afd645ea8c",
   "metadata": {},
   "outputs": [],
   "source": [
    "# 데이터셋 개수 설정함수\n",
    "def make_dl(n):\n",
    "    paper_list_n=paper_list[:n]\n",
    "    plastic_list_n=plastic_list[:n]\n",
    "    glass_list_n=glass_list[:n]\n",
    "    pet_list_n=pet_list[:n]\n",
    "    data_list_n=list(chain(\n",
    "        paper_list_n, \n",
    "        plastic_list_n,\n",
    "        glass_list_n,\n",
    "        pet_list_n\n",
    "    ))\n",
    "    return data_list_n"
   ]
  },
  {
   "cell_type": "code",
   "execution_count": 212,
   "id": "d56ae78e-9052-446d-8e75-9ec0bb4539e0",
   "metadata": {
    "tags": []
   },
   "outputs": [],
   "source": [
    "# target리스트 생성함수\n",
    "def make_target(data_list):\n",
    "    target=[]\n",
    "    for idx, val in enumerate(data_list):\n",
    "        if '종이류' in val:\n",
    "            target.append(0)\n",
    "        elif '플라스틱류' in val:\n",
    "            target.append(1)\n",
    "        elif '유리병' in val:\n",
    "            target.append(2)\n",
    "        elif '페트병' in val:\n",
    "            target.append(3)\n",
    "    return target"
   ]
  },
  {
   "cell_type": "code",
   "execution_count": 213,
   "id": "1ecf6e22-f246-49ce-9254-9145830e4e12",
   "metadata": {
    "tags": []
   },
   "outputs": [],
   "source": [
    "# 레이블\n",
    "def label_by_index(index):\n",
    "    labels = [\"종이류\", \"플라스틱류\", \"유리병\", \"페트병\"]\n",
    "    return labels[index]"
   ]
  },
  {
   "cell_type": "code",
   "execution_count": 215,
   "id": "559fb5d1-9a1d-489d-9202-c4f15165d7d3",
   "metadata": {
    "editable": true,
    "slideshow": {
     "slide_type": ""
    },
    "tags": []
   },
   "outputs": [
    {
     "name": "stdout",
     "output_type": "stream",
     "text": [
      "40000\n",
      "40000\n"
     ]
    }
   ],
   "source": [
    "n=10000\n",
    "\n",
    "# 각 분류당 n개 추출해서 data_list로 병합\n",
    "data_list=make_dl(n)\n",
    "\n",
    "# target 생성\n",
    "target=make_target(data_list)\n",
    "\n",
    "# 총 데이터셋 개수\n",
    "print(len(data_list))\n",
    "print(len(target))"
   ]
  },
  {
   "cell_type": "code",
   "execution_count": 216,
   "id": "968d264e-cb57-42b0-98f4-7e743e5137ed",
   "metadata": {
    "tags": []
   },
   "outputs": [
    {
     "name": "stdout",
     "output_type": "stream",
     "text": [
      "(40000, 4)\n"
     ]
    }
   ],
   "source": [
    "# 정수형클래스 레이블을 원-핫 인코딩 벡터로 변환하는 함수\n",
    "y = np.array(target)\n",
    "y = to_categorical(y)\n",
    "print(y.shape)"
   ]
  },
  {
   "cell_type": "code",
   "execution_count": 217,
   "id": "86f7463f-14a2-48a7-b254-c489b7234e25",
   "metadata": {
    "scrolled": true,
    "tags": []
   },
   "outputs": [],
   "source": [
    "X=scaling(data_list)"
   ]
  },
  {
   "cell_type": "code",
   "execution_count": 218,
   "id": "3263e048-8ac1-4bf7-ac70-96cfd355fd03",
   "metadata": {
    "tags": []
   },
   "outputs": [],
   "source": [
    "X_, X_test, y_, y_test = train_test_split(X, y, test_size=.2)"
   ]
  },
  {
   "cell_type": "code",
   "execution_count": 219,
   "id": "9d55b4f2-a529-4ee3-b7c8-5d2b4bcfa1a6",
   "metadata": {
    "tags": []
   },
   "outputs": [],
   "source": [
    "X_train, X_validation, y_train, y_validation = train_test_split(X_, y_)"
   ]
  },
  {
   "cell_type": "code",
   "execution_count": 220,
   "id": "bd66a010-31de-485d-a53d-894e7c1537b9",
   "metadata": {
    "tags": []
   },
   "outputs": [
    {
     "name": "stdout",
     "output_type": "stream",
     "text": [
      "(8000, 150, 150, 3)\n",
      "(8000, 4)\n",
      "(24000, 150, 150, 3)\n",
      "(24000, 4)\n",
      "(8000, 150, 150, 3)\n",
      "(8000, 4)\n"
     ]
    }
   ],
   "source": [
    "print(X_test.shape)\n",
    "print(y_test.shape)\n",
    "print(X_train.shape)\n",
    "print(y_train.shape)\n",
    "print(X_validation.shape)\n",
    "print(y_validation.shape)"
   ]
  },
  {
   "cell_type": "code",
   "execution_count": 221,
   "id": "df87ef98-e540-4a87-b446-f70da7cc3b0e",
   "metadata": {
    "tags": []
   },
   "outputs": [
    {
     "name": "stdout",
     "output_type": "stream",
     "text": [
      "Model: \"vgg16\"\n",
      "_________________________________________________________________\n",
      " Layer (type)                Output Shape              Param #   \n",
      "=================================================================\n",
      " input_7 (InputLayer)        [(None, 150, 150, 3)]     0         \n",
      "                                                                 \n",
      " block1_conv1 (Conv2D)       (None, 150, 150, 64)      1792      \n",
      "                                                                 \n",
      " block1_conv2 (Conv2D)       (None, 150, 150, 64)      36928     \n",
      "                                                                 \n",
      " block1_pool (MaxPooling2D)  (None, 75, 75, 64)        0         \n",
      "                                                                 \n",
      " block2_conv1 (Conv2D)       (None, 75, 75, 128)       73856     \n",
      "                                                                 \n",
      " block2_conv2 (Conv2D)       (None, 75, 75, 128)       147584    \n",
      "                                                                 \n",
      " block2_pool (MaxPooling2D)  (None, 37, 37, 128)       0         \n",
      "                                                                 \n",
      " block3_conv1 (Conv2D)       (None, 37, 37, 256)       295168    \n",
      "                                                                 \n",
      " block3_conv2 (Conv2D)       (None, 37, 37, 256)       590080    \n",
      "                                                                 \n",
      " block3_conv3 (Conv2D)       (None, 37, 37, 256)       590080    \n",
      "                                                                 \n",
      " block3_pool (MaxPooling2D)  (None, 18, 18, 256)       0         \n",
      "                                                                 \n",
      " block4_conv1 (Conv2D)       (None, 18, 18, 512)       1180160   \n",
      "                                                                 \n",
      " block4_conv2 (Conv2D)       (None, 18, 18, 512)       2359808   \n",
      "                                                                 \n",
      " block4_conv3 (Conv2D)       (None, 18, 18, 512)       2359808   \n",
      "                                                                 \n",
      " block4_pool (MaxPooling2D)  (None, 9, 9, 512)         0         \n",
      "                                                                 \n",
      " block5_conv1 (Conv2D)       (None, 9, 9, 512)         2359808   \n",
      "                                                                 \n",
      " block5_conv2 (Conv2D)       (None, 9, 9, 512)         2359808   \n",
      "                                                                 \n",
      " block5_conv3 (Conv2D)       (None, 9, 9, 512)         2359808   \n",
      "                                                                 \n",
      " block5_pool (MaxPooling2D)  (None, 4, 4, 512)         0         \n",
      "                                                                 \n",
      "=================================================================\n",
      "Total params: 14714688 (56.13 MB)\n",
      "Trainable params: 14714688 (56.13 MB)\n",
      "Non-trainable params: 0 (0.00 Byte)\n",
      "_________________________________________________________________\n"
     ]
    }
   ],
   "source": [
    "vgg = VGG16(include_top=False, input_shape=(150,150,3))\n",
    "vgg.summary()"
   ]
  },
  {
   "cell_type": "code",
   "execution_count": 222,
   "id": "b3e9d604-4ec7-419b-88bc-e2d504146634",
   "metadata": {
    "tags": []
   },
   "outputs": [
    {
     "name": "stdout",
     "output_type": "stream",
     "text": [
      "750/750 [==============================] - 494s 658ms/step\n",
      "250/250 [==============================] - 166s 664ms/step\n"
     ]
    }
   ],
   "source": [
    "X_train_trans = vgg.predict(X_train)\n",
    "X_validation_trans = vgg.predict(X_validation)"
   ]
  },
  {
   "cell_type": "code",
   "execution_count": 223,
   "id": "aa328226-1064-4db6-af51-50354f6485dd",
   "metadata": {
    "tags": []
   },
   "outputs": [],
   "source": [
    "model = Sequential(\n",
    "    [\n",
    "        Flatten(input_shape=X_train_trans.shape[1:]),\n",
    "        Dense(256,activation='relu'),\n",
    "        BatchNormalization(),\n",
    "        Dense(128,activation='relu'),\n",
    "        BatchNormalization(),\n",
    "        Dense(64,activation='relu'),\n",
    "        BatchNormalization(),\n",
    "        Dense(32,activation='relu'),\n",
    "        BatchNormalization(),\n",
    "        Dense(4\n",
    "              ,activation='softmax')\n",
    "    ]\n",
    ")"
   ]
  },
  {
   "cell_type": "code",
   "execution_count": 224,
   "id": "33d84ddf-5103-49bb-9d9f-5acb9cdf5ece",
   "metadata": {
    "tags": []
   },
   "outputs": [],
   "source": [
    "model.compile(optimizer='adam',loss='categorical_crossentropy',metrics='accuracy')"
   ]
  },
  {
   "cell_type": "code",
   "execution_count": 225,
   "id": "410a918c-09c3-4cbd-8429-914702a98366",
   "metadata": {
    "tags": []
   },
   "outputs": [
    {
     "name": "stdout",
     "output_type": "stream",
     "text": [
      "Epoch 1/20\n",
      "750/750 [==============================] - 16s 19ms/step - loss: 0.5868 - accuracy: 0.7824 - val_loss: 0.4591 - val_accuracy: 0.8299\n",
      "Epoch 2/20\n",
      "750/750 [==============================] - 14s 18ms/step - loss: 0.3928 - accuracy: 0.8548 - val_loss: 0.4505 - val_accuracy: 0.8404\n",
      "Epoch 3/20\n",
      "750/750 [==============================] - 14s 18ms/step - loss: 0.3058 - accuracy: 0.8908 - val_loss: 0.4646 - val_accuracy: 0.8379\n",
      "Epoch 4/20\n",
      "750/750 [==============================] - 14s 18ms/step - loss: 0.2432 - accuracy: 0.9137 - val_loss: 0.4902 - val_accuracy: 0.8397\n",
      "Epoch 5/20\n",
      "750/750 [==============================] - 14s 18ms/step - loss: 0.1916 - accuracy: 0.9313 - val_loss: 0.5679 - val_accuracy: 0.8226\n",
      "Epoch 6/20\n",
      "750/750 [==============================] - 14s 18ms/step - loss: 0.1615 - accuracy: 0.9406 - val_loss: 0.5330 - val_accuracy: 0.8456\n",
      "Epoch 7/20\n",
      "750/750 [==============================] - 14s 18ms/step - loss: 0.1354 - accuracy: 0.9507 - val_loss: 0.5653 - val_accuracy: 0.8364\n",
      "Epoch 8/20\n",
      "750/750 [==============================] - 14s 18ms/step - loss: 0.1136 - accuracy: 0.9597 - val_loss: 0.6108 - val_accuracy: 0.8395\n",
      "Epoch 9/20\n",
      "750/750 [==============================] - 14s 18ms/step - loss: 0.0941 - accuracy: 0.9661 - val_loss: 0.6261 - val_accuracy: 0.8378\n",
      "Epoch 10/20\n",
      "750/750 [==============================] - 14s 18ms/step - loss: 0.0836 - accuracy: 0.9708 - val_loss: 0.6657 - val_accuracy: 0.8419\n",
      "Epoch 11/20\n",
      "750/750 [==============================] - 14s 18ms/step - loss: 0.0787 - accuracy: 0.9727 - val_loss: 0.6690 - val_accuracy: 0.8397\n",
      "Epoch 12/20\n",
      "750/750 [==============================] - 14s 18ms/step - loss: 0.0695 - accuracy: 0.9756 - val_loss: 0.6604 - val_accuracy: 0.8462\n",
      "Epoch 13/20\n",
      "750/750 [==============================] - 14s 18ms/step - loss: 0.0645 - accuracy: 0.9785 - val_loss: 0.7152 - val_accuracy: 0.8391\n",
      "Epoch 14/20\n",
      "750/750 [==============================] - 14s 18ms/step - loss: 0.0562 - accuracy: 0.9807 - val_loss: 0.6959 - val_accuracy: 0.8487\n",
      "Epoch 15/20\n",
      "750/750 [==============================] - 14s 19ms/step - loss: 0.0503 - accuracy: 0.9828 - val_loss: 0.7355 - val_accuracy: 0.8453\n",
      "Epoch 16/20\n",
      "750/750 [==============================] - 14s 19ms/step - loss: 0.0525 - accuracy: 0.9813 - val_loss: 0.7484 - val_accuracy: 0.8409\n",
      "Epoch 17/20\n",
      "750/750 [==============================] - 14s 19ms/step - loss: 0.0426 - accuracy: 0.9853 - val_loss: 0.7592 - val_accuracy: 0.8416\n",
      "Epoch 18/20\n",
      "750/750 [==============================] - 14s 18ms/step - loss: 0.0441 - accuracy: 0.9849 - val_loss: 0.7679 - val_accuracy: 0.8420\n",
      "Epoch 19/20\n",
      "750/750 [==============================] - 14s 18ms/step - loss: 0.0427 - accuracy: 0.9859 - val_loss: 0.7495 - val_accuracy: 0.8443\n",
      "Epoch 20/20\n",
      "750/750 [==============================] - 14s 18ms/step - loss: 0.0360 - accuracy: 0.9878 - val_loss: 0.9882 - val_accuracy: 0.8469\n"
     ]
    }
   ],
   "source": [
    "history=model.fit(\n",
    "    X_train_trans,\n",
    "    y_train,\n",
    "    batch_size=32,\n",
    "    epochs=20,\n",
    "    validation_data=(X_validation_trans, y_validation)\n",
    ")"
   ]
  },
  {
   "cell_type": "code",
   "execution_count": 226,
   "id": "227ef72b-2f77-4263-812d-6d21c5881143",
   "metadata": {
    "tags": []
   },
   "outputs": [
    {
     "name": "stdout",
     "output_type": "stream",
     "text": [
      "250/250 [==============================] - 166s 665ms/step\n"
     ]
    }
   ],
   "source": [
    "X_test_trans=vgg.predict(X_test)"
   ]
  },
  {
   "cell_type": "code",
   "execution_count": 227,
   "id": "9e5bf6c6-f724-4205-9d30-17a5316e64be",
   "metadata": {
    "tags": []
   },
   "outputs": [
    {
     "name": "stdout",
     "output_type": "stream",
     "text": [
      "250/250 [==============================] - 1s 2ms/step - loss: 0.9262 - accuracy: 0.8459\n"
     ]
    },
    {
     "data": {
      "text/plain": [
       "[0.9262303113937378, 0.8458750247955322]"
      ]
     },
     "execution_count": 227,
     "metadata": {},
     "output_type": "execute_result"
    }
   ],
   "source": [
    "model.evaluate(X_test_trans, y_test)"
   ]
  },
  {
   "cell_type": "code",
   "execution_count": 228,
   "id": "cdfce5b0-5d17-45ba-9e13-d40383e81983",
   "metadata": {},
   "outputs": [
    {
     "name": "stdout",
     "output_type": "stream",
     "text": [
      "0.14227564428001643\n",
      "0.948816666007042\n",
      "0.6461240068078041\n",
      "0.840318751335144\n"
     ]
    }
   ],
   "source": [
    "print(np.mean(history.history['loss']))\n",
    "print(np.mean(history.history['accuracy']))\n",
    "print(np.mean(history.history['val_loss']))\n",
    "print(np.mean(history.history['val_accuracy']))"
   ]
  },
  {
   "cell_type": "markdown",
   "id": "85fa952c-846d-4762-8c23-1f667effa609",
   "metadata": {
    "tags": []
   },
   "source": [
    "## VGG16 모델 - 4개의 카테고리(종이, 유리병, 캔, 페트병)\n",
    "10000개씩 총 40000개 데이터(이미지 리사이징)"
   ]
  },
  {
   "cell_type": "code",
   "execution_count": 23,
   "id": "6803ef60-4c1b-4a19-90f7-60b24a6a9f73",
   "metadata": {
    "tags": []
   },
   "outputs": [
    {
     "name": "stdout",
     "output_type": "stream",
     "text": [
      "16468\n",
      "42187\n",
      "36874\n",
      "40036\n"
     ]
    }
   ],
   "source": [
    "# 각각의 리스트에 이미지파일명 담기\n",
    "paper_list=glob(\"./_trash/*종이류*/*/*/*.jpg\")\n",
    "glass_list=glob(\"./_trash/*유리병*/*/*/*.jpg\")\n",
    "can_list=glob(\"./_trash/*캔류*/*/*/*.jpg\")\n",
    "pet_list=glob(\"./_trash/*페트병*/*/*/*.jpg\")\n",
    "\n",
    "# 각 리스트의 개수\n",
    "print(len(paper_list))\n",
    "print(len(glass_list))\n",
    "print(len(can_list))\n",
    "print(len(pet_list))"
   ]
  },
  {
   "cell_type": "code",
   "execution_count": 24,
   "id": "53b59bfb-2e7d-4dc9-ac78-c977b35a524f",
   "metadata": {
    "tags": []
   },
   "outputs": [
    {
     "name": "stdout",
     "output_type": "stream",
     "text": [
      "135565\n"
     ]
    }
   ],
   "source": [
    "data_list=list(chain(\n",
    "    paper_list,\n",
    "    glass_list,\n",
    "    can_list,\n",
    "    pet_list\n",
    "))\n",
    "print(len(data_list))"
   ]
  },
  {
   "cell_type": "code",
   "execution_count": 25,
   "id": "bbdb5fe2-ab16-48e3-8e99-4d2bb67db2e2",
   "metadata": {},
   "outputs": [],
   "source": [
    "# 데이터셋 개수 설정함수\n",
    "def make_dl(n):\n",
    "    paper_list_n=paper_list[:n]\n",
    "    glass_list_n=glass_list[:n]\n",
    "    can_list_n=can_list[:n]\n",
    "    pet_list_n=pet_list[:n]\n",
    "    data_list_n=list(chain(\n",
    "        paper_list_n, \n",
    "        glass_list_n,\n",
    "        can_list_n,\n",
    "        pet_list_n\n",
    "    ))\n",
    "    return data_list_n"
   ]
  },
  {
   "cell_type": "code",
   "execution_count": 26,
   "id": "5ee025c3-cb52-4810-b91d-3b1b751f8340",
   "metadata": {
    "tags": []
   },
   "outputs": [],
   "source": [
    "# target리스트 생성함수\n",
    "def make_target(data_list):\n",
    "    target=[]\n",
    "    for idx, val in enumerate(data_list):\n",
    "        if '종이류' in val:\n",
    "            target.append(0)\n",
    "        elif '유리병' in val:\n",
    "            target.append(1)\n",
    "        elif '캔류' in val:\n",
    "            target.append(2)\n",
    "        elif '페트병' in val:\n",
    "            target.append(3)\n",
    "    return target"
   ]
  },
  {
   "cell_type": "code",
   "execution_count": 27,
   "id": "71d8e956-7756-42f5-b7f6-f826fca49387",
   "metadata": {
    "tags": []
   },
   "outputs": [],
   "source": [
    "# 레이블\n",
    "def label_by_index(index):\n",
    "    labels = [\"종이류\", \"유리병\", \"캔류\", \"페트병\"]\n",
    "    return labels[index]"
   ]
  },
  {
   "cell_type": "code",
   "execution_count": 28,
   "id": "ed09fb2d-7c9a-4ff8-b407-448fd321636e",
   "metadata": {
    "editable": true,
    "slideshow": {
     "slide_type": ""
    },
    "tags": []
   },
   "outputs": [
    {
     "name": "stdout",
     "output_type": "stream",
     "text": [
      "20000\n",
      "20000\n"
     ]
    }
   ],
   "source": [
    "n=5000\n",
    "\n",
    "# 각 분류당 n개 추출해서 data_list로 병합\n",
    "data_list=make_dl(n)\n",
    "\n",
    "# target 생성\n",
    "target=make_target(data_list)\n",
    "\n",
    "# 총 데이터셋 개수\n",
    "print(len(data_list))\n",
    "print(len(target))"
   ]
  },
  {
   "cell_type": "code",
   "execution_count": 29,
   "id": "a94f9697-5cf5-4df7-9ee2-51de7bb267fc",
   "metadata": {
    "tags": []
   },
   "outputs": [
    {
     "name": "stdout",
     "output_type": "stream",
     "text": [
      "(20000, 4)\n"
     ]
    }
   ],
   "source": [
    "# 정수형클래스 레이블을 원-핫 인코딩 벡터로 변환하는 함수\n",
    "y = np.array(target)\n",
    "y = to_categorical(y)"
   ]
  },
  {
   "cell_type": "code",
   "execution_count": 30,
   "id": "96b51f0a-60cf-454a-8b05-fcb12e531545",
   "metadata": {
    "scrolled": true,
    "tags": []
   },
   "outputs": [],
   "source": [
    "X=scaling(data_list)"
   ]
  },
  {
   "cell_type": "code",
   "execution_count": 31,
   "id": "9f52dbce-5edb-4d42-bc8a-61a6d895e8ab",
   "metadata": {
    "tags": []
   },
   "outputs": [],
   "source": [
    "X_, X_test, y_, y_test = train_test_split(X, y, test_size=.2)"
   ]
  },
  {
   "cell_type": "code",
   "execution_count": 32,
   "id": "771a6bec-ad34-4da2-a56a-dc85b9e30f1a",
   "metadata": {
    "tags": []
   },
   "outputs": [],
   "source": [
    "X_train, X_validation, y_train, y_validation = train_test_split(X_, y_)"
   ]
  },
  {
   "cell_type": "code",
   "execution_count": 221,
   "id": "c6969d1c-0df9-4c10-85ea-0ef1534747f9",
   "metadata": {
    "tags": []
   },
   "outputs": [
    {
     "name": "stdout",
     "output_type": "stream",
     "text": [
      "Model: \"vgg16\"\n",
      "_________________________________________________________________\n",
      " Layer (type)                Output Shape              Param #   \n",
      "=================================================================\n",
      " input_7 (InputLayer)        [(None, 150, 150, 3)]     0         \n",
      "                                                                 \n",
      " block1_conv1 (Conv2D)       (None, 150, 150, 64)      1792      \n",
      "                                                                 \n",
      " block1_conv2 (Conv2D)       (None, 150, 150, 64)      36928     \n",
      "                                                                 \n",
      " block1_pool (MaxPooling2D)  (None, 75, 75, 64)        0         \n",
      "                                                                 \n",
      " block2_conv1 (Conv2D)       (None, 75, 75, 128)       73856     \n",
      "                                                                 \n",
      " block2_conv2 (Conv2D)       (None, 75, 75, 128)       147584    \n",
      "                                                                 \n",
      " block2_pool (MaxPooling2D)  (None, 37, 37, 128)       0         \n",
      "                                                                 \n",
      " block3_conv1 (Conv2D)       (None, 37, 37, 256)       295168    \n",
      "                                                                 \n",
      " block3_conv2 (Conv2D)       (None, 37, 37, 256)       590080    \n",
      "                                                                 \n",
      " block3_conv3 (Conv2D)       (None, 37, 37, 256)       590080    \n",
      "                                                                 \n",
      " block3_pool (MaxPooling2D)  (None, 18, 18, 256)       0         \n",
      "                                                                 \n",
      " block4_conv1 (Conv2D)       (None, 18, 18, 512)       1180160   \n",
      "                                                                 \n",
      " block4_conv2 (Conv2D)       (None, 18, 18, 512)       2359808   \n",
      "                                                                 \n",
      " block4_conv3 (Conv2D)       (None, 18, 18, 512)       2359808   \n",
      "                                                                 \n",
      " block4_pool (MaxPooling2D)  (None, 9, 9, 512)         0         \n",
      "                                                                 \n",
      " block5_conv1 (Conv2D)       (None, 9, 9, 512)         2359808   \n",
      "                                                                 \n",
      " block5_conv2 (Conv2D)       (None, 9, 9, 512)         2359808   \n",
      "                                                                 \n",
      " block5_conv3 (Conv2D)       (None, 9, 9, 512)         2359808   \n",
      "                                                                 \n",
      " block5_pool (MaxPooling2D)  (None, 4, 4, 512)         0         \n",
      "                                                                 \n",
      "=================================================================\n",
      "Total params: 14714688 (56.13 MB)\n",
      "Trainable params: 14714688 (56.13 MB)\n",
      "Non-trainable params: 0 (0.00 Byte)\n",
      "_________________________________________________________________\n"
     ]
    }
   ],
   "source": [
    "vgg = VGG16(include_top=False, input_shape=(150,150,3))\n",
    "vgg.summary()"
   ]
  },
  {
   "cell_type": "code",
   "execution_count": 35,
   "id": "7269af7e-67e4-418a-9312-c7db9a873c03",
   "metadata": {
    "tags": []
   },
   "outputs": [
    {
     "name": "stdout",
     "output_type": "stream",
     "text": [
      "375/375 [==============================] - 267s 709ms/step\n",
      "125/125 [==============================] - 87s 697ms/step\n"
     ]
    }
   ],
   "source": [
    "X_train_trans = vgg.predict(X_train)\n",
    "X_validation_trans = vgg.predict(X_validation)"
   ]
  },
  {
   "cell_type": "code",
   "execution_count": 254,
   "id": "9c5a9660-2051-43a2-8070-e692941c883c",
   "metadata": {
    "tags": []
   },
   "outputs": [],
   "source": [
    "model = Sequential(\n",
    "    [\n",
    "        Flatten(input_shape=X_train_trans.shape[1:]),\n",
    "        Dense(256,activation='relu'),\n",
    "        BatchNormalization(),\n",
    "        Dense(128,activation='relu'),\n",
    "        BatchNormalization(),\n",
    "        Dense(64,activation='relu'),\n",
    "        BatchNormalization(),\n",
    "        Dense(32,activation='relu'),\n",
    "        BatchNormalization(),\n",
    "        Dense(4\n",
    "              ,activation='softmax')\n",
    "    ]\n",
    ")"
   ]
  },
  {
   "cell_type": "code",
   "execution_count": 343,
   "id": "3c6ca971-af75-491b-b243-105a9a53af68",
   "metadata": {},
   "outputs": [
    {
     "name": "stdout",
     "output_type": "stream",
     "text": [
      "Model: \"sequential_11\"\n",
      "_________________________________________________________________\n",
      " Layer (type)                Output Shape              Param #   \n",
      "=================================================================\n",
      " flatten_10 (Flatten)        (None, 8192)              0         \n",
      "                                                                 \n",
      " dense_50 (Dense)            (None, 256)               2097408   \n",
      "                                                                 \n",
      " batch_normalization_40 (Ba  (None, 256)               1024      \n",
      " tchNormalization)                                               \n",
      "                                                                 \n",
      " dense_51 (Dense)            (None, 128)               32896     \n",
      "                                                                 \n",
      " batch_normalization_41 (Ba  (None, 128)               512       \n",
      " tchNormalization)                                               \n",
      "                                                                 \n",
      " dense_52 (Dense)            (None, 64)                8256      \n",
      "                                                                 \n",
      " batch_normalization_42 (Ba  (None, 64)                256       \n",
      " tchNormalization)                                               \n",
      "                                                                 \n",
      " dense_53 (Dense)            (None, 32)                2080      \n",
      "                                                                 \n",
      " batch_normalization_43 (Ba  (None, 32)                128       \n",
      " tchNormalization)                                               \n",
      "                                                                 \n",
      " dense_54 (Dense)            (None, 5)                 165       \n",
      "                                                                 \n",
      "=================================================================\n",
      "Total params: 2142725 (8.17 MB)\n",
      "Trainable params: 2141765 (8.17 MB)\n",
      "Non-trainable params: 960 (3.75 KB)\n",
      "_________________________________________________________________\n"
     ]
    }
   ],
   "source": [
    "model.summary()"
   ]
  },
  {
   "cell_type": "code",
   "execution_count": 255,
   "id": "d5db8302-0a68-4f8c-a907-3dae127160c3",
   "metadata": {
    "tags": []
   },
   "outputs": [],
   "source": [
    "model.compile(optimizer='adam',loss='categorical_crossentropy',metrics='accuracy')"
   ]
  },
  {
   "cell_type": "code",
   "execution_count": 256,
   "id": "6bc98612-a7c3-40c9-907a-d8e4bf0327fc",
   "metadata": {
    "scrolled": true,
    "tags": []
   },
   "outputs": [
    {
     "name": "stdout",
     "output_type": "stream",
     "text": [
      "Epoch 1/20\n",
      "750/750 [==============================] - 16s 19ms/step - loss: 0.5528 - accuracy: 0.7891 - val_loss: 0.4077 - val_accuracy: 0.8459\n",
      "Epoch 2/20\n",
      "750/750 [==============================] - 14s 18ms/step - loss: 0.3601 - accuracy: 0.8665 - val_loss: 0.3738 - val_accuracy: 0.8614\n",
      "Epoch 3/20\n",
      "750/750 [==============================] - 14s 18ms/step - loss: 0.2723 - accuracy: 0.8991 - val_loss: 0.4042 - val_accuracy: 0.8586\n",
      "Epoch 4/20\n",
      "750/750 [==============================] - 14s 18ms/step - loss: 0.2209 - accuracy: 0.9186 - val_loss: 0.4167 - val_accuracy: 0.8583\n",
      "Epoch 5/20\n",
      "750/750 [==============================] - 14s 18ms/step - loss: 0.1671 - accuracy: 0.9402 - val_loss: 0.4541 - val_accuracy: 0.8597\n",
      "Epoch 6/20\n",
      "750/750 [==============================] - 14s 18ms/step - loss: 0.1383 - accuracy: 0.9495 - val_loss: 0.4467 - val_accuracy: 0.8640\n",
      "Epoch 7/20\n",
      "750/750 [==============================] - 14s 18ms/step - loss: 0.1099 - accuracy: 0.9602 - val_loss: 0.4809 - val_accuracy: 0.8595\n",
      "Epoch 8/20\n",
      "750/750 [==============================] - 14s 18ms/step - loss: 0.1003 - accuracy: 0.9633 - val_loss: 0.5184 - val_accuracy: 0.8544\n",
      "Epoch 9/20\n",
      "750/750 [==============================] - 14s 18ms/step - loss: 0.0882 - accuracy: 0.9693 - val_loss: 0.4959 - val_accuracy: 0.8662\n",
      "Epoch 10/20\n",
      "750/750 [==============================] - 14s 18ms/step - loss: 0.0701 - accuracy: 0.9755 - val_loss: 0.5398 - val_accuracy: 0.8676\n",
      "Epoch 11/20\n",
      "750/750 [==============================] - 14s 18ms/step - loss: 0.0688 - accuracy: 0.9758 - val_loss: 0.5283 - val_accuracy: 0.8669\n",
      "Epoch 12/20\n",
      "750/750 [==============================] - 14s 18ms/step - loss: 0.0646 - accuracy: 0.9770 - val_loss: 0.5717 - val_accuracy: 0.8652\n",
      "Epoch 13/20\n",
      "750/750 [==============================] - 14s 19ms/step - loss: 0.0565 - accuracy: 0.9808 - val_loss: 0.5561 - val_accuracy: 0.8665\n",
      "Epoch 14/20\n",
      "750/750 [==============================] - 14s 18ms/step - loss: 0.0525 - accuracy: 0.9810 - val_loss: 0.5734 - val_accuracy: 0.8689\n",
      "Epoch 15/20\n",
      "750/750 [==============================] - 14s 18ms/step - loss: 0.0402 - accuracy: 0.9859 - val_loss: 0.6011 - val_accuracy: 0.8664\n",
      "Epoch 16/20\n",
      "750/750 [==============================] - 14s 18ms/step - loss: 0.0431 - accuracy: 0.9851 - val_loss: 0.6450 - val_accuracy: 0.8655\n",
      "Epoch 17/20\n",
      "750/750 [==============================] - 14s 18ms/step - loss: 0.0438 - accuracy: 0.9843 - val_loss: 0.6408 - val_accuracy: 0.8687\n",
      "Epoch 18/20\n",
      "750/750 [==============================] - 14s 18ms/step - loss: 0.0367 - accuracy: 0.9872 - val_loss: 0.6609 - val_accuracy: 0.8581\n",
      "Epoch 19/20\n",
      "750/750 [==============================] - 14s 18ms/step - loss: 0.0357 - accuracy: 0.9880 - val_loss: 0.6872 - val_accuracy: 0.8720\n",
      "Epoch 20/20\n",
      "750/750 [==============================] - 14s 18ms/step - loss: 0.0369 - accuracy: 0.9878 - val_loss: 0.6254 - val_accuracy: 0.8687\n"
     ]
    }
   ],
   "source": [
    "history=model.fit(\n",
    "    X_train_trans,\n",
    "    y_train,\n",
    "    batch_size=32,\n",
    "    epochs=20,\n",
    "    validation_data=(X_validation_trans, y_validation)\n",
    ")"
   ]
  },
  {
   "cell_type": "code",
   "execution_count": 257,
   "id": "ccac8cee-96ff-4140-b6a1-cbe9245455b1",
   "metadata": {
    "tags": []
   },
   "outputs": [
    {
     "name": "stdout",
     "output_type": "stream",
     "text": [
      "250/250 [==============================] - 166s 663ms/step\n"
     ]
    }
   ],
   "source": [
    "X_test_trans=vgg.predict(X_test)"
   ]
  },
  {
   "cell_type": "code",
   "execution_count": 258,
   "id": "63a5f60d-ae1c-4ba6-afd4-25d6132ac808",
   "metadata": {
    "tags": []
   },
   "outputs": [
    {
     "name": "stdout",
     "output_type": "stream",
     "text": [
      "250/250 [==============================] - 1s 2ms/step - loss: 0.6383 - accuracy: 0.8643\n"
     ]
    },
    {
     "data": {
      "text/plain": [
       "[0.6383033394813538, 0.8642500042915344]"
      ]
     },
     "execution_count": 258,
     "metadata": {},
     "output_type": "execute_result"
    }
   ],
   "source": [
    "model.evaluate(X_test_trans, y_test)"
   ]
  },
  {
   "cell_type": "code",
   "execution_count": 259,
   "id": "8730796f-57bc-4072-8224-2b0fd386f197",
   "metadata": {},
   "outputs": [
    {
     "name": "stdout",
     "output_type": "stream",
     "text": [
      "0.1279469307512045\n",
      "0.9532208353281021\n",
      "0.5314050883054733\n",
      "0.863131245970726\n"
     ]
    }
   ],
   "source": [
    "print(np.mean(history.history['loss']))\n",
    "print(np.mean(history.history['accuracy']))\n",
    "print(np.mean(history.history['val_loss']))\n",
    "print(np.mean(history.history['val_accuracy']))"
   ]
  },
  {
   "cell_type": "markdown",
   "id": "a0fc5d71-0603-4034-b066-81de243f5ff9",
   "metadata": {},
   "source": [
    "## VGG16 모델 - 5개의 카테고리(종이, 유리병, 캔, 스티로폼, 페트병)\n",
    "10000개씩 총 50000개 데이터(이미지 리사이징)"
   ]
  },
  {
   "cell_type": "code",
   "execution_count": null,
   "id": "46173659-78e0-4e94-a6a0-0556fff8a4a1",
   "metadata": {
    "scrolled": true
   },
   "outputs": [],
   "source": [
    "# 각각의 리스트에 이미지파일명 담기\n",
    "paper_list=glob(\"./_trash/*종이류*/*/*/*.jpg\")\n",
    "glass_list=glob(\"./_trash/*유리병*/*/*/*.jpg\")\n",
    "can_list=glob(\"./_trash/*캔류*/*/*/*.jpg\")\n",
    "styrofoam_list=glob(\"./_trash/*스티로폼*/*/*/*.jpg\")\n",
    "pet_list=glob(\"./_trash/*페트병*/*/*/*.jpg\")\n",
    "\n",
    "# 각 리스트의 개수\n",
    "print(len(paper_list))\n",
    "print(len(glass_list))\n",
    "print(len(can_list))\n",
    "print(len(styrofoam_list))\n",
    "print(len(pet_list))"
   ]
  },
  {
   "cell_type": "code",
   "execution_count": null,
   "id": "f51f5dc5-d78d-4e6d-b859-bd9f8ff1f53e",
   "metadata": {
    "scrolled": true
   },
   "outputs": [],
   "source": [
    "data_list=list(chain(\n",
    "    paper_list,\n",
    "    glass_list,\n",
    "    can_list,\n",
    "    styrofoam_list,\n",
    "    pet_list\n",
    "))\n",
    "print(len(data_list))"
   ]
  },
  {
   "cell_type": "code",
   "execution_count": null,
   "id": "41bcda45-1e22-4125-9313-b6e96fd9e309",
   "metadata": {
    "scrolled": true
   },
   "outputs": [],
   "source": [
    "# 데이터셋 개수 설정함수\n",
    "def make_dl(n):\n",
    "    paper_list_n=paper_list[:n]\n",
    "    glass_list_n=glass_list[:n]\n",
    "    can_list_n=can_list[:n]\n",
    "    styrofoam_list_n=styrofoam_list[:n]\n",
    "    pet_list_n=pet_list[:n]\n",
    "    data_list_n=list(chain(\n",
    "        paper_list_n, \n",
    "        glass_list_n,\n",
    "        can_list_n,\n",
    "        styrofoam_list_n,\n",
    "        pet_list_n\n",
    "    ))\n",
    "    return data_list_n"
   ]
  },
  {
   "cell_type": "code",
   "execution_count": null,
   "id": "8acbb05e-1fc5-420f-9d12-1ff659c39b7a",
   "metadata": {
    "scrolled": true
   },
   "outputs": [],
   "source": [
    "# target리스트 생성함수\n",
    "def make_target(data_list):\n",
    "    target=[]\n",
    "    for idx, val in enumerate(data_list):\n",
    "        if '종이류' in val:\n",
    "            target.append(0)\n",
    "        elif '유리병' in val:\n",
    "            target.append(1)\n",
    "        elif '캔류' in val:\n",
    "            target.append(2)\n",
    "        elif '스티로폼' in val:\n",
    "            target.append(3)\n",
    "        elif '페트병' in val:\n",
    "            target.append(4)\n",
    "    return target"
   ]
  },
  {
   "cell_type": "code",
   "execution_count": null,
   "id": "de01be1c-0c77-4344-85a1-afb91fb08833",
   "metadata": {
    "scrolled": true
   },
   "outputs": [],
   "source": [
    "# 레이블\n",
    "def label_by_index(index):\n",
    "    labels = [\"종이류\", \"유리병\", \"캔류\", \"스티로폼\", \"페트병\"]\n",
    "    return labels[index]"
   ]
  },
  {
   "cell_type": "code",
   "execution_count": null,
   "id": "5ab3c346-0a94-48c6-89b5-d54eeaaa372c",
   "metadata": {
    "scrolled": true
   },
   "outputs": [],
   "source": [
    "n=10000\n",
    "\n",
    "# 각 분류당 n개 추출해서 data_list로 병합\n",
    "data_list=make_dl(n)\n",
    "\n",
    "# target 생성\n",
    "target=make_target(data_list)\n",
    "\n",
    "# 총 데이터셋 개수\n",
    "print(len(data_list))\n",
    "print(len(target))"
   ]
  },
  {
   "cell_type": "code",
   "execution_count": 279,
   "id": "d14ba767-060e-42d5-92c4-bd9ffdd3520c",
   "metadata": {
    "tags": []
   },
   "outputs": [
    {
     "name": "stdout",
     "output_type": "stream",
     "text": [
      "(50000, 5)\n"
     ]
    }
   ],
   "source": [
    "# 정수형클래스 레이블을 원-핫 인코딩 벡터로 변환하는 함수\n",
    "y = np.array(target)\n",
    "y = to_categorical(y)\n",
    "print(y.shape)"
   ]
  },
  {
   "cell_type": "code",
   "execution_count": 280,
   "id": "e0d1d598-d3e7-41b6-8cea-f8b034a7458d",
   "metadata": {
    "scrolled": true,
    "tags": []
   },
   "outputs": [],
   "source": [
    "X=scaling(data_list)"
   ]
  },
  {
   "cell_type": "code",
   "execution_count": 284,
   "id": "5656cb23-0bde-405e-b56f-b8a5edb645be",
   "metadata": {
    "tags": []
   },
   "outputs": [],
   "source": [
    "X_, X_test, y_, y_test = train_test_split(X, y, test_size=.2)"
   ]
  },
  {
   "cell_type": "code",
   "execution_count": 285,
   "id": "c68b14b6-2f17-4781-86b8-b2ebcc7e8c43",
   "metadata": {
    "tags": []
   },
   "outputs": [],
   "source": [
    "X_train, X_validation, y_train, y_validation = train_test_split(X_, y_)"
   ]
  },
  {
   "cell_type": "code",
   "execution_count": 286,
   "id": "f00759be-718f-437c-9dac-4daec1569b3d",
   "metadata": {
    "tags": []
   },
   "outputs": [
    {
     "name": "stdout",
     "output_type": "stream",
     "text": [
      "(10000, 150, 150, 3)\n",
      "(10000, 5)\n",
      "(30000, 150, 150, 3)\n",
      "(30000, 5)\n",
      "(10000, 150, 150, 3)\n",
      "(10000, 5)\n"
     ]
    }
   ],
   "source": [
    "print(X_test.shape)\n",
    "print(y_test.shape)\n",
    "print(X_train.shape)\n",
    "print(y_train.shape)\n",
    "print(X_validation.shape)\n",
    "print(y_validation.shape)"
   ]
  },
  {
   "cell_type": "code",
   "execution_count": 287,
   "id": "0151ea42-fff0-43b9-9f61-8094b786f749",
   "metadata": {
    "tags": []
   },
   "outputs": [
    {
     "name": "stdout",
     "output_type": "stream",
     "text": [
      "Model: \"vgg16\"\n",
      "_________________________________________________________________\n",
      " Layer (type)                Output Shape              Param #   \n",
      "=================================================================\n",
      " input_9 (InputLayer)        [(None, 150, 150, 3)]     0         \n",
      "                                                                 \n",
      " block1_conv1 (Conv2D)       (None, 150, 150, 64)      1792      \n",
      "                                                                 \n",
      " block1_conv2 (Conv2D)       (None, 150, 150, 64)      36928     \n",
      "                                                                 \n",
      " block1_pool (MaxPooling2D)  (None, 75, 75, 64)        0         \n",
      "                                                                 \n",
      " block2_conv1 (Conv2D)       (None, 75, 75, 128)       73856     \n",
      "                                                                 \n",
      " block2_conv2 (Conv2D)       (None, 75, 75, 128)       147584    \n",
      "                                                                 \n",
      " block2_pool (MaxPooling2D)  (None, 37, 37, 128)       0         \n",
      "                                                                 \n",
      " block3_conv1 (Conv2D)       (None, 37, 37, 256)       295168    \n",
      "                                                                 \n",
      " block3_conv2 (Conv2D)       (None, 37, 37, 256)       590080    \n",
      "                                                                 \n",
      " block3_conv3 (Conv2D)       (None, 37, 37, 256)       590080    \n",
      "                                                                 \n",
      " block3_pool (MaxPooling2D)  (None, 18, 18, 256)       0         \n",
      "                                                                 \n",
      " block4_conv1 (Conv2D)       (None, 18, 18, 512)       1180160   \n",
      "                                                                 \n",
      " block4_conv2 (Conv2D)       (None, 18, 18, 512)       2359808   \n",
      "                                                                 \n",
      " block4_conv3 (Conv2D)       (None, 18, 18, 512)       2359808   \n",
      "                                                                 \n",
      " block4_pool (MaxPooling2D)  (None, 9, 9, 512)         0         \n",
      "                                                                 \n",
      " block5_conv1 (Conv2D)       (None, 9, 9, 512)         2359808   \n",
      "                                                                 \n",
      " block5_conv2 (Conv2D)       (None, 9, 9, 512)         2359808   \n",
      "                                                                 \n",
      " block5_conv3 (Conv2D)       (None, 9, 9, 512)         2359808   \n",
      "                                                                 \n",
      " block5_pool (MaxPooling2D)  (None, 4, 4, 512)         0         \n",
      "                                                                 \n",
      "=================================================================\n",
      "Total params: 14714688 (56.13 MB)\n",
      "Trainable params: 14714688 (56.13 MB)\n",
      "Non-trainable params: 0 (0.00 Byte)\n",
      "_________________________________________________________________\n"
     ]
    }
   ],
   "source": [
    "vgg = VGG16(include_top=False, input_shape=(150,150,3))\n",
    "vgg.summary()"
   ]
  },
  {
   "cell_type": "code",
   "execution_count": 288,
   "id": "21292efc-edd0-4ec1-93c2-e72f4033bf0a",
   "metadata": {
    "scrolled": true,
    "tags": []
   },
   "outputs": [
    {
     "name": "stdout",
     "output_type": "stream",
     "text": [
      "938/938 [==============================] - 633s 674ms/step\n",
      "313/313 [==============================] - 210s 670ms/step\n"
     ]
    }
   ],
   "source": [
    "X_train_trans = vgg.predict(X_train)\n",
    "X_validation_trans = vgg.predict(X_validation)"
   ]
  },
  {
   "cell_type": "code",
   "execution_count": 289,
   "id": "6deeb924-aea4-4c76-b7dd-82fe1a999616",
   "metadata": {
    "tags": []
   },
   "outputs": [],
   "source": [
    "model = Sequential(\n",
    "    [\n",
    "        Flatten(input_shape=X_train_trans.shape[1:]),\n",
    "        Dense(256,activation='relu'),\n",
    "        BatchNormalization(),\n",
    "        Dense(128,activation='relu'),\n",
    "        BatchNormalization(),\n",
    "        Dense(64,activation='relu'),\n",
    "        BatchNormalization(),\n",
    "        Dense(32,activation='relu'),\n",
    "        BatchNormalization(),\n",
    "        Dense(5\n",
    "              ,activation='softmax')\n",
    "    ]\n",
    ")"
   ]
  },
  {
   "cell_type": "code",
   "execution_count": 290,
   "id": "96342e93-d476-4031-99ea-d0133b3087cd",
   "metadata": {
    "tags": []
   },
   "outputs": [],
   "source": [
    "model.compile(optimizer='adam',loss='categorical_crossentropy',metrics='accuracy')"
   ]
  },
  {
   "cell_type": "code",
   "execution_count": 291,
   "id": "1eff34d9-fbef-470d-8e27-fb62b3252097",
   "metadata": {
    "scrolled": true,
    "tags": []
   },
   "outputs": [
    {
     "name": "stdout",
     "output_type": "stream",
     "text": [
      "Epoch 1/20\n",
      "938/938 [==============================] - 19s 19ms/step - loss: 0.5061 - accuracy: 0.8124 - val_loss: 0.3470 - val_accuracy: 0.8714\n",
      "Epoch 2/20\n",
      "938/938 [==============================] - 17s 18ms/step - loss: 0.3263 - accuracy: 0.8820 - val_loss: 0.3540 - val_accuracy: 0.8706\n",
      "Epoch 3/20\n",
      "938/938 [==============================] - 17s 18ms/step - loss: 0.2375 - accuracy: 0.9139 - val_loss: 0.3340 - val_accuracy: 0.8824\n",
      "Epoch 4/20\n",
      "938/938 [==============================] - 17s 18ms/step - loss: 0.1839 - accuracy: 0.9331 - val_loss: 0.3368 - val_accuracy: 0.8882\n",
      "Epoch 5/20\n",
      "938/938 [==============================] - 17s 18ms/step - loss: 0.1494 - accuracy: 0.9471 - val_loss: 0.3538 - val_accuracy: 0.8872\n",
      "Epoch 6/20\n",
      "938/938 [==============================] - 17s 18ms/step - loss: 0.1202 - accuracy: 0.9564 - val_loss: 0.3774 - val_accuracy: 0.8881\n",
      "Epoch 7/20\n",
      "938/938 [==============================] - 17s 18ms/step - loss: 0.1011 - accuracy: 0.9641 - val_loss: 0.4400 - val_accuracy: 0.8786\n",
      "Epoch 8/20\n",
      "938/938 [==============================] - 17s 18ms/step - loss: 0.0851 - accuracy: 0.9700 - val_loss: 0.4253 - val_accuracy: 0.8812\n",
      "Epoch 9/20\n",
      "938/938 [==============================] - 17s 18ms/step - loss: 0.0703 - accuracy: 0.9752 - val_loss: 0.4512 - val_accuracy: 0.8843\n",
      "Epoch 10/20\n",
      "938/938 [==============================] - 17s 18ms/step - loss: 0.0648 - accuracy: 0.9768 - val_loss: 0.4658 - val_accuracy: 0.8854\n",
      "Epoch 11/20\n",
      "938/938 [==============================] - 17s 18ms/step - loss: 0.0537 - accuracy: 0.9820 - val_loss: 0.4875 - val_accuracy: 0.8808\n",
      "Epoch 12/20\n",
      "938/938 [==============================] - 17s 18ms/step - loss: 0.0482 - accuracy: 0.9835 - val_loss: 0.4879 - val_accuracy: 0.8838\n",
      "Epoch 13/20\n",
      "938/938 [==============================] - 17s 18ms/step - loss: 0.0476 - accuracy: 0.9839 - val_loss: 0.4929 - val_accuracy: 0.8842\n",
      "Epoch 14/20\n",
      "938/938 [==============================] - 17s 18ms/step - loss: 0.0434 - accuracy: 0.9857 - val_loss: 0.4957 - val_accuracy: 0.8795\n",
      "Epoch 15/20\n",
      "938/938 [==============================] - 17s 18ms/step - loss: 0.0423 - accuracy: 0.9853 - val_loss: 0.4813 - val_accuracy: 0.8915\n",
      "Epoch 16/20\n",
      "938/938 [==============================] - 17s 18ms/step - loss: 0.0356 - accuracy: 0.9883 - val_loss: 0.5250 - val_accuracy: 0.8880\n",
      "Epoch 17/20\n",
      "938/938 [==============================] - 17s 18ms/step - loss: 0.0330 - accuracy: 0.9889 - val_loss: 0.5132 - val_accuracy: 0.8888\n",
      "Epoch 18/20\n",
      "938/938 [==============================] - 17s 18ms/step - loss: 0.0299 - accuracy: 0.9905 - val_loss: 0.5038 - val_accuracy: 0.8928\n",
      "Epoch 19/20\n",
      "938/938 [==============================] - 17s 18ms/step - loss: 0.0268 - accuracy: 0.9909 - val_loss: 0.5140 - val_accuracy: 0.8891\n",
      "Epoch 20/20\n",
      "938/938 [==============================] - 17s 18ms/step - loss: 0.0282 - accuracy: 0.9908 - val_loss: 0.5520 - val_accuracy: 0.8894\n"
     ]
    }
   ],
   "source": [
    "history=model.fit(\n",
    "    X_train_trans,\n",
    "    y_train,\n",
    "    batch_size=32,\n",
    "    epochs=20,\n",
    "    validation_data=(X_validation_trans, y_validation)\n",
    ")"
   ]
  },
  {
   "cell_type": "code",
   "execution_count": 292,
   "id": "ed3bcb82-76bb-4269-ab2a-bc40cdf45602",
   "metadata": {
    "tags": []
   },
   "outputs": [
    {
     "name": "stdout",
     "output_type": "stream",
     "text": [
      "313/313 [==============================] - 209s 668ms/step\n"
     ]
    }
   ],
   "source": [
    "X_test_trans=vgg.predict(X_test)"
   ]
  },
  {
   "cell_type": "code",
   "execution_count": 293,
   "id": "d90e56b5-29a1-43d8-a3f2-f061b96136bc",
   "metadata": {
    "tags": []
   },
   "outputs": [
    {
     "name": "stdout",
     "output_type": "stream",
     "text": [
      "313/313 [==============================] - 1s 2ms/step - loss: 0.5847 - accuracy: 0.8817\n"
     ]
    },
    {
     "data": {
      "text/plain": [
       "[0.5846993923187256, 0.8816999793052673]"
      ]
     },
     "execution_count": 293,
     "metadata": {},
     "output_type": "execute_result"
    }
   ],
   "source": [
    "model.evaluate(X_test_trans, y_test)"
   ]
  },
  {
   "cell_type": "code",
   "execution_count": 294,
   "id": "f06f112d-c0fa-4e06-8fcd-df26f995f68b",
   "metadata": {
    "scrolled": true
   },
   "outputs": [
    {
     "name": "stdout",
     "output_type": "stream",
     "text": [
      "0.11166289420798421\n",
      "0.9600333333015442\n",
      "0.4469304412603378\n",
      "0.884264999628067\n"
     ]
    }
   ],
   "source": [
    "print(np.mean(history.history['loss']))\n",
    "print(np.mean(history.history['accuracy']))\n",
    "print(np.mean(history.history['val_loss']))\n",
    "print(np.mean(history.history['val_accuracy']))"
   ]
  },
  {
   "cell_type": "markdown",
   "id": "4a894747-2b24-4845-a805-8fc5546eac2a",
   "metadata": {},
   "source": [
    "## VGG16 모델 - 6개의 카테고리(종이, 플라스틱, 유리병, 캔, 스티로폼, 페트병) 무게 특성 추가\n",
    "10000개씩 총 60000개 데이터(이미지 리사이징)"
   ]
  },
  {
   "cell_type": "code",
   "execution_count": 412,
   "id": "b41f280b-c3e9-475b-9b39-745a7a5439b2",
   "metadata": {
    "tags": []
   },
   "outputs": [
    {
     "name": "stdout",
     "output_type": "stream",
     "text": [
      "40391\n",
      "40422\n",
      "42187\n",
      "36874\n",
      "40377\n",
      "40036\n"
     ]
    }
   ],
   "source": [
    "# 각각의 리스트에 이미지파일명 담기\n",
    "paper_list=glob(\"./_trash/*종이류*/*/*/*.jpg\")\n",
    "plastic_list=glob(\"./_trash/*플라스틱류*/*/*/*.jpg\")\n",
    "glass_list=glob(\"./_trash/*유리병*/*/*/*.jpg\")\n",
    "can_list=glob(\"./_trash/*캔류*/*/*/*.jpg\")\n",
    "styrofoam_list=glob(\"./_trash/*스티로폼*/*/*/*.jpg\")\n",
    "pet_list=glob(\"./_trash/*페트병*/*/*/*.jpg\")\n",
    "\n",
    "# 각 리스트의 개수\n",
    "print(len(paper_list))\n",
    "print(len(plastic_list))\n",
    "print(len(glass_list))\n",
    "print(len(can_list))\n",
    "print(len(styrofoam_list))\n",
    "print(len(pet_list))"
   ]
  },
  {
   "cell_type": "code",
   "execution_count": 361,
   "id": "5c998fa2-d5a7-454a-a751-2486fac4cbb1",
   "metadata": {
    "tags": []
   },
   "outputs": [
    {
     "name": "stdout",
     "output_type": "stream",
     "text": [
      "240287\n"
     ]
    }
   ],
   "source": [
    "data_list=list(chain(\n",
    "    paper_list,\n",
    "    plastic_list,\n",
    "    glass_list,\n",
    "    can_list,\n",
    "    styrofoam_list,\n",
    "    pet_list\n",
    "))\n",
    "print(len(data_list))"
   ]
  },
  {
   "cell_type": "code",
   "execution_count": 362,
   "id": "8c0ca176-d409-4d90-ad74-43fb5d5b0ce5",
   "metadata": {},
   "outputs": [],
   "source": [
    "# 데이터셋 개수 설정함수\n",
    "def make_dl_with_weight(n):\n",
    "    paper_list_n=paper_list[:n]\n",
    "    plastic_list_n=plastic_list[:n]\n",
    "    glass_list_n=glass_list[:n]\n",
    "    can_list_n=can_list[:n]\n",
    "    styrofoam_list_n=styrofoam_list[:n]\n",
    "    pet_list_n=pet_list[:n]\n",
    "    data_list_n=list(chain(\n",
    "        paper_list_n, \n",
    "        plastic_list_n, \n",
    "        glass_list_n, \n",
    "        can_list_n, \n",
    "        styrofoam_list_n, \n",
    "        pet_list_n\n",
    "    ))\n",
    "    return data_list_n"
   ]
  },
  {
   "cell_type": "code",
   "execution_count": 363,
   "id": "5d59cf30-fce3-4c4d-81d3-e6f3c4d00356",
   "metadata": {
    "tags": []
   },
   "outputs": [],
   "source": [
    "# target리스트 생성함수\n",
    "def make_target(data_list):\n",
    "    target=[]\n",
    "    for idx, val in enumerate(data_list):\n",
    "        if '종이류' in val:\n",
    "            target.append(0)\n",
    "        elif '플라스틱' in val:\n",
    "            target.append(1)\n",
    "        elif '유리병' in val:\n",
    "            target.append(2)\n",
    "        elif '캔류' in val:\n",
    "            target.append(3)\n",
    "        elif '스티로폼' in val:\n",
    "            target.append(4)\n",
    "        elif '페트병' in val:\n",
    "            target.append(5)\n",
    "    return target"
   ]
  },
  {
   "cell_type": "code",
   "execution_count": 364,
   "id": "634615e2-a6d2-4e96-a3ac-e5fcc1b3c0d4",
   "metadata": {
    "tags": []
   },
   "outputs": [],
   "source": [
    "# 레이블\n",
    "def label_by_index(index):\n",
    "    labels = [\"종이류\", \"플라스틱류\", \"유리병\", \"캔류\", \"스티로폼\", \"페트병\"]\n",
    "    return labels[index]"
   ]
  },
  {
   "cell_type": "code",
   "execution_count": 365,
   "id": "e8252a05-6e03-4068-9af8-edaf4e8ccf87",
   "metadata": {
    "editable": true,
    "slideshow": {
     "slide_type": ""
    },
    "tags": []
   },
   "outputs": [
    {
     "name": "stdout",
     "output_type": "stream",
     "text": [
      "60000\n"
     ]
    }
   ],
   "source": [
    "n=10000\n",
    "\n",
    "# 각 분류당 n개 추출해서 data_list로 병합\n",
    "data_list=make_dl(n)\n",
    "\n",
    "# target 생성\n",
    "target=make_target(data_list)\n",
    "\n",
    "# 총 데이터셋 개수\n",
    "print(len(data_list))"
   ]
  },
  {
   "cell_type": "code",
   "execution_count": 366,
   "id": "0acd5d13-3ec7-4add-96ef-c13886e8b5df",
   "metadata": {
    "tags": []
   },
   "outputs": [],
   "source": [
    "# 정수형클래스 레이블을 원-핫 인코딩 벡터로 변환하는 함수\n",
    "y = np.array(target)\n",
    "y = to_categorical(y)"
   ]
  },
  {
   "cell_type": "code",
   "execution_count": 380,
   "id": "544be86d-a5a5-4ddf-ae27-f42988f3b470",
   "metadata": {},
   "outputs": [],
   "source": [
    "weight_paper=np.random.randint(5,300,10000)\n",
    "weight_plastic=np.random.randint(40,60,10000)\n",
    "weight_glass=np.random.randint(454,960,10000)\n",
    "weight_can=np.random.randint(14,17,10000)\n",
    "weight_styrofoam=np.random.uniform(0,2,10000)\n",
    "weight_pet=np.random.randint(13,32,10000)"
   ]
  },
  {
   "cell_type": "code",
   "execution_count": 428,
   "id": "a5776992-1714-4474-9d61-a526a114f6a0",
   "metadata": {},
   "outputs": [
    {
     "data": {
      "text/plain": [
       "(60000, 1)"
      ]
     },
     "execution_count": 428,
     "metadata": {},
     "output_type": "execute_result"
    }
   ],
   "source": [
    "# weight=np.concatenate(weight_paper,weight_plastic)\n",
    "weight=np.concatenate([weight_paper, weight_plastic, weight_glass, weight_can, weight_styrofoam, weight_pet])\n",
    "weight.reshape(-1,1).shape"
   ]
  },
  {
   "cell_type": "code",
   "execution_count": 430,
   "id": "a0637c6b-e3a4-4cc2-a78c-8c34b72cad21",
   "metadata": {
    "scrolled": true,
    "tags": []
   },
   "outputs": [],
   "source": [
    "scaled_X=scaling(data_list)"
   ]
  },
  {
   "cell_type": "code",
   "execution_count": 437,
   "id": "d52245df-e9e3-44fc-8c97-a834a91c332d",
   "metadata": {},
   "outputs": [
    {
     "ename": "KeyboardInterrupt",
     "evalue": "",
     "output_type": "error",
     "traceback": [
      "\u001b[1;31m---------------------------------------------------------------------------\u001b[0m",
      "\u001b[1;31mKeyboardInterrupt\u001b[0m                         Traceback (most recent call last)",
      "Cell \u001b[1;32mIn[437], line 1\u001b[0m\n\u001b[1;32m----> 1\u001b[0m X\u001b[38;5;241m=\u001b[39m\u001b[43mnp\u001b[49m\u001b[38;5;241;43m.\u001b[39;49m\u001b[43mmultiply\u001b[49m\u001b[43m(\u001b[49m\u001b[43mweight\u001b[49m\u001b[38;5;241;43m.\u001b[39;49m\u001b[43mreshape\u001b[49m\u001b[43m(\u001b[49m\u001b[38;5;241;43m-\u001b[39;49m\u001b[38;5;241;43m1\u001b[39;49m\u001b[43m,\u001b[49m\u001b[38;5;241;43m1\u001b[39;49m\u001b[43m)\u001b[49m\u001b[43m,\u001b[49m\u001b[43mscaled_X\u001b[49m\u001b[38;5;241;43m.\u001b[39;49m\u001b[43mreshape\u001b[49m\u001b[43m(\u001b[49m\u001b[38;5;241;43m60000\u001b[39;49m\u001b[43m,\u001b[49m\u001b[38;5;241;43m-\u001b[39;49m\u001b[38;5;241;43m1\u001b[39;49m\u001b[43m)\u001b[49m\u001b[43m)\u001b[49m\n\u001b[0;32m      2\u001b[0m X\u001b[38;5;241m.\u001b[39mshape\n",
      "\u001b[1;31mKeyboardInterrupt\u001b[0m: "
     ]
    }
   ],
   "source": [
    "X=np.multiply(weight.reshape(-1,1),scaled_X.reshape(60000,-1))"
   ]
  },
  {
   "cell_type": "code",
   "execution_count": 441,
   "id": "422412fe-5a72-4da9-beae-dcbc93ca5092",
   "metadata": {},
   "outputs": [
    {
     "data": {
      "text/plain": [
       "(60000, 67500)"
      ]
     },
     "execution_count": 441,
     "metadata": {},
     "output_type": "execute_result"
    }
   ],
   "source": [
    "X.shape"
   ]
  },
  {
   "cell_type": "code",
   "execution_count": 443,
   "id": "ab5bbe4d-5880-49be-b55a-a22aa7b941f1",
   "metadata": {},
   "outputs": [],
   "source": [
    "X=X.reshape(-1,150,150,3)"
   ]
  },
  {
   "cell_type": "code",
   "execution_count": 526,
   "id": "f59e23a9-f94f-4c27-b823-9240aae4ad9b",
   "metadata": {
    "tags": []
   },
   "outputs": [],
   "source": [
    "X_, X_test, y_, y_test = train_test_split(X, y, test_size=.2, shuffle=True, random_state=42)"
   ]
  },
  {
   "cell_type": "code",
   "execution_count": 527,
   "id": "f903f535-f779-4a71-bbea-1293abf4c863",
   "metadata": {
    "tags": []
   },
   "outputs": [],
   "source": [
    "X_train, X_validation, y_train, y_validation = train_test_split(X_, y_, shuffle=True, random_state=42)"
   ]
  },
  {
   "cell_type": "code",
   "execution_count": 446,
   "id": "bdcc6fec-7f98-43ba-a7d1-e01267fd17b7",
   "metadata": {
    "tags": []
   },
   "outputs": [
    {
     "name": "stdout",
     "output_type": "stream",
     "text": [
      "(12000, 150, 150, 3)\n",
      "(12000, 6)\n",
      "(36000, 150, 150, 3)\n",
      "(36000, 6)\n",
      "(12000, 150, 150, 3)\n",
      "(12000, 6)\n"
     ]
    }
   ],
   "source": [
    "print(X_test.shape)\n",
    "print(y_test.shape)\n",
    "print(X_train.shape)\n",
    "print(y_train.shape)\n",
    "print(X_validation.shape)\n",
    "print(y_validation.shape)"
   ]
  },
  {
   "cell_type": "code",
   "execution_count": 521,
   "id": "eef8c753-8be1-403e-bc40-878bb8c16cb1",
   "metadata": {
    "scrolled": true
   },
   "outputs": [
    {
     "data": {
      "text/plain": [
       "array([[[[8.2360e+03, 8.4680e+03, 9.1640e+03],\n",
       "         [7.3080e+03, 7.5400e+03, 8.2360e+03],\n",
       "         [7.0760e+03, 7.3080e+03, 8.0040e+03],\n",
       "         ...,\n",
       "         [7.7140e+03, 7.8300e+03, 8.5840e+03],\n",
       "         [8.0040e+03, 8.0040e+03, 8.6420e+03],\n",
       "         [9.8020e+03, 9.8020e+03, 1.0324e+04]],\n",
       "\n",
       "        [[7.1340e+03, 7.3660e+03, 8.0620e+03],\n",
       "         [6.8440e+03, 7.0760e+03, 7.7720e+03],\n",
       "         [7.8300e+03, 8.0620e+03, 8.7580e+03],\n",
       "         ...,\n",
       "         [9.1640e+03, 9.2800e+03, 9.9760e+03],\n",
       "         [7.7720e+03, 7.8300e+03, 8.4680e+03],\n",
       "         [7.8300e+03, 7.8880e+03, 8.4100e+03]],\n",
       "\n",
       "        [[6.8440e+03, 7.0760e+03, 7.7720e+03],\n",
       "         [7.3080e+03, 7.5400e+03, 8.2360e+03],\n",
       "         [7.1340e+03, 7.3660e+03, 8.0620e+03],\n",
       "         ...,\n",
       "         [7.7720e+03, 7.8880e+03, 8.6420e+03],\n",
       "         [7.8880e+03, 8.0040e+03, 8.7000e+03],\n",
       "         [8.1780e+03, 8.3520e+03, 8.8740e+03]],\n",
       "\n",
       "        ...,\n",
       "\n",
       "        [[1.6240e+03, 1.6240e+03, 1.6240e+03],\n",
       "         [3.2480e+03, 3.2480e+03, 3.2480e+03],\n",
       "         [4.5240e+03, 4.5240e+03, 4.5240e+03],\n",
       "         ...,\n",
       "         [7.5400e+02, 6.3800e+02, 8.1200e+02],\n",
       "         [6.9600e+02, 5.8000e+02, 7.5400e+02],\n",
       "         [5.8000e+02, 4.6400e+02, 6.3800e+02]],\n",
       "\n",
       "        [[1.7980e+03, 1.7980e+03, 1.7980e+03],\n",
       "         [3.8280e+03, 3.8280e+03, 3.8280e+03],\n",
       "         [4.6980e+03, 4.6980e+03, 4.6980e+03],\n",
       "         ...,\n",
       "         [6.3800e+02, 5.2200e+02, 6.9600e+02],\n",
       "         [6.3800e+02, 5.2200e+02, 6.9600e+02],\n",
       "         [5.2200e+02, 4.0600e+02, 5.8000e+02]],\n",
       "\n",
       "        [[1.9720e+03, 1.9720e+03, 1.8560e+03],\n",
       "         [4.0020e+03, 4.0020e+03, 3.8860e+03],\n",
       "         [4.8720e+03, 4.8720e+03, 4.7560e+03],\n",
       "         ...,\n",
       "         [6.3800e+02, 5.2200e+02, 6.9600e+02],\n",
       "         [6.3800e+02, 5.2200e+02, 6.9600e+02],\n",
       "         [5.2200e+02, 4.0600e+02, 5.8000e+02]]],\n",
       "\n",
       "\n",
       "       [[[3.6000e+03, 3.7920e+03, 3.7440e+03],\n",
       "         [2.2560e+03, 2.4240e+03, 2.3760e+03],\n",
       "         [7.2000e+02, 8.4000e+02, 7.9200e+02],\n",
       "         ...,\n",
       "         [1.6560e+03, 1.7040e+03, 1.6800e+03],\n",
       "         [1.6560e+03, 1.7040e+03, 1.6800e+03],\n",
       "         [1.6320e+03, 1.6800e+03, 1.6560e+03]],\n",
       "\n",
       "        [[1.3680e+03, 1.4880e+03, 1.4160e+03],\n",
       "         [3.8400e+02, 4.5600e+02, 3.8400e+02],\n",
       "         [4.8000e+02, 5.2800e+02, 4.3200e+02],\n",
       "         ...,\n",
       "         [2.0640e+03, 2.0640e+03, 2.0160e+03],\n",
       "         [2.0640e+03, 2.0640e+03, 2.0160e+03],\n",
       "         [1.4880e+03, 1.4880e+03, 1.4400e+03]],\n",
       "\n",
       "        [[5.2800e+02, 5.2800e+02, 4.0800e+02],\n",
       "         [5.5200e+02, 5.5200e+02, 4.3200e+02],\n",
       "         [5.7600e+02, 5.5200e+02, 4.5600e+02],\n",
       "         ...,\n",
       "         [1.6560e+03, 1.6560e+03, 1.6080e+03],\n",
       "         [1.8240e+03, 1.8240e+03, 1.7760e+03],\n",
       "         [1.8000e+03, 1.8000e+03, 1.7520e+03]],\n",
       "\n",
       "        ...,\n",
       "\n",
       "        [[2.6400e+03, 2.6880e+03, 2.9520e+03],\n",
       "         [2.2080e+03, 2.2800e+03, 2.4960e+03],\n",
       "         [2.8320e+03, 2.9040e+03, 3.1200e+03],\n",
       "         ...,\n",
       "         [1.4880e+03, 1.3200e+03, 1.2720e+03],\n",
       "         [2.2800e+03, 2.1120e+03, 2.0640e+03],\n",
       "         [1.6560e+03, 1.5120e+03, 1.4400e+03]],\n",
       "\n",
       "        [[2.2560e+03, 2.3280e+03, 2.5200e+03],\n",
       "         [2.7600e+03, 2.8320e+03, 3.0480e+03],\n",
       "         [3.1200e+03, 3.1920e+03, 3.4080e+03],\n",
       "         ...,\n",
       "         [1.2960e+03, 1.1040e+03, 1.0560e+03],\n",
       "         [1.9920e+03, 1.8000e+03, 1.7520e+03],\n",
       "         [1.9680e+03, 1.7760e+03, 1.7280e+03]],\n",
       "\n",
       "        [[2.4240e+03, 2.5200e+03, 2.5920e+03],\n",
       "         [2.8320e+03, 2.9040e+03, 3.0240e+03],\n",
       "         [2.5680e+03, 2.6400e+03, 2.8320e+03],\n",
       "         ...,\n",
       "         [1.2720e+03, 1.1040e+03, 1.0320e+03],\n",
       "         [1.7040e+03, 1.5600e+03, 1.4640e+03],\n",
       "         [1.7040e+03, 1.5600e+03, 1.4640e+03]]],\n",
       "\n",
       "\n",
       "       [[[7.0182e+04, 7.2410e+04, 7.4081e+04],\n",
       "         [8.2436e+04, 8.3550e+04, 8.4664e+04],\n",
       "         [7.9651e+04, 8.0208e+04, 8.0765e+04],\n",
       "         ...,\n",
       "         [7.1853e+04, 7.1296e+04, 7.4081e+04],\n",
       "         [6.7397e+04, 6.6840e+04, 6.9625e+04],\n",
       "         [6.6283e+04, 6.5726e+04, 6.8511e+04]],\n",
       "\n",
       "        [[8.3550e+04, 8.3550e+04, 8.4107e+04],\n",
       "         [8.3550e+04, 8.3550e+04, 8.3550e+04],\n",
       "         [8.5221e+04, 8.4664e+04, 8.4107e+04],\n",
       "         ...,\n",
       "         [6.9625e+04, 6.9068e+04, 7.1853e+04],\n",
       "         [6.4055e+04, 6.3498e+04, 6.6283e+04],\n",
       "         [7.0739e+04, 7.0182e+04, 7.2967e+04]],\n",
       "\n",
       "        [[7.7423e+04, 7.5195e+04, 7.2967e+04],\n",
       "         [7.9094e+04, 7.6866e+04, 7.5195e+04],\n",
       "         [7.2967e+04, 7.1296e+04, 7.0182e+04],\n",
       "         ...,\n",
       "         [6.7397e+04, 6.6840e+04, 6.9625e+04],\n",
       "         [6.8511e+04, 6.7954e+04, 7.0739e+04],\n",
       "         [8.0765e+04, 8.0208e+04, 8.2993e+04]],\n",
       "\n",
       "        ...,\n",
       "\n",
       "        [[5.2915e+04, 5.4586e+04, 5.7928e+04],\n",
       "         [5.4029e+04, 5.5700e+04, 5.7928e+04],\n",
       "         [3.7319e+04, 3.7876e+04, 3.9547e+04],\n",
       "         ...,\n",
       "         [6.0156e+04, 5.9042e+04, 5.9599e+04],\n",
       "         [5.4586e+04, 5.3472e+04, 5.4029e+04],\n",
       "         [8.0208e+04, 7.9094e+04, 7.9651e+04]],\n",
       "\n",
       "        [[4.2889e+04, 4.3446e+04, 4.4003e+04],\n",
       "         [5.5143e+04, 5.5700e+04, 5.6257e+04],\n",
       "         [4.6231e+04, 4.6788e+04, 4.6788e+04],\n",
       "         ...,\n",
       "         [5.0130e+04, 4.9016e+04, 4.9573e+04],\n",
       "         [5.2358e+04, 5.1244e+04, 5.1801e+04],\n",
       "         [5.1244e+04, 5.0130e+04, 5.0687e+04]],\n",
       "\n",
       "        [[5.4586e+04, 5.5700e+04, 5.3472e+04],\n",
       "         [6.2384e+04, 6.2941e+04, 6.1270e+04],\n",
       "         [5.9599e+04, 6.0156e+04, 5.7928e+04],\n",
       "         ...,\n",
       "         [4.8459e+04, 4.7345e+04, 4.7902e+04],\n",
       "         [5.7371e+04, 5.6257e+04, 5.6814e+04],\n",
       "         [4.5674e+04, 4.4560e+04, 4.5117e+04]]],\n",
       "\n",
       "\n",
       "       ...,\n",
       "\n",
       "\n",
       "       [[[2.2540e+03, 2.1280e+03, 1.5820e+03],\n",
       "         [2.2400e+03, 2.1140e+03, 1.5680e+03],\n",
       "         [2.4080e+03, 2.2680e+03, 1.7640e+03],\n",
       "         ...,\n",
       "         [2.8560e+03, 2.5900e+03, 2.1280e+03],\n",
       "         [2.8280e+03, 2.5620e+03, 2.1000e+03],\n",
       "         [2.7860e+03, 2.5200e+03, 2.0580e+03]],\n",
       "\n",
       "        [[2.3380e+03, 2.2120e+03, 1.6800e+03],\n",
       "         [2.2960e+03, 2.1560e+03, 1.6520e+03],\n",
       "         [2.6880e+03, 2.5480e+03, 2.0440e+03],\n",
       "         ...,\n",
       "         [2.6880e+03, 2.4640e+03, 2.0020e+03],\n",
       "         [2.7300e+03, 2.5060e+03, 2.0440e+03],\n",
       "         [2.7020e+03, 2.4780e+03, 2.0160e+03]],\n",
       "\n",
       "        [[2.5340e+03, 2.3940e+03, 1.9040e+03],\n",
       "         [1.6520e+03, 1.5120e+03, 1.0220e+03],\n",
       "         [1.9880e+03, 1.8340e+03, 1.3580e+03],\n",
       "         ...,\n",
       "         [2.6320e+03, 2.4080e+03, 1.9460e+03],\n",
       "         [2.5760e+03, 2.3520e+03, 1.8900e+03],\n",
       "         [2.5620e+03, 2.3380e+03, 1.8760e+03]],\n",
       "\n",
       "        ...,\n",
       "\n",
       "        [[1.8900e+03, 1.8760e+03, 1.8200e+03],\n",
       "         [1.8060e+03, 1.7920e+03, 1.7360e+03],\n",
       "         [2.0020e+03, 1.9880e+03, 1.9320e+03],\n",
       "         ...,\n",
       "         [1.8480e+03, 1.8760e+03, 1.8620e+03],\n",
       "         [1.6380e+03, 1.6660e+03, 1.6520e+03],\n",
       "         [1.7360e+03, 1.7640e+03, 1.7500e+03]],\n",
       "\n",
       "        [[1.9880e+03, 1.9740e+03, 1.9180e+03],\n",
       "         [1.9180e+03, 1.9040e+03, 1.8480e+03],\n",
       "         [1.9320e+03, 1.9180e+03, 1.8620e+03],\n",
       "         ...,\n",
       "         [2.0020e+03, 2.0300e+03, 2.0160e+03],\n",
       "         [1.6240e+03, 1.6520e+03, 1.6380e+03],\n",
       "         [1.8340e+03, 1.8620e+03, 1.8480e+03]],\n",
       "\n",
       "        [[1.9040e+03, 1.8900e+03, 1.8340e+03],\n",
       "         [1.8900e+03, 1.8760e+03, 1.8200e+03],\n",
       "         [1.9180e+03, 1.9040e+03, 1.8480e+03],\n",
       "         ...,\n",
       "         [2.1420e+03, 2.1700e+03, 2.1280e+03],\n",
       "         [1.9740e+03, 2.0020e+03, 1.9600e+03],\n",
       "         [2.0300e+03, 2.0580e+03, 2.0160e+03]]],\n",
       "\n",
       "\n",
       "       [[[6.4480e+03, 5.5640e+03, 4.2120e+03],\n",
       "         [4.8360e+03, 4.4720e+03, 3.5880e+03],\n",
       "         [2.7560e+03, 3.1200e+03, 2.8080e+03],\n",
       "         ...,\n",
       "         [7.1240e+03, 7.1240e+03, 6.2400e+03],\n",
       "         [6.9160e+03, 6.9680e+03, 6.1360e+03],\n",
       "         [7.0720e+03, 7.1760e+03, 6.3960e+03]],\n",
       "\n",
       "        [[6.6040e+03, 5.7720e+03, 4.4720e+03],\n",
       "         [3.6400e+03, 3.2760e+03, 2.3920e+03],\n",
       "         [4.0040e+03, 4.3160e+03, 3.9520e+03],\n",
       "         ...,\n",
       "         [6.8640e+03, 6.8120e+03, 5.8760e+03],\n",
       "         [7.2800e+03, 7.3320e+03, 6.5000e+03],\n",
       "         [7.2280e+03, 7.2800e+03, 6.5000e+03]],\n",
       "\n",
       "        [[6.6040e+03, 5.8240e+03, 4.5760e+03],\n",
       "         [3.4840e+03, 3.1720e+03, 2.2880e+03],\n",
       "         [5.3040e+03, 5.6160e+03, 5.2520e+03],\n",
       "         ...,\n",
       "         [5.5120e+03, 5.4600e+03, 4.5760e+03],\n",
       "         [6.8120e+03, 6.8640e+03, 6.0320e+03],\n",
       "         [6.8120e+03, 6.9160e+03, 6.1880e+03]],\n",
       "\n",
       "        ...,\n",
       "\n",
       "        [[4.5760e+03, 4.5760e+03, 5.2000e+03],\n",
       "         [4.5760e+03, 4.5760e+03, 5.2000e+03],\n",
       "         [4.5240e+03, 4.5240e+03, 5.0960e+03],\n",
       "         ...,\n",
       "         [3.3280e+03, 3.5360e+03, 3.2240e+03],\n",
       "         [2.6000e+03, 3.0680e+03, 2.7040e+03],\n",
       "         [2.0800e+03, 2.6520e+03, 2.2880e+03]],\n",
       "\n",
       "        [[4.4200e+03, 4.3680e+03, 5.0960e+03],\n",
       "         [4.3160e+03, 4.3160e+03, 4.9920e+03],\n",
       "         [4.3680e+03, 4.3160e+03, 4.9920e+03],\n",
       "         ...,\n",
       "         [4.0560e+03, 4.1080e+03, 3.8480e+03],\n",
       "         [2.8080e+03, 3.1200e+03, 2.7560e+03],\n",
       "         [2.2880e+03, 2.8080e+03, 2.3400e+03]],\n",
       "\n",
       "        [[4.5240e+03, 4.4720e+03, 5.3040e+03],\n",
       "         [4.4200e+03, 4.3680e+03, 5.1480e+03],\n",
       "         [4.3160e+03, 4.2640e+03, 4.9920e+03],\n",
       "         ...,\n",
       "         [4.7840e+03, 4.7320e+03, 4.4720e+03],\n",
       "         [2.9640e+03, 3.1720e+03, 2.7560e+03],\n",
       "         [2.3920e+03, 2.8080e+03, 2.2880e+03]]],\n",
       "\n",
       "\n",
       "       [[[2.5600e+02, 4.9600e+02, 8.0000e+01],\n",
       "         [8.3200e+02, 9.7600e+02, 5.6000e+02],\n",
       "         [1.7600e+03, 1.7600e+03, 1.3280e+03],\n",
       "         ...,\n",
       "         [1.1040e+03, 1.5360e+03, 1.9520e+03],\n",
       "         [1.0720e+03, 1.5040e+03, 1.9040e+03],\n",
       "         [1.0560e+03, 1.4240e+03, 1.8080e+03]],\n",
       "\n",
       "        [[3.0400e+02, 4.9600e+02, 1.2800e+02],\n",
       "         [5.2800e+02, 6.4000e+02, 2.7200e+02],\n",
       "         [1.4240e+03, 1.4080e+03, 1.0560e+03],\n",
       "         ...,\n",
       "         [1.1840e+03, 1.5840e+03, 1.9520e+03],\n",
       "         [1.1520e+03, 1.5520e+03, 1.9200e+03],\n",
       "         [1.1040e+03, 1.4880e+03, 1.8400e+03]],\n",
       "\n",
       "        [[3.8400e+02, 5.1200e+02, 1.9200e+02],\n",
       "         [4.1600e+02, 4.8000e+02, 1.9200e+02],\n",
       "         [8.8000e+02, 8.6400e+02, 6.0800e+02],\n",
       "         ...,\n",
       "         [1.2800e+03, 1.6160e+03, 1.9040e+03],\n",
       "         [1.2160e+03, 1.5680e+03, 1.8880e+03],\n",
       "         [1.1520e+03, 1.5040e+03, 1.8080e+03]],\n",
       "\n",
       "        ...,\n",
       "\n",
       "        [[1.8720e+03, 1.8240e+03, 1.7120e+03],\n",
       "         [1.8880e+03, 1.8400e+03, 1.7280e+03],\n",
       "         [1.7440e+03, 1.6960e+03, 1.5840e+03],\n",
       "         ...,\n",
       "         [1.6000e+03, 1.5840e+03, 1.5520e+03],\n",
       "         [1.9520e+03, 1.9680e+03, 1.9040e+03],\n",
       "         [2.1440e+03, 2.1600e+03, 2.0960e+03]],\n",
       "\n",
       "        [[1.8720e+03, 1.8240e+03, 1.7120e+03],\n",
       "         [1.6320e+03, 1.5840e+03, 1.4720e+03],\n",
       "         [1.9200e+03, 1.8720e+03, 1.7600e+03],\n",
       "         ...,\n",
       "         [1.6480e+03, 1.6480e+03, 1.6160e+03],\n",
       "         [1.6480e+03, 1.6640e+03, 1.6480e+03],\n",
       "         [1.6480e+03, 1.6960e+03, 1.6640e+03]],\n",
       "\n",
       "        [[2.1280e+03, 2.0800e+03, 1.9680e+03],\n",
       "         [2.2240e+03, 2.1760e+03, 2.0640e+03],\n",
       "         [1.6800e+03, 1.6320e+03, 1.5200e+03],\n",
       "         ...,\n",
       "         [1.7280e+03, 1.7280e+03, 1.7120e+03],\n",
       "         [1.2800e+03, 1.3280e+03, 1.3120e+03],\n",
       "         [1.0880e+03, 1.1680e+03, 1.1680e+03]]]])"
      ]
     },
     "execution_count": 521,
     "metadata": {},
     "output_type": "execute_result"
    }
   ],
   "source": [
    "X_train"
   ]
  },
  {
   "cell_type": "code",
   "execution_count": 447,
   "id": "4be4e200-ab99-414b-98b1-34ddbb8f20c2",
   "metadata": {
    "tags": []
   },
   "outputs": [
    {
     "name": "stdout",
     "output_type": "stream",
     "text": [
      "Model: \"vgg16\"\n",
      "_________________________________________________________________\n",
      " Layer (type)                Output Shape              Param #   \n",
      "=================================================================\n",
      " input_12 (InputLayer)       [(None, 150, 150, 3)]     0         \n",
      "                                                                 \n",
      " block1_conv1 (Conv2D)       (None, 150, 150, 64)      1792      \n",
      "                                                                 \n",
      " block1_conv2 (Conv2D)       (None, 150, 150, 64)      36928     \n",
      "                                                                 \n",
      " block1_pool (MaxPooling2D)  (None, 75, 75, 64)        0         \n",
      "                                                                 \n",
      " block2_conv1 (Conv2D)       (None, 75, 75, 128)       73856     \n",
      "                                                                 \n",
      " block2_conv2 (Conv2D)       (None, 75, 75, 128)       147584    \n",
      "                                                                 \n",
      " block2_pool (MaxPooling2D)  (None, 37, 37, 128)       0         \n",
      "                                                                 \n",
      " block3_conv1 (Conv2D)       (None, 37, 37, 256)       295168    \n",
      "                                                                 \n",
      " block3_conv2 (Conv2D)       (None, 37, 37, 256)       590080    \n",
      "                                                                 \n",
      " block3_conv3 (Conv2D)       (None, 37, 37, 256)       590080    \n",
      "                                                                 \n",
      " block3_pool (MaxPooling2D)  (None, 18, 18, 256)       0         \n",
      "                                                                 \n",
      " block4_conv1 (Conv2D)       (None, 18, 18, 512)       1180160   \n",
      "                                                                 \n",
      " block4_conv2 (Conv2D)       (None, 18, 18, 512)       2359808   \n",
      "                                                                 \n",
      " block4_conv3 (Conv2D)       (None, 18, 18, 512)       2359808   \n",
      "                                                                 \n",
      " block4_pool (MaxPooling2D)  (None, 9, 9, 512)         0         \n",
      "                                                                 \n",
      " block5_conv1 (Conv2D)       (None, 9, 9, 512)         2359808   \n",
      "                                                                 \n",
      " block5_conv2 (Conv2D)       (None, 9, 9, 512)         2359808   \n",
      "                                                                 \n",
      " block5_conv3 (Conv2D)       (None, 9, 9, 512)         2359808   \n",
      "                                                                 \n",
      " block5_pool (MaxPooling2D)  (None, 4, 4, 512)         0         \n",
      "                                                                 \n",
      "=================================================================\n",
      "Total params: 14714688 (56.13 MB)\n",
      "Trainable params: 14714688 (56.13 MB)\n",
      "Non-trainable params: 0 (0.00 Byte)\n",
      "_________________________________________________________________\n"
     ]
    }
   ],
   "source": [
    "vgg = VGG16(include_top=False, input_shape=(150,150,3))\n",
    "vgg.summary()"
   ]
  },
  {
   "cell_type": "code",
   "execution_count": 448,
   "id": "82f3dea3-57e4-4ce6-b196-0e85794b0c6b",
   "metadata": {
    "tags": []
   },
   "outputs": [
    {
     "name": "stdout",
     "output_type": "stream",
     "text": [
      "1125/1125 [==============================] - 798s 708ms/step\n",
      "375/375 [==============================] - 264s 702ms/step\n"
     ]
    }
   ],
   "source": [
    "X_train_trans = vgg.predict(X_train)\n",
    "X_validation_trans = vgg.predict(X_validation)"
   ]
  },
  {
   "cell_type": "code",
   "execution_count": 524,
   "id": "f369f3f0-1ed0-4efd-9c57-1e45cb176a6b",
   "metadata": {},
   "outputs": [
    {
     "data": {
      "text/plain": [
       "(36000, 8192)"
      ]
     },
     "execution_count": 524,
     "metadata": {},
     "output_type": "execute_result"
    }
   ],
   "source": [
    "X_train_trans.reshape(36000,-1).shape"
   ]
  },
  {
   "cell_type": "code",
   "execution_count": 452,
   "id": "f0a719b4-1a35-4ae8-bb68-a108a658fe37",
   "metadata": {
    "tags": []
   },
   "outputs": [],
   "source": [
    "model = Sequential(\n",
    "    [\n",
    "        Flatten(input_shape=X_train_trans.shape[1:]),\n",
    "        Dense(256,activation='relu'),\n",
    "        BatchNormalization(),\n",
    "        Dense(128,activation='relu'),\n",
    "        BatchNormalization(),\n",
    "        Dense(64,activation='relu'),\n",
    "        BatchNormalization(),\n",
    "        Dense(32,activation='relu'),\n",
    "        BatchNormalization(),\n",
    "        Dense(6\n",
    "              ,activation='softmax')\n",
    "    ]\n",
    ")"
   ]
  },
  {
   "cell_type": "code",
   "execution_count": 453,
   "id": "a41d8421-bf21-4614-8802-44f286e44938",
   "metadata": {
    "tags": []
   },
   "outputs": [],
   "source": [
    "model.compile(optimizer='adam',loss='categorical_crossentropy',metrics='accuracy')"
   ]
  },
  {
   "cell_type": "code",
   "execution_count": 454,
   "id": "89f4c99c-90c6-4b69-849e-9d099b1cd60a",
   "metadata": {
    "tags": []
   },
   "outputs": [
    {
     "name": "stdout",
     "output_type": "stream",
     "text": [
      "Epoch 1/20\n",
      "1125/1125 [==============================] - 24s 20ms/step - loss: 0.3813 - accuracy: 0.8662 - val_loss: 0.7048 - val_accuracy: 0.8493\n",
      "Epoch 2/20\n",
      "1125/1125 [==============================] - 22s 19ms/step - loss: 0.1957 - accuracy: 0.9312 - val_loss: 0.2733 - val_accuracy: 0.9579\n",
      "Epoch 3/20\n",
      "1125/1125 [==============================] - 22s 20ms/step - loss: 0.1733 - accuracy: 0.9401 - val_loss: 1.2700 - val_accuracy: 0.7755\n",
      "Epoch 4/20\n",
      "1125/1125 [==============================] - 22s 19ms/step - loss: 0.1400 - accuracy: 0.9514 - val_loss: 0.4720 - val_accuracy: 0.7842\n",
      "Epoch 5/20\n",
      "1125/1125 [==============================] - 21s 19ms/step - loss: 0.1184 - accuracy: 0.9576 - val_loss: 1.5607 - val_accuracy: 0.7762\n",
      "Epoch 6/20\n",
      "1125/1125 [==============================] - 22s 20ms/step - loss: 0.1086 - accuracy: 0.9620 - val_loss: 1.3181 - val_accuracy: 0.7918\n",
      "Epoch 7/20\n",
      "1125/1125 [==============================] - 22s 19ms/step - loss: 0.1029 - accuracy: 0.9637 - val_loss: 1.4667 - val_accuracy: 0.7661\n",
      "Epoch 8/20\n",
      "1125/1125 [==============================] - 22s 19ms/step - loss: 0.0843 - accuracy: 0.9709 - val_loss: 1.3513 - val_accuracy: 0.7765\n",
      "Epoch 9/20\n",
      "1125/1125 [==============================] - 22s 19ms/step - loss: 0.0766 - accuracy: 0.9732 - val_loss: 1.7782 - val_accuracy: 0.7846\n",
      "Epoch 10/20\n",
      "1125/1125 [==============================] - 22s 19ms/step - loss: 0.0711 - accuracy: 0.9751 - val_loss: 0.4047 - val_accuracy: 0.8082\n",
      "Epoch 11/20\n",
      "1125/1125 [==============================] - 22s 19ms/step - loss: 0.0601 - accuracy: 0.9785 - val_loss: 1.6866 - val_accuracy: 0.7825\n",
      "Epoch 12/20\n",
      "1125/1125 [==============================] - 22s 19ms/step - loss: 0.0586 - accuracy: 0.9798 - val_loss: 0.4557 - val_accuracy: 0.7845\n",
      "Epoch 13/20\n",
      "1125/1125 [==============================] - 22s 19ms/step - loss: 0.0568 - accuracy: 0.9807 - val_loss: 1.7653 - val_accuracy: 0.7527\n",
      "Epoch 14/20\n",
      "1125/1125 [==============================] - 22s 19ms/step - loss: 0.0544 - accuracy: 0.9821 - val_loss: 0.7429 - val_accuracy: 0.7951\n",
      "Epoch 15/20\n",
      "1125/1125 [==============================] - 23s 21ms/step - loss: 0.0473 - accuracy: 0.9836 - val_loss: 2.5101 - val_accuracy: 0.6446\n",
      "Epoch 16/20\n",
      "1125/1125 [==============================] - 22s 20ms/step - loss: 0.0432 - accuracy: 0.9850 - val_loss: 0.6791 - val_accuracy: 0.7620\n",
      "Epoch 17/20\n",
      "1125/1125 [==============================] - 22s 19ms/step - loss: 0.0373 - accuracy: 0.9873 - val_loss: 0.1701 - val_accuracy: 0.9578\n",
      "Epoch 18/20\n",
      "1125/1125 [==============================] - 22s 20ms/step - loss: 0.0352 - accuracy: 0.9881 - val_loss: 1.2859 - val_accuracy: 0.7719\n",
      "Epoch 19/20\n",
      "1125/1125 [==============================] - 22s 19ms/step - loss: 0.0317 - accuracy: 0.9889 - val_loss: 1.4605 - val_accuracy: 0.7906\n",
      "Epoch 20/20\n",
      "1125/1125 [==============================] - 22s 19ms/step - loss: 0.0351 - accuracy: 0.9880 - val_loss: 0.4362 - val_accuracy: 0.7951\n"
     ]
    }
   ],
   "source": [
    "history=model.fit(\n",
    "    X_train_trans,\n",
    "    y_train,\n",
    "    batch_size=32,\n",
    "    epochs=20,\n",
    "    validation_data=(X_validation_trans, y_validation)\n",
    ")"
   ]
  },
  {
   "cell_type": "code",
   "execution_count": 455,
   "id": "214a02bf-ebdf-4caa-88c5-9ca9a9eeebf5",
   "metadata": {
    "tags": []
   },
   "outputs": [
    {
     "name": "stdout",
     "output_type": "stream",
     "text": [
      "375/375 [==============================] - 264s 702ms/step\n"
     ]
    }
   ],
   "source": [
    "X_test_trans=vgg.predict(X_test)"
   ]
  },
  {
   "cell_type": "code",
   "execution_count": 456,
   "id": "f9eb8f27-6aef-4404-b7b8-261a179e1f7e",
   "metadata": {
    "tags": []
   },
   "outputs": [
    {
     "name": "stdout",
     "output_type": "stream",
     "text": [
      "375/375 [==============================] - 1s 2ms/step - loss: 0.4772 - accuracy: 0.7922\n"
     ]
    },
    {
     "data": {
      "text/plain": [
       "[0.47716495394706726, 0.7922499775886536]"
      ]
     },
     "execution_count": 456,
     "metadata": {},
     "output_type": "execute_result"
    }
   ],
   "source": [
    "model.evaluate(X_test_trans, y_test)"
   ]
  },
  {
   "cell_type": "code",
   "execution_count": 457,
   "id": "ea5dcb27-7ba9-404f-afe1-39367b2055b1",
   "metadata": {},
   "outputs": [
    {
     "name": "stdout",
     "output_type": "stream",
     "text": [
      "0.09558729082345963\n",
      "0.9666652739048004\n",
      "1.0896096900105476\n",
      "0.7953416764736175\n"
     ]
    }
   ],
   "source": [
    "print(np.mean(history.history['loss']))\n",
    "print(np.mean(history.history['accuracy']))\n",
    "print(np.mean(history.history['val_loss']))\n",
    "print(np.mean(history.history['val_accuracy']))"
   ]
  },
  {
   "cell_type": "code",
   "execution_count": 474,
   "id": "531a92a5-d409-43f7-9a48-5f3a0d73320a",
   "metadata": {},
   "outputs": [],
   "source": [
    "image='1.jpg'\n",
    "weight=300\n",
    "img=plt.imread(image)\n",
    "img=np.multiply(img,300)"
   ]
  },
  {
   "cell_type": "code",
   "execution_count": 520,
   "id": "2141549a-be4f-43f9-baa7-05634195215b",
   "metadata": {
    "scrolled": true
   },
   "outputs": [
    {
     "data": {
      "text/plain": [
       "array([[[0.74509804, 0.74509804, 0.74509804],\n",
       "        [0.74509804, 0.74509804, 0.74509804],\n",
       "        [0.74509804, 0.74509804, 0.74509804],\n",
       "        ...,\n",
       "        [0.78039216, 0.78039216, 0.78039216],\n",
       "        [0.78039216, 0.78039216, 0.78039216],\n",
       "        [0.78039216, 0.78039216, 0.78039216]],\n",
       "\n",
       "       [[0.74509804, 0.74509804, 0.74509804],\n",
       "        [0.74509804, 0.74509804, 0.74509804],\n",
       "        [0.74509804, 0.74509804, 0.74509804],\n",
       "        ...,\n",
       "        [0.78039216, 0.78039216, 0.78039216],\n",
       "        [0.78039216, 0.78039216, 0.78039216],\n",
       "        [0.78039216, 0.78039216, 0.78039216]],\n",
       "\n",
       "       [[0.74509804, 0.74509804, 0.74509804],\n",
       "        [0.74509804, 0.74509804, 0.74509804],\n",
       "        [0.74509804, 0.74509804, 0.74509804],\n",
       "        ...,\n",
       "        [0.78039216, 0.78039216, 0.78039216],\n",
       "        [0.78039216, 0.78039216, 0.78039216],\n",
       "        [0.78039216, 0.78039216, 0.78039216]],\n",
       "\n",
       "       ...,\n",
       "\n",
       "       [[0.58431373, 0.60392157, 0.58039216],\n",
       "        [0.58431373, 0.60392157, 0.58039216],\n",
       "        [0.58431373, 0.60392157, 0.58039216],\n",
       "        ...,\n",
       "        [0.60392157, 0.62352941, 0.6       ],\n",
       "        [0.60392157, 0.62352941, 0.6       ],\n",
       "        [0.60784314, 0.62745098, 0.60392157]],\n",
       "\n",
       "       [[0.58431373, 0.60392157, 0.58039216],\n",
       "        [0.58431373, 0.60392157, 0.58039216],\n",
       "        [0.58431373, 0.60392157, 0.58039216],\n",
       "        ...,\n",
       "        [0.6       , 0.61960784, 0.59607843],\n",
       "        [0.60392157, 0.62352941, 0.6       ],\n",
       "        [0.60784314, 0.62745098, 0.60392157]],\n",
       "\n",
       "       [[0.58431373, 0.60392157, 0.58039216],\n",
       "        [0.58431373, 0.60392157, 0.58039216],\n",
       "        [0.58431373, 0.60392157, 0.58039216],\n",
       "        ...,\n",
       "        [0.6       , 0.61960784, 0.59607843],\n",
       "        [0.60392157, 0.62352941, 0.6       ],\n",
       "        [0.60784314, 0.62745098, 0.60392157]]])"
      ]
     },
     "execution_count": 520,
     "metadata": {},
     "output_type": "execute_result"
    },
    {
     "data": {
      "image/png": "[encoded data removed]",
      "text/plain": [
       "<Figure size 640x480 with 1 Axes>"
      ]
     },
     "metadata": {},
     "output_type": "display_data"
    }
   ],
   "source": [
    "image='2.jpg'\n",
    "weight=2\n",
    "img=plt.imread(image)\n",
    "img=np.multiply(img,1/255)\n",
    "# img=np.multiply(img,weight)\n",
    "# # dt=cv.resize(img,(150,150)).reshape(1,150,150,-1)\n",
    "# # dt=dt[:,:,:,:3]\n",
    "# # dt_trans = vgg.predict(dt)\n",
    "# # argmax = np.argmax(model.predict(dt_trans))\n",
    "# # print(model.predict(dt_trans))\n",
    "plt.imshow(img)\n",
    "img"
   ]
  },
  {
   "cell_type": "markdown",
   "id": "59c41775-e038-4637-a391-04e8cf31431a",
   "metadata": {},
   "source": [
    "## VGG16 모델 - 6개의 카테고리(종이, 플라스틱, 유리병, 캔, 스티로폼, 페트병)\n",
    "10000개씩 총 60000개 데이터(이미지 리사이징)"
   ]
  },
  {
   "cell_type": "code",
   "execution_count": 5,
   "id": "84dfe1a7-0a46-4472-a4e5-fc5642060e04",
   "metadata": {
    "tags": []
   },
   "outputs": [
    {
     "name": "stdout",
     "output_type": "stream",
     "text": [
      "16468\n",
      "39187\n",
      "42187\n",
      "36874\n",
      "40377\n",
      "40036\n"
     ]
    }
   ],
   "source": [
    "# 각각의 리스트에 이미지파일명 담기\n",
    "paper_list=glob(\"./_trash/*종이류*/*/*/*.jpg\")\n",
    "plastic_list=glob(\"./_trash/*플라스틱류*/*/*/*.jpg\")\n",
    "glass_list=glob(\"./_trash/*유리병*/*/*/*.jpg\")\n",
    "can_list=glob(\"./_trash/*캔류*/*/*/*.jpg\")\n",
    "styrofoam_list=glob(\"./_trash/*스티로폼*/*/*/*.jpg\")\n",
    "pet_list=glob(\"./_trash/*페트병*/*/*/*.jpg\")\n",
    "\n",
    "# 각 리스트의 개수\n",
    "print(len(paper_list))\n",
    "print(len(plastic_list))\n",
    "print(len(glass_list))\n",
    "print(len(can_list))\n",
    "print(len(styrofoam_list))\n",
    "print(len(pet_list))"
   ]
  },
  {
   "cell_type": "code",
   "execution_count": 6,
   "id": "99ac3dc0-05a3-4403-bf88-6b58238744f9",
   "metadata": {
    "tags": []
   },
   "outputs": [
    {
     "name": "stdout",
     "output_type": "stream",
     "text": [
      "215129\n"
     ]
    }
   ],
   "source": [
    "data_list=list(chain(\n",
    "    paper_list,\n",
    "    plastic_list,\n",
    "    glass_list,\n",
    "    can_list,\n",
    "    styrofoam_list,\n",
    "    pet_list,\n",
    "))\n",
    "print(len(data_list))"
   ]
  },
  {
   "cell_type": "code",
   "execution_count": 7,
   "id": "243a1d84-3d60-4cc0-b253-dc83942080c0",
   "metadata": {},
   "outputs": [],
   "source": [
    "# 데이터셋 개수 설정함수\n",
    "def make_dl(n):\n",
    "    paper_list_n=paper_list[:n]\n",
    "    plastic_list_n=plastic_list[:n]\n",
    "    glass_list_n=glass_list[:n]\n",
    "    can_list_n=can_list[:n]\n",
    "    styrofoam_list_n=styrofoam_list[:n]\n",
    "    pet_list_n=pet_list[:n]\n",
    "    data_list_n=list(chain(\n",
    "        paper_list_n, \n",
    "        plastic_list_n, \n",
    "        glass_list_n, \n",
    "        can_list_n,  \n",
    "        styrofoam_list_n, \n",
    "        pet_list_n,\n",
    "    ))\n",
    "    return data_list_n"
   ]
  },
  {
   "cell_type": "code",
   "execution_count": 8,
   "id": "037c29ac-e913-4261-a880-31dc2f9457f5",
   "metadata": {
    "tags": []
   },
   "outputs": [],
   "source": [
    "# target리스트 생성함수\n",
    "def make_target(data_list):\n",
    "    target=[]\n",
    "    for idx, val in enumerate(data_list):\n",
    "        if '종이류' in val:\n",
    "            target.append(0)\n",
    "        elif '플라스틱' in val:\n",
    "            target.append(1)\n",
    "        elif '유리병' in val:\n",
    "            target.append(2)\n",
    "        elif '캔류' in val:\n",
    "            target.append(3)\n",
    "        elif '스티로폼' in val:\n",
    "            target.append(4)\n",
    "        elif '페트병' in val:\n",
    "            target.append(5)\n",
    "    return target"
   ]
  },
  {
   "cell_type": "code",
   "execution_count": 9,
   "id": "10accb40-3980-43a3-a348-49e6d5b8776b",
   "metadata": {
    "tags": []
   },
   "outputs": [],
   "source": [
    "# 레이블\n",
    "def label_by_index(index):\n",
    "    labels = [\"종이류\", \"플라스틱류\", \"유리병\", \"캔류\", \"스티로폼\", \"페트병\"]\n",
    "    return labels[index]"
   ]
  },
  {
   "cell_type": "code",
   "execution_count": 10,
   "id": "43eafe85-7b72-46e7-bfd6-c2fc00d82275",
   "metadata": {
    "editable": true,
    "slideshow": {
     "slide_type": ""
    },
    "tags": []
   },
   "outputs": [
    {
     "name": "stdout",
     "output_type": "stream",
     "text": [
      "60000\n"
     ]
    }
   ],
   "source": [
    "n=10000\n",
    "\n",
    "# 각 분류당 n개 추출해서 data_list로 병합\n",
    "data_list=make_dl(n)\n",
    "\n",
    "# target 생성\n",
    "target=make_target(data_list)\n",
    "\n",
    "# 총 데이터셋 개수\n",
    "print(len(data_list))"
   ]
  },
  {
   "cell_type": "code",
   "execution_count": 11,
   "id": "a6648e65-6051-48cb-8947-362df06a4786",
   "metadata": {
    "tags": []
   },
   "outputs": [],
   "source": [
    "# 정수형클래스 레이블을 원-핫 인코딩 벡터로 변환하는 함수\n",
    "y = np.array(target)\n",
    "y = to_categorical(y)"
   ]
  },
  {
   "cell_type": "code",
   "execution_count": 12,
   "id": "3cec2257-1363-440f-829d-bad8d6c104d1",
   "metadata": {
    "scrolled": true,
    "tags": []
   },
   "outputs": [],
   "source": [
    "X=scaling(data_list)"
   ]
  },
  {
   "cell_type": "code",
   "execution_count": 13,
   "id": "6ffd0fb8-acdb-4691-b7c2-a19fdf54d13f",
   "metadata": {
    "tags": []
   },
   "outputs": [],
   "source": [
    "X_, X_test, y_, y_test = train_test_split(X, y, test_size=.2)"
   ]
  },
  {
   "cell_type": "code",
   "execution_count": 14,
   "id": "2e9d73cc-13a8-4a60-bd7c-33f7aa2726f2",
   "metadata": {
    "tags": []
   },
   "outputs": [],
   "source": [
    "X_train, X_validation, y_train, y_validation = train_test_split(X_, y_)"
   ]
  },
  {
   "cell_type": "code",
   "execution_count": 15,
   "id": "39caacb7-0f10-4d76-989b-a49a57a39a42",
   "metadata": {
    "tags": []
   },
   "outputs": [
    {
     "name": "stdout",
     "output_type": "stream",
     "text": [
      "(12000, 150, 150, 3)\n",
      "(12000, 6)\n",
      "(36000, 150, 150, 3)\n",
      "(36000, 6)\n",
      "(12000, 150, 150, 3)\n",
      "(12000, 6)\n"
     ]
    }
   ],
   "source": [
    "print(X_test.shape)\n",
    "print(y_test.shape)\n",
    "print(X_train.shape)\n",
    "print(y_train.shape)\n",
    "print(X_validation.shape)\n",
    "print(y_validation.shape)"
   ]
  },
  {
   "cell_type": "code",
   "execution_count": 16,
   "id": "1e327e18-7c23-48a7-8d74-ef6aa3b795e2",
   "metadata": {
    "tags": []
   },
   "outputs": [
    {
     "name": "stdout",
     "output_type": "stream",
     "text": [
      "WARNING:tensorflow:From C:\\Users\\user\\anaconda3\\Lib\\site-packages\\keras\\src\\backend.py:1398: The name tf.executing_eagerly_outside_functions is deprecated. Please use tf.compat.v1.executing_eagerly_outside_functions instead.\n",
      "\n",
      "WARNING:tensorflow:From C:\\Users\\user\\anaconda3\\Lib\\site-packages\\keras\\src\\layers\\pooling\\max_pooling2d.py:161: The name tf.nn.max_pool is deprecated. Please use tf.nn.max_pool2d instead.\n",
      "\n",
      "Model: \"vgg16\"\n",
      "_________________________________________________________________\n",
      " Layer (type)                Output Shape              Param #   \n",
      "=================================================================\n",
      " input_1 (InputLayer)        [(None, 150, 150, 3)]     0         \n",
      "                                                                 \n",
      " block1_conv1 (Conv2D)       (None, 150, 150, 64)      1792      \n",
      "                                                                 \n",
      " block1_conv2 (Conv2D)       (None, 150, 150, 64)      36928     \n",
      "                                                                 \n",
      " block1_pool (MaxPooling2D)  (None, 75, 75, 64)        0         \n",
      "                                                                 \n",
      " block2_conv1 (Conv2D)       (None, 75, 75, 128)       73856     \n",
      "                                                                 \n",
      " block2_conv2 (Conv2D)       (None, 75, 75, 128)       147584    \n",
      "                                                                 \n",
      " block2_pool (MaxPooling2D)  (None, 37, 37, 128)       0         \n",
      "                                                                 \n",
      " block3_conv1 (Conv2D)       (None, 37, 37, 256)       295168    \n",
      "                                                                 \n",
      " block3_conv2 (Conv2D)       (None, 37, 37, 256)       590080    \n",
      "                                                                 \n",
      " block3_conv3 (Conv2D)       (None, 37, 37, 256)       590080    \n",
      "                                                                 \n",
      " block3_pool (MaxPooling2D)  (None, 18, 18, 256)       0         \n",
      "                                                                 \n",
      " block4_conv1 (Conv2D)       (None, 18, 18, 512)       1180160   \n",
      "                                                                 \n",
      " block4_conv2 (Conv2D)       (None, 18, 18, 512)       2359808   \n",
      "                                                                 \n",
      " block4_conv3 (Conv2D)       (None, 18, 18, 512)       2359808   \n",
      "                                                                 \n",
      " block4_pool (MaxPooling2D)  (None, 9, 9, 512)         0         \n",
      "                                                                 \n",
      " block5_conv1 (Conv2D)       (None, 9, 9, 512)         2359808   \n",
      "                                                                 \n",
      " block5_conv2 (Conv2D)       (None, 9, 9, 512)         2359808   \n",
      "                                                                 \n",
      " block5_conv3 (Conv2D)       (None, 9, 9, 512)         2359808   \n",
      "                                                                 \n",
      " block5_pool (MaxPooling2D)  (None, 4, 4, 512)         0         \n",
      "                                                                 \n",
      "=================================================================\n",
      "Total params: 14714688 (56.13 MB)\n",
      "Trainable params: 14714688 (56.13 MB)\n",
      "Non-trainable params: 0 (0.00 Byte)\n",
      "_________________________________________________________________\n"
     ]
    }
   ],
   "source": [
    "vgg = VGG16(include_top=False, input_shape=(150,150,3))\n",
    "vgg.summary()"
   ]
  },
  {
   "cell_type": "code",
   "execution_count": 20,
   "id": "7c8270b1-59b7-4425-a625-35a233f86933",
   "metadata": {
    "tags": []
   },
   "outputs": [
    {
     "name": "stdout",
     "output_type": "stream",
     "text": [
      "1125/1125 [==============================] - 838s 744ms/step\n",
      "375/375 [==============================] - 273s 728ms/step\n"
     ]
    }
   ],
   "source": [
    "X_train_trans = vgg.predict(X_train)\n",
    "X_validation_trans = vgg.predict(X_validation)"
   ]
  },
  {
   "cell_type": "code",
   "execution_count": 24,
   "id": "3ba43f10-b918-4968-b2c7-a45128b94d10",
   "metadata": {
    "tags": []
   },
   "outputs": [],
   "source": [
    "model = Sequential(\n",
    "    [\n",
    "        Flatten(input_shape=X_train_trans.shape[1:]),\n",
    "        Dense(256,activation='relu'),\n",
    "        BatchNormalization(),\n",
    "        Dense(128,activation='relu'),\n",
    "        BatchNormalization(),\n",
    "        Dense(64,activation='relu'),\n",
    "        BatchNormalization(),\n",
    "        Dense(32,activation='relu'),\n",
    "        BatchNormalization(),\n",
    "        Dense(6\n",
    "              ,activation='softmax')\n",
    "    ]\n",
    ")"
   ]
  },
  {
   "cell_type": "code",
   "execution_count": 25,
   "id": "e15bbb75-f355-4998-9425-171ff34d442a",
   "metadata": {
    "tags": []
   },
   "outputs": [],
   "source": [
    "model.compile(optimizer='adam',loss='categorical_crossentropy',metrics='accuracy')"
   ]
  },
  {
   "cell_type": "code",
   "execution_count": 26,
   "id": "c6b731d3-90f1-40a8-bf28-295a7d84a220",
   "metadata": {
    "tags": []
   },
   "outputs": [
    {
     "name": "stdout",
     "output_type": "stream",
     "text": [
      "Epoch 1/20\n",
      "WARNING:tensorflow:From C:\\Users\\user\\anaconda3\\Lib\\site-packages\\keras\\src\\utils\\tf_utils.py:492: The name tf.ragged.RaggedTensorValue is deprecated. Please use tf.compat.v1.ragged.RaggedTensorValue instead.\n",
      "\n",
      "WARNING:tensorflow:From C:\\Users\\user\\anaconda3\\Lib\\site-packages\\keras\\src\\engine\\base_layer_utils.py:384: The name tf.executing_eagerly_outside_functions is deprecated. Please use tf.compat.v1.executing_eagerly_outside_functions instead.\n",
      "\n",
      "1125/1125 [==============================] - 24s 20ms/step - loss: 0.6623 - accuracy: 0.7716 - val_loss: 0.4990 - val_accuracy: 0.8265\n",
      "Epoch 2/20\n",
      "1125/1125 [==============================] - 22s 19ms/step - loss: 0.4401 - accuracy: 0.8485 - val_loss: 0.4684 - val_accuracy: 0.8342\n",
      "Epoch 3/20\n",
      "1125/1125 [==============================] - 21s 19ms/step - loss: 0.3379 - accuracy: 0.8839 - val_loss: 0.4589 - val_accuracy: 0.8423\n",
      "Epoch 4/20\n",
      "1125/1125 [==============================] - 21s 19ms/step - loss: 0.2682 - accuracy: 0.9074 - val_loss: 0.4774 - val_accuracy: 0.8472\n",
      "Epoch 5/20\n",
      "1125/1125 [==============================] - 22s 19ms/step - loss: 0.2154 - accuracy: 0.9236 - val_loss: 0.4995 - val_accuracy: 0.8477\n",
      "Epoch 6/20\n",
      "1125/1125 [==============================] - 22s 20ms/step - loss: 0.1769 - accuracy: 0.9389 - val_loss: 0.5112 - val_accuracy: 0.8451\n",
      "Epoch 7/20\n",
      "1125/1125 [==============================] - 22s 19ms/step - loss: 0.1441 - accuracy: 0.9487 - val_loss: 0.5767 - val_accuracy: 0.8423\n",
      "Epoch 8/20\n",
      "1125/1125 [==============================] - 23s 20ms/step - loss: 0.1237 - accuracy: 0.9567 - val_loss: 0.5899 - val_accuracy: 0.8470\n",
      "Epoch 9/20\n",
      "1125/1125 [==============================] - 22s 20ms/step - loss: 0.1067 - accuracy: 0.9628 - val_loss: 0.6010 - val_accuracy: 0.8435\n",
      "Epoch 10/20\n",
      "1125/1125 [==============================] - 22s 20ms/step - loss: 0.0886 - accuracy: 0.9693 - val_loss: 0.6618 - val_accuracy: 0.8481\n",
      "Epoch 11/20\n",
      "1125/1125 [==============================] - 23s 20ms/step - loss: 0.0801 - accuracy: 0.9731 - val_loss: 0.6492 - val_accuracy: 0.8501\n",
      "Epoch 12/20\n",
      "1125/1125 [==============================] - 21s 19ms/step - loss: 0.0740 - accuracy: 0.9743 - val_loss: 0.6886 - val_accuracy: 0.8391\n",
      "Epoch 13/20\n",
      "1125/1125 [==============================] - 22s 19ms/step - loss: 0.0601 - accuracy: 0.9800 - val_loss: 0.6771 - val_accuracy: 0.8512\n",
      "Epoch 14/20\n",
      "1125/1125 [==============================] - 23s 21ms/step - loss: 0.0675 - accuracy: 0.9765 - val_loss: 0.7006 - val_accuracy: 0.8456\n",
      "Epoch 15/20\n",
      "1125/1125 [==============================] - 22s 20ms/step - loss: 0.0567 - accuracy: 0.9808 - val_loss: 0.7280 - val_accuracy: 0.8425\n",
      "Epoch 16/20\n",
      "1125/1125 [==============================] - 23s 20ms/step - loss: 0.0542 - accuracy: 0.9810 - val_loss: 0.6989 - val_accuracy: 0.8499\n",
      "Epoch 17/20\n",
      "1125/1125 [==============================] - 23s 20ms/step - loss: 0.0470 - accuracy: 0.9839 - val_loss: 0.7201 - val_accuracy: 0.8519\n",
      "Epoch 18/20\n",
      "1125/1125 [==============================] - 25s 22ms/step - loss: 0.0409 - accuracy: 0.9863 - val_loss: 0.7644 - val_accuracy: 0.8447\n",
      "Epoch 19/20\n",
      "1125/1125 [==============================] - 25s 22ms/step - loss: 0.0449 - accuracy: 0.9851 - val_loss: 0.7544 - val_accuracy: 0.8509\n",
      "Epoch 20/20\n",
      "1125/1125 [==============================] - 24s 21ms/step - loss: 0.0382 - accuracy: 0.9870 - val_loss: 0.7597 - val_accuracy: 0.8497\n"
     ]
    }
   ],
   "source": [
    "history=model.fit(\n",
    "    X_train_trans,\n",
    "    y_train,\n",
    "    batch_size=32,\n",
    "    epochs=20,\n",
    "    validation_data=(X_validation_trans, y_validation)\n",
    ")"
   ]
  },
  {
   "cell_type": "code",
   "execution_count": 27,
   "id": "29390b9e-779b-48de-98a8-52611a2c6050",
   "metadata": {
    "tags": []
   },
   "outputs": [
    {
     "name": "stdout",
     "output_type": "stream",
     "text": [
      "375/375 [==============================] - 269s 716ms/step\n"
     ]
    }
   ],
   "source": [
    "X_test_trans=vgg.predict(X_test)"
   ]
  },
  {
   "cell_type": "code",
   "execution_count": 28,
   "id": "32393edc-442b-4740-92d6-4974e91db175",
   "metadata": {
    "tags": []
   },
   "outputs": [
    {
     "name": "stdout",
     "output_type": "stream",
     "text": [
      "375/375 [==============================] - 1s 2ms/step - loss: 0.7534 - accuracy: 0.8490\n"
     ]
    },
    {
     "data": {
      "text/plain": [
       "[0.7533614635467529, 0.8489999771118164]"
      ]
     },
     "execution_count": 28,
     "metadata": {},
     "output_type": "execute_result"
    }
   ],
   "source": [
    "model.evaluate(X_test_trans, y_test)"
   ]
  },
  {
   "cell_type": "code",
   "execution_count": 29,
   "id": "98bc7c11-10a4-4af9-a3e9-0dc540f305a1",
   "metadata": {},
   "outputs": [
    {
     "name": "stdout",
     "output_type": "stream",
     "text": [
      "0.15638460461050271\n",
      "0.9459694445133209\n",
      "0.624231579899788\n",
      "0.8449791610240937\n"
     ]
    }
   ],
   "source": [
    "print(np.mean(history.history['loss']))\n",
    "print(np.mean(history.history['accuracy']))\n",
    "print(np.mean(history.history['val_loss']))\n",
    "print(np.mean(history.history['val_accuracy']))"
   ]
  },
  {
   "cell_type": "code",
   "execution_count": 64,
   "id": "2a17ea8e-9fb3-42a2-9194-99aca54fa075",
   "metadata": {},
   "outputs": [],
   "source": [
    "model.save('trashcan6.keras')"
   ]
  },
  {
   "cell_type": "code",
   "execution_count": 65,
   "id": "c72f9c96-8fde-4f04-9ed3-1d38dbe0a115",
   "metadata": {},
   "outputs": [],
   "source": [
    "trashcan_model=tf.keras.models.load_model('trashcan6.keras')"
   ]
  },
  {
   "cell_type": "code",
   "execution_count": 67,
   "id": "717b92fc-d81f-4020-801e-3ad66c19ef51",
   "metadata": {},
   "outputs": [],
   "source": [
    "with open(file='trashcan6.pickle', mode='wb') as f:\n",
    "    pickle.dump(history.history,f)"
   ]
  },
  {
   "cell_type": "code",
   "execution_count": 69,
   "id": "d25ee2c4-30fd-4955-aef4-838d49a3d1de",
   "metadata": {},
   "outputs": [],
   "source": [
    "with open(file='trashcan6.pickle', mode='rb') as f:\n",
    "    history_=pickle.load(f)"
   ]
  },
  {
   "cell_type": "code",
   "execution_count": 70,
   "id": "79da0900-1097-42a4-8ba5-df23e2b6547b",
   "metadata": {},
   "outputs": [
    {
     "data": {
      "text/plain": [
       "{'loss': [0.6622830629348755,\n",
       "  0.44006043672561646,\n",
       "  0.3379473388195038,\n",
       "  0.2681855261325836,\n",
       "  0.21544960141181946,\n",
       "  0.1769469529390335,\n",
       "  0.1441311538219452,\n",
       "  0.12372034788131714,\n",
       "  0.10672841966152191,\n",
       "  0.08857724815607071,\n",
       "  0.08012993633747101,\n",
       "  0.07397523522377014,\n",
       "  0.06011562794446945,\n",
       "  0.0675443708896637,\n",
       "  0.056728653609752655,\n",
       "  0.05422455444931984,\n",
       "  0.046994730830192566,\n",
       "  0.040855761617422104,\n",
       "  0.044895242899656296,\n",
       "  0.03819788992404938],\n",
       " 'accuracy': [0.7716110944747925,\n",
       "  0.8485000133514404,\n",
       "  0.8838889002799988,\n",
       "  0.9073610901832581,\n",
       "  0.9236111044883728,\n",
       "  0.9388611316680908,\n",
       "  0.948722243309021,\n",
       "  0.9566944241523743,\n",
       "  0.9627777934074402,\n",
       "  0.9693333506584167,\n",
       "  0.9731388688087463,\n",
       "  0.9743055701255798,\n",
       "  0.979972243309021,\n",
       "  0.976527750492096,\n",
       "  0.9807500243186951,\n",
       "  0.9810277819633484,\n",
       "  0.9839444160461426,\n",
       "  0.9863055348396301,\n",
       "  0.9850833415985107,\n",
       "  0.9869722127914429],\n",
       " 'val_loss': [0.49896785616874695,\n",
       "  0.4683680832386017,\n",
       "  0.45894086360931396,\n",
       "  0.4773881137371063,\n",
       "  0.49949243664741516,\n",
       "  0.5111750364303589,\n",
       "  0.5766757726669312,\n",
       "  0.589909553527832,\n",
       "  0.6009592413902283,\n",
       "  0.6617962718009949,\n",
       "  0.649199903011322,\n",
       "  0.6886215806007385,\n",
       "  0.6771219372749329,\n",
       "  0.7005742192268372,\n",
       "  0.7279685735702515,\n",
       "  0.6988745331764221,\n",
       "  0.7201244235038757,\n",
       "  0.764373779296875,\n",
       "  0.7544159293174744,\n",
       "  0.7596834897994995],\n",
       " 'val_accuracy': [0.8264999985694885,\n",
       "  0.8341666460037231,\n",
       "  0.8423333168029785,\n",
       "  0.8472499847412109,\n",
       "  0.8476666808128357,\n",
       "  0.8450833559036255,\n",
       "  0.8423333168029785,\n",
       "  0.847000002861023,\n",
       "  0.843500018119812,\n",
       "  0.8480833172798157,\n",
       "  0.8500833511352539,\n",
       "  0.8390833139419556,\n",
       "  0.8512499928474426,\n",
       "  0.8455833196640015,\n",
       "  0.8424999713897705,\n",
       "  0.8499166369438171,\n",
       "  0.8519166707992554,\n",
       "  0.8446666598320007,\n",
       "  0.8509166836738586,\n",
       "  0.8497499823570251]}"
      ]
     },
     "execution_count": 70,
     "metadata": {},
     "output_type": "execute_result"
    }
   ],
   "source": [
    "history_"
   ]
  }
 ],
 "metadata": {
  "kernelspec": {
   "display_name": "Python 3 (ipykernel)",
   "language": "python",
   "name": "python3"
  },
  "language_info": {
   "codemirror_mode": {
    "name": "ipython",
    "version": 3
   },
   "file_extension": ".py",
   "mimetype": "text/x-python",
   "name": "python",
   "nbconvert_exporter": "python",
   "pygments_lexer": "ipython3",
   "version": "3.11.7"
  }
 },
 "nbformat": 4,
 "nbformat_minor": 5
}
