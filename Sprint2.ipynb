{
 "cells": [
  {
   "cell_type": "code",
   "execution_count": 5,
   "id": "648564a0-bce3-4653-b666-29265b55e4f2",
   "metadata": {
    "tags": []
   },
   "outputs": [],
   "source": [
    "from sklearn.model_selection import train_test_split\n",
    "from tensorflow.keras.models import load_model, Sequential\n",
    "from tensorflow.keras.layers import Dense, BatchNormalization, Dropout, Flatten, Conv2D, MaxPooling2D\n",
    "from tensorflow.keras.utils import plot_model, to_categorical\n",
    "from tensorflow.keras.datasets import cifar10\n",
    "from tensorflow.keras.applications import VGG16\n",
    "from tensorflow.keras import applications\n",
    "from itertools import chain\n",
    "from glob import glob\n",
    "import numpy as np\n",
    "import matplotlib.pyplot as plt\n",
    "import cv2 as cv\n",
    "import time"
   ]
  },
  {
   "cell_type": "code",
   "execution_count": 6,
   "id": "f27736bf-fda5-4d95-903f-6292894d4e48",
   "metadata": {
    "tags": []
   },
   "outputs": [],
   "source": [
    "battery = glob(\"./images/battery/*\")\n",
    "cardboard = glob(\"./images/cardboard/*\")\n",
    "glass1 = glob(\"./images/glass1/*\")\n",
    "glass2 = glob(\"./images/glass2/*\")\n",
    "glass3 = glob(\"./images/glass3/*\")\n",
    "metal = glob(\"./images/metal/*\")\n",
    "paper = glob(\"./images/paper/*\")\n",
    "plastic = glob(\"./images/plastic/*\")\n",
    "etc1 = glob(\"./images/etc1/*\")\n",
    "etc2 = glob(\"./images/etc2/*\")\n",
    "etc3 = glob(\"./images/etc3/*\")\n",
    "etc4 = glob(\"./images/etc4/*\")"
   ]
  },
  {
   "cell_type": "code",
   "execution_count": 7,
   "id": "a7b42559-402f-4f30-8ed4-d41bd0f92e36",
   "metadata": {
    "tags": []
   },
   "outputs": [
    {
     "data": {
      "text/plain": [
       "(945, 891, 607, 629, 775, 769, 1050, 865, 985, 5325, 1977, 697)"
      ]
     },
     "execution_count": 7,
     "metadata": {},
     "output_type": "execute_result"
    }
   ],
   "source": [
    "len(battery), len(cardboard), len(glass1), len(glass2), len(glass3), len(metal), len(paper), len(plastic), len(etc1), len(etc2), len(etc3), len(etc4)"
   ]
  },
  {
   "cell_type": "code",
   "execution_count": 8,
   "id": "df5e87d3-a0d7-4f74-a463-3d58f78960cc",
   "metadata": {
    "tags": []
   },
   "outputs": [],
   "source": [
    "battery = glob(\"./images/battery/*\")[:750]\n",
    "cardboard = glob(\"./images/cardboard/*\")[:750]\n",
    "glass1 = glob(\"./images/glass1/*\")[:250]\n",
    "glass2 = glob(\"./images/glass2/*\")[:250]\n",
    "glass3 = glob(\"./images/glass3/*\")[:250]\n",
    "metal = glob(\"./images/metal/*\")[:750]\n",
    "paper = glob(\"./images/paper/*\")[:750]\n",
    "plastic = glob(\"./images/plastic/*\")[:750]\n",
    "etc1 = glob(\"./images/etc1/*\")[:187]\n",
    "etc2 = glob(\"./images/etc2/*\")[:188]\n",
    "etc3 = glob(\"./images/etc3/*\")[:187]\n",
    "etc4 = glob(\"./images/etc4/*\")[:188]"
   ]
  },
  {
   "cell_type": "code",
   "execution_count": 9,
   "id": "ff2564b9-8dc2-40c9-b773-c8a10bcefdde",
   "metadata": {
    "tags": []
   },
   "outputs": [],
   "source": [
    "X = []\n",
    "X.extend(battery)\n",
    "X.extend(cardboard)\n",
    "X.extend(glass1)\n",
    "X.extend(glass2)\n",
    "X.extend(glass3)\n",
    "X.extend(metal)\n",
    "X.extend(paper)\n",
    "X.extend(plastic)\n",
    "X.extend(etc1)\n",
    "X.extend(etc2)\n",
    "X.extend(etc3)\n",
    "X.extend(etc4)"
   ]
  },
  {
   "cell_type": "code",
   "execution_count": 10,
   "id": "0f76e648-a575-45cf-af9c-eef3e5431020",
   "metadata": {
    "tags": []
   },
   "outputs": [],
   "source": [
    "y = []\n",
    "for i in X:\n",
    "    if 'battery' in i:\n",
    "        y.append(0)\n",
    "    elif 'cardboard' in i:\n",
    "        y.append(1)\n",
    "    elif 'glass' in i:\n",
    "        y.append(2)\n",
    "    elif 'metal' in i:\n",
    "        y.append(3)\n",
    "    elif 'paper' in i :\n",
    "        y.append(4)\n",
    "    elif 'plastic' in i:\n",
    "        y.append(5)\n",
    "    else:\n",
    "        y.append(6)\n",
    "y = np.array(y)"
   ]
  },
  {
   "cell_type": "code",
   "execution_count": 11,
   "id": "bcb55c2e-0f3b-4737-bd10-c28b11598852",
   "metadata": {
    "tags": []
   },
   "outputs": [],
   "source": [
    "X_ = np.zeros((5250,150,150,3))"
   ]
  },
  {
   "cell_type": "code",
   "execution_count": 12,
   "id": "7921e51c-61bf-46b0-b1a1-5daf4fd26ba0",
   "metadata": {
    "tags": []
   },
   "outputs": [],
   "source": [
    "for idx, val in enumerate(X):\n",
    "    dt = plt.imread(val)\n",
    "    dt = cv.resize(dt,(150,150)).reshape(1,150,150,-1)\n",
    "    X_[idx] = dt[:,:,:,:3]"
   ]
  },
  {
   "cell_type": "code",
   "execution_count": 13,
   "id": "ac68b042-5114-4e1a-ac54-5ea756eb36f6",
   "metadata": {
    "tags": []
   },
   "outputs": [
    {
     "data": {
      "text/plain": [
       "5250"
      ]
     },
     "execution_count": 13,
     "metadata": {},
     "output_type": "execute_result"
    }
   ],
   "source": [
    "len(X_)"
   ]
  },
  {
   "cell_type": "code",
   "execution_count": 14,
   "id": "5b2572b2-550c-4557-8de6-1ac3fe4d4605",
   "metadata": {
    "tags": []
   },
   "outputs": [],
   "source": [
    "y = to_categorical(y)"
   ]
  },
  {
   "cell_type": "code",
   "execution_count": 15,
   "id": "c0d31b15-454e-4f51-8635-98ad9649ca6d",
   "metadata": {
    "tags": []
   },
   "outputs": [],
   "source": [
    "X_train, X_test, y_train, y_test = train_test_split(X_,y)"
   ]
  },
  {
   "cell_type": "code",
   "execution_count": 24,
   "id": "f63d69fe-65fd-47a9-aa6c-a009a21d632d",
   "metadata": {
    "tags": []
   },
   "outputs": [
    {
     "data": {
      "text/plain": [
       "((150, 150, 3), (150, 150, 3))"
      ]
     },
     "execution_count": 24,
     "metadata": {},
     "output_type": "execute_result"
    }
   ],
   "source": [
    "X_train[0].shape, X_test[0].shape"
   ]
  },
  {
   "cell_type": "code",
   "execution_count": 16,
   "id": "a974c5b1-bbb9-4562-aa11-17bc1b341ed4",
   "metadata": {
    "tags": []
   },
   "outputs": [],
   "source": [
    "input_shape = X_train.shape[1:]\n",
    "output_shape = y_train.shape[1]"
   ]
  },
  {
   "cell_type": "code",
   "execution_count": 32,
   "id": "cec69187-cee4-492b-86cf-ad5993078d0d",
   "metadata": {
    "tags": []
   },
   "outputs": [],
   "source": [
    "model = Sequential(\n",
    "[\n",
    "    Conv2D(32,(3,3), activation='relu',input_shape=input_shape),\n",
    "    BatchNormalization(),\n",
    "    MaxPooling2D((3,3)),\n",
    "    Flatten(),\n",
    "    Dense(256, activation = 'relu'),\n",
    "    BatchNormalization(),\n",
    "    Dense(128, activation = 'relu'),\n",
    "    BatchNormalization(),\n",
    "    Dense(output_shape, activation = 'softmax')\n",
    "])"
   ]
  },
  {
   "cell_type": "code",
   "execution_count": 33,
   "id": "e74c5b28-76c1-40b5-be7e-05b3ed0ce83a",
   "metadata": {
    "tags": []
   },
   "outputs": [],
   "source": [
    "model.compile(optimizer='adam',loss='categorical_crossentropy',metrics='accuracy')"
   ]
  },
  {
   "cell_type": "code",
   "execution_count": null,
   "id": "2564db54-bfbe-464e-bb2a-e804d8c39b10",
   "metadata": {
    "tags": []
   },
   "outputs": [
    {
     "name": "stdout",
     "output_type": "stream",
     "text": [
      "Epoch 1/10\n",
      "62/62 [==============================] - 17s 246ms/step - loss: 1.3125 - accuracy: 0.5499 - val_loss: 6.0106 - val_accuracy: 0.2430\n",
      "Epoch 2/10\n",
      "62/62 [==============================] - 15s 242ms/step - loss: 0.6205 - accuracy: 0.8031 - val_loss: 1.6383 - val_accuracy: 0.5392\n",
      "Epoch 3/10\n",
      "62/62 [==============================] - 15s 245ms/step - loss: 0.3127 - accuracy: 0.9093 - val_loss: 2.0220 - val_accuracy: 0.4516\n",
      "Epoch 4/10\n",
      "62/62 [==============================] - 15s 242ms/step - loss: 0.1624 - accuracy: 0.9589 - val_loss: 1.3905 - val_accuracy: 0.5750\n",
      "Epoch 5/10\n",
      "40/62 [==================>...........] - ETA: 5s - loss: 0.1097 - accuracy: 0.9715"
     ]
    }
   ],
   "source": [
    "model.fit(X_train,y_train,epochs=10,batch_size=64,validation_data=(X_test,y_test))"
   ]
  },
  {
   "cell_type": "code",
   "execution_count": 141,
   "id": "19bef747-ca15-4eac-a50e-9017030a3560",
   "metadata": {
    "tags": []
   },
   "outputs": [],
   "source": [
    "predict_image = glob(\"./1.jpg\")"
   ]
  },
  {
   "cell_type": "code",
   "execution_count": 26,
   "id": "a72df084-602e-495b-b4f4-a6e2688dc2ab",
   "metadata": {
    "collapsed": true,
    "jupyter": {
     "outputs_hidden": true
    },
    "tags": []
   },
   "outputs": [
    {
     "ename": "AttributeError",
     "evalue": "'numpy.ndarray' object has no attribute 'read'",
     "output_type": "error",
     "traceback": [
      "\u001b[1;31m---------------------------------------------------------------------------\u001b[0m",
      "\u001b[1;31mAttributeError\u001b[0m                            Traceback (most recent call last)",
      "Cell \u001b[1;32mIn[26], line 1\u001b[0m\n\u001b[1;32m----> 1\u001b[0m b \u001b[38;5;241m=\u001b[39m \u001b[43mplt\u001b[49m\u001b[38;5;241;43m.\u001b[39;49m\u001b[43mimread\u001b[49m\u001b[43m(\u001b[49m\u001b[43mX_test\u001b[49m\u001b[43m[\u001b[49m\u001b[38;5;241;43m1\u001b[39;49m\u001b[43m]\u001b[49m\u001b[43m)\u001b[49m\n",
      "File \u001b[1;32m~\\anaconda3\\Lib\\site-packages\\matplotlib\\pyplot.py:2195\u001b[0m, in \u001b[0;36mimread\u001b[1;34m(fname, format)\u001b[0m\n\u001b[0;32m   2193\u001b[0m \u001b[38;5;129m@_copy_docstring_and_deprecators\u001b[39m(matplotlib\u001b[38;5;241m.\u001b[39mimage\u001b[38;5;241m.\u001b[39mimread)\n\u001b[0;32m   2194\u001b[0m \u001b[38;5;28;01mdef\u001b[39;00m \u001b[38;5;21mimread\u001b[39m(fname, \u001b[38;5;28mformat\u001b[39m\u001b[38;5;241m=\u001b[39m\u001b[38;5;28;01mNone\u001b[39;00m):\n\u001b[1;32m-> 2195\u001b[0m     \u001b[38;5;28;01mreturn\u001b[39;00m \u001b[43mmatplotlib\u001b[49m\u001b[38;5;241;43m.\u001b[39;49m\u001b[43mimage\u001b[49m\u001b[38;5;241;43m.\u001b[39;49m\u001b[43mimread\u001b[49m\u001b[43m(\u001b[49m\u001b[43mfname\u001b[49m\u001b[43m,\u001b[49m\u001b[43m \u001b[49m\u001b[38;5;28;43mformat\u001b[39;49m\u001b[43m)\u001b[49m\n",
      "File \u001b[1;32m~\\anaconda3\\Lib\\site-packages\\matplotlib\\image.py:1563\u001b[0m, in \u001b[0;36mimread\u001b[1;34m(fname, format)\u001b[0m\n\u001b[0;32m   1556\u001b[0m \u001b[38;5;28;01mif\u001b[39;00m \u001b[38;5;28misinstance\u001b[39m(fname, \u001b[38;5;28mstr\u001b[39m) \u001b[38;5;129;01mand\u001b[39;00m \u001b[38;5;28mlen\u001b[39m(parse\u001b[38;5;241m.\u001b[39murlparse(fname)\u001b[38;5;241m.\u001b[39mscheme) \u001b[38;5;241m>\u001b[39m \u001b[38;5;241m1\u001b[39m:\n\u001b[0;32m   1557\u001b[0m     \u001b[38;5;66;03m# Pillow doesn't handle URLs directly.\u001b[39;00m\n\u001b[0;32m   1558\u001b[0m     \u001b[38;5;28;01mraise\u001b[39;00m \u001b[38;5;167;01mValueError\u001b[39;00m(\n\u001b[0;32m   1559\u001b[0m         \u001b[38;5;124m\"\u001b[39m\u001b[38;5;124mPlease open the URL for reading and pass the \u001b[39m\u001b[38;5;124m\"\u001b[39m\n\u001b[0;32m   1560\u001b[0m         \u001b[38;5;124m\"\u001b[39m\u001b[38;5;124mresult to Pillow, e.g. with \u001b[39m\u001b[38;5;124m\"\u001b[39m\n\u001b[0;32m   1561\u001b[0m         \u001b[38;5;124m\"\u001b[39m\u001b[38;5;124m``np.array(PIL.Image.open(urllib.request.urlopen(url)))``.\u001b[39m\u001b[38;5;124m\"\u001b[39m\n\u001b[0;32m   1562\u001b[0m         )\n\u001b[1;32m-> 1563\u001b[0m \u001b[38;5;28;01mwith\u001b[39;00m \u001b[43mimg_open\u001b[49m\u001b[43m(\u001b[49m\u001b[43mfname\u001b[49m\u001b[43m)\u001b[49m \u001b[38;5;28;01mas\u001b[39;00m image:\n\u001b[0;32m   1564\u001b[0m     \u001b[38;5;28;01mreturn\u001b[39;00m (_pil_png_to_float_array(image)\n\u001b[0;32m   1565\u001b[0m             \u001b[38;5;28;01mif\u001b[39;00m \u001b[38;5;28misinstance\u001b[39m(image, PIL\u001b[38;5;241m.\u001b[39mPngImagePlugin\u001b[38;5;241m.\u001b[39mPngImageFile) \u001b[38;5;28;01melse\u001b[39;00m\n\u001b[0;32m   1566\u001b[0m             pil_to_array(image))\n",
      "File \u001b[1;32m~\\anaconda3\\Lib\\site-packages\\PIL\\ImageFile.py:117\u001b[0m, in \u001b[0;36mImageFile.__init__\u001b[1;34m(self, fp, filename)\u001b[0m\n\u001b[0;32m    115\u001b[0m \u001b[38;5;28;01mtry\u001b[39;00m:\n\u001b[0;32m    116\u001b[0m     \u001b[38;5;28;01mtry\u001b[39;00m:\n\u001b[1;32m--> 117\u001b[0m         \u001b[38;5;28;43mself\u001b[39;49m\u001b[38;5;241;43m.\u001b[39;49m\u001b[43m_open\u001b[49m\u001b[43m(\u001b[49m\u001b[43m)\u001b[49m\n\u001b[0;32m    118\u001b[0m     \u001b[38;5;28;01mexcept\u001b[39;00m (\n\u001b[0;32m    119\u001b[0m         \u001b[38;5;167;01mIndexError\u001b[39;00m,  \u001b[38;5;66;03m# end of data\u001b[39;00m\n\u001b[0;32m    120\u001b[0m         \u001b[38;5;167;01mTypeError\u001b[39;00m,  \u001b[38;5;66;03m# end of data (ord)\u001b[39;00m\n\u001b[1;32m   (...)\u001b[0m\n\u001b[0;32m    123\u001b[0m         struct\u001b[38;5;241m.\u001b[39merror,\n\u001b[0;32m    124\u001b[0m     ) \u001b[38;5;28;01mas\u001b[39;00m v:\n\u001b[0;32m    125\u001b[0m         \u001b[38;5;28;01mraise\u001b[39;00m \u001b[38;5;167;01mSyntaxError\u001b[39;00m(v) \u001b[38;5;28;01mfrom\u001b[39;00m \u001b[38;5;21;01mv\u001b[39;00m\n",
      "File \u001b[1;32m~\\anaconda3\\Lib\\site-packages\\PIL\\PngImagePlugin.py:730\u001b[0m, in \u001b[0;36mPngImageFile._open\u001b[1;34m(self)\u001b[0m\n\u001b[0;32m    728\u001b[0m \u001b[38;5;28;01mdef\u001b[39;00m \u001b[38;5;21m_open\u001b[39m(\u001b[38;5;28mself\u001b[39m):\n\u001b[1;32m--> 730\u001b[0m     \u001b[38;5;28;01mif\u001b[39;00m \u001b[38;5;129;01mnot\u001b[39;00m _accept(\u001b[38;5;28;43mself\u001b[39;49m\u001b[38;5;241;43m.\u001b[39;49m\u001b[43mfp\u001b[49m\u001b[38;5;241;43m.\u001b[39;49m\u001b[43mread\u001b[49m(\u001b[38;5;241m8\u001b[39m)):\n\u001b[0;32m    731\u001b[0m         msg \u001b[38;5;241m=\u001b[39m \u001b[38;5;124m\"\u001b[39m\u001b[38;5;124mnot a PNG file\u001b[39m\u001b[38;5;124m\"\u001b[39m\n\u001b[0;32m    732\u001b[0m         \u001b[38;5;28;01mraise\u001b[39;00m \u001b[38;5;167;01mSyntaxError\u001b[39;00m(msg)\n",
      "\u001b[1;31mAttributeError\u001b[0m: 'numpy.ndarray' object has no attribute 'read'"
     ]
    }
   ],
   "source": [
    "b = plt.imread(predict_image[0])"
   ]
  },
  {
   "cell_type": "code",
   "execution_count": 143,
   "id": "3e4872b1-25c8-4325-929f-5ea179ddc069",
   "metadata": {
    "tags": []
   },
   "outputs": [],
   "source": [
    "b = cv.resize(b,(150,150)).reshape(1,150,150,-1)"
   ]
  },
  {
   "cell_type": "code",
   "execution_count": 144,
   "id": "7306efeb-2b44-48ae-adad-1422ed0c4a5f",
   "metadata": {
    "tags": []
   },
   "outputs": [],
   "source": [
    "b = b[:,:,:,:3]"
   ]
  },
  {
   "cell_type": "code",
   "execution_count": 27,
   "id": "2d56f2b1-e60a-4b83-8fca-728dcc1d2b6f",
   "metadata": {
    "tags": []
   },
   "outputs": [
    {
     "name": "stderr",
     "output_type": "stream",
     "text": [
      "Clipping input data to the valid range for imshow with RGB data ([0..1] for floats or [0..255] for integers).\n"
     ]
    },
    {
     "data": {
      "text/plain": [
       "<matplotlib.image.AxesImage at 0x1fc0ddd2850>"
      ]
     },
     "execution_count": 27,
     "metadata": {},
     "output_type": "execute_result"
    },
    {
     "data": {
      "image/png": "[encoded data removed]",
      "text/plain": [
       "<Figure size 640x480 with 1 Axes>"
      ]
     },
     "metadata": {},
     "output_type": "display_data"
    }
   ],
   "source": [
    "plt.imshow(X_test[1])"
   ]
  },
  {
   "cell_type": "code",
   "execution_count": 31,
   "id": "ae0223f0-b670-4f84-809b-82e5f2449e72",
   "metadata": {
    "tags": []
   },
   "outputs": [
    {
     "name": "stdout",
     "output_type": "stream",
     "text": [
      "1/1 [==============================] - 0s 20ms/step\n"
     ]
    },
    {
     "data": {
      "text/plain": [
       "5"
      ]
     },
     "execution_count": 31,
     "metadata": {},
     "output_type": "execute_result"
    }
   ],
   "source": [
    "np.argmax(model.predict(X_test[[5]]))"
   ]
  },
  {
   "cell_type": "code",
   "execution_count": 146,
   "id": "96f2b066-ab5d-4c07-a242-2d231b1d6749",
   "metadata": {
    "tags": []
   },
   "outputs": [],
   "source": [
    "c = glob('./2.png')\n",
    "c = plt.imread(c[0])\n",
    "c = cv.resize(c,(150,150)).reshape(1,150,150,-1)\n",
    "c = c[:,:,:,:3]"
   ]
  },
  {
   "cell_type": "code",
   "execution_count": 147,
   "id": "7f890fc8-225b-4c73-8af5-a567d28e52ac",
   "metadata": {
    "tags": []
   },
   "outputs": [
    {
     "name": "stdout",
     "output_type": "stream",
     "text": [
      "WARNING:tensorflow:6 out of the last 11 calls to <function Model.make_predict_function.<locals>.predict_function at 0x00000202CD2EDE40> triggered tf.function retracing. Tracing is expensive and the excessive number of tracings could be due to (1) creating @tf.function repeatedly in a loop, (2) passing tensors with different shapes, (3) passing Python objects instead of tensors. For (1), please define your @tf.function outside of the loop. For (2), @tf.function has reduce_retracing=True option that can avoid unnecessary retracing. For (3), please refer to https://www.tensorflow.org/guide/function#controlling_retracing and https://www.tensorflow.org/api_docs/python/tf/function for  more details.\n",
      "1/1 [==============================] - 0s 87ms/step\n"
     ]
    },
    {
     "data": {
      "text/plain": [
       "4"
      ]
     },
     "execution_count": 147,
     "metadata": {},
     "output_type": "execute_result"
    }
   ],
   "source": [
    "np.argmax(model.predict(c))"
   ]
  },
  {
   "cell_type": "code",
   "execution_count": 148,
   "id": "60906c54-57e5-43ec-9be2-7cd3436d432e",
   "metadata": {
    "tags": []
   },
   "outputs": [],
   "source": [
    "c = glob('./3.jpg')\n",
    "c = plt.imread(c[0])\n",
    "c = cv.resize(c,(150,150)).reshape(1,150,150,-1)\n",
    "c = c[:,:,:,:3]"
   ]
  },
  {
   "cell_type": "code",
   "execution_count": 149,
   "id": "457018e2-8174-40d0-920a-ad261933f867",
   "metadata": {
    "tags": []
   },
   "outputs": [
    {
     "name": "stdout",
     "output_type": "stream",
     "text": [
      "1/1 [==============================] - 0s 22ms/step\n"
     ]
    },
    {
     "data": {
      "text/plain": [
       "3"
      ]
     },
     "execution_count": 149,
     "metadata": {},
     "output_type": "execute_result"
    }
   ],
   "source": [
    "np.argmax(model.predict(c))"
   ]
  },
  {
   "cell_type": "code",
   "execution_count": 151,
   "id": "a0081e4f-108b-457e-8878-d5fa0c508c84",
   "metadata": {
    "tags": []
   },
   "outputs": [],
   "source": [
    "c = glob('./4.jpg')\n",
    "c = plt.imread(c[0])\n",
    "c = cv.resize(c,(150,150)).reshape(1,150,150,-1)\n",
    "c = c[:,:,:,:3]"
   ]
  },
  {
   "cell_type": "code",
   "execution_count": 152,
   "id": "a58eb244-5a97-40fc-9546-d5aa264c7f58",
   "metadata": {
    "tags": []
   },
   "outputs": [
    {
     "name": "stdout",
     "output_type": "stream",
     "text": [
      "1/1 [==============================] - 0s 23ms/step\n"
     ]
    },
    {
     "data": {
      "text/plain": [
       "6"
      ]
     },
     "execution_count": 152,
     "metadata": {},
     "output_type": "execute_result"
    }
   ],
   "source": [
    "np.argmax(model.predict(c))"
   ]
  },
  {
   "cell_type": "code",
   "execution_count": null,
   "id": "7dce9999-682a-40d5-a9a9-3b4c3c664c21",
   "metadata": {},
   "outputs": [],
   "source": []
  }
 ],
 "metadata": {
  "kernelspec": {
   "display_name": "Python 3 (ipykernel)",
   "language": "python",
   "name": "python3"
  },
  "language_info": {
   "codemirror_mode": {
    "name": "ipython",
    "version": 3
   },
   "file_extension": ".py",
   "mimetype": "text/x-python",
   "name": "python",
   "nbconvert_exporter": "python",
   "pygments_lexer": "ipython3",
   "version": "3.11.4"
  }
 },
 "nbformat": 4,
 "nbformat_minor": 5
}
