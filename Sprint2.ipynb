{
 "cells": [
  {
   "cell_type": "code",
   "execution_count": 1,
   "id": "648564a0-bce3-4653-b666-29265b55e4f2",
   "metadata": {
    "tags": []
   },
   "outputs": [
    {
     "name": "stdout",
     "output_type": "stream",
     "text": [
      "WARNING:tensorflow:From C:\\Users\\user\\anaconda3\\Lib\\site-packages\\keras\\src\\losses.py:2976: The name tf.losses.sparse_softmax_cross_entropy is deprecated. Please use tf.compat.v1.losses.sparse_softmax_cross_entropy instead.\n",
      "\n"
     ]
    }
   ],
   "source": [
    "from sklearn.model_selection import train_test_split\n",
    "from tensorflow.keras.models import load_model, Sequential\n",
    "from tensorflow.keras.layers import Dense, BatchNormalization, Dropout, Flatten, Conv2D, MaxPooling2D\n",
    "from tensorflow.keras.utils import plot_model, to_categorical\n",
    "from tensorflow.keras.datasets import cifar10\n",
    "from tensorflow.keras.applications import VGG16\n",
    "from tensorflow.keras import applications\n",
    "from itertools import chain\n",
    "from glob import glob\n",
    "import numpy as np\n",
    "import matplotlib.pyplot as plt\n",
    "import cv2 as cv\n",
    "import time"
   ]
  },
  {
   "cell_type": "code",
   "execution_count": 84,
   "id": "df5e87d3-a0d7-4f74-a463-3d58f78960cc",
   "metadata": {
    "tags": []
   },
   "outputs": [],
   "source": [
    "battery = glob(\"./images/battery/*\")[:500]\n",
    "cardboard = glob(\"./images/cardboard/*\")[:500]\n",
    "glass1 = glob(\"./images/glass1/*\")[:166]\n",
    "glass2 = glob(\"./images/glass2/*\")[:167]\n",
    "glass3 = glob(\"./images/glass3/*\")[:167]\n",
    "metal = glob(\"./images/metal/*\")[:500]\n",
    "paper = glob(\"./images/paper/*\")[:500]\n",
    "plastic = glob(\"./images/plastic/*\")[:500]\n",
    "etc1 = glob(\"./images/etc1/*\")[:125]\n",
    "etc2 = glob(\"./images/etc2/*\")[:125]\n",
    "etc3 = glob(\"./images/etc3/*\")[:125]\n",
    "etc4 = glob(\"./images/etc4/*\")[:125]"
   ]
  },
  {
   "cell_type": "code",
   "execution_count": 98,
   "id": "ff2564b9-8dc2-40c9-b773-c8a10bcefdde",
   "metadata": {
    "tags": []
   },
   "outputs": [],
   "source": [
    "X = []\n",
    "X.extend(battery)\n",
    "X.extend(cardboard)\n",
    "X.extend(glass1)\n",
    "X.extend(glass2)\n",
    "X.extend(glass3)\n",
    "X.extend(metal)\n",
    "X.extend(paper)\n",
    "X.extend(plastic)\n",
    "X.extend(etc1)\n",
    "X.extend(etc2)\n",
    "X.extend(etc3)\n",
    "X.extend(etc4)"
   ]
  },
  {
   "cell_type": "code",
   "execution_count": 99,
   "id": "0f76e648-a575-45cf-af9c-eef3e5431020",
   "metadata": {
    "tags": []
   },
   "outputs": [],
   "source": [
    "y = []\n",
    "for i in X:\n",
    "    if 'battery' in i:\n",
    "        y.append(0)\n",
    "    elif 'cardboard' in i:\n",
    "        y.append(1)\n",
    "    elif 'glass' in i:\n",
    "        y.append(2)\n",
    "    elif 'metal' in i:\n",
    "        y.append(3)\n",
    "    elif 'paper' in i :\n",
    "        y.append(4)\n",
    "    elif 'plastic' in i:\n",
    "        y.append(5)\n",
    "    else:\n",
    "        y.append(6)\n",
    "y = np.array(y)"
   ]
  },
  {
   "cell_type": "code",
   "execution_count": 100,
   "id": "bcb55c2e-0f3b-4737-bd10-c28b11598852",
   "metadata": {
    "tags": []
   },
   "outputs": [],
   "source": [
    "X_ = np.zeros((3500,150,150,3))"
   ]
  },
  {
   "cell_type": "code",
   "execution_count": 101,
   "id": "7921e51c-61bf-46b0-b1a1-5daf4fd26ba0",
   "metadata": {
    "tags": []
   },
   "outputs": [],
   "source": [
    "for idx, val in enumerate(X):\n",
    "    dt = plt.imread(val)\n",
    "    dt = cv.resize(dt,(150,150)).reshape(1,150,150,-1)\n",
    "    X_[idx] = dt[:,:,:,:3]"
   ]
  },
  {
   "cell_type": "code",
   "execution_count": 102,
   "id": "ac68b042-5114-4e1a-ac54-5ea756eb36f6",
   "metadata": {
    "tags": []
   },
   "outputs": [
    {
     "data": {
      "text/plain": [
       "3500"
      ]
     },
     "execution_count": 102,
     "metadata": {},
     "output_type": "execute_result"
    }
   ],
   "source": [
    "len(X_)"
   ]
  },
  {
   "cell_type": "code",
   "execution_count": 135,
   "id": "4f614ecd-8087-46fe-b045-a278ab82357d",
   "metadata": {
    "tags": []
   },
   "outputs": [
    {
     "data": {
      "text/plain": [
       "array([0., 1., 0., 0., 0., 0., 0.], dtype=float32)"
      ]
     },
     "execution_count": 135,
     "metadata": {},
     "output_type": "execute_result"
    }
   ],
   "source": [
    "y[500]"
   ]
  },
  {
   "cell_type": "code",
   "execution_count": 103,
   "id": "5b2572b2-550c-4557-8de6-1ac3fe4d4605",
   "metadata": {
    "tags": []
   },
   "outputs": [],
   "source": [
    "y = to_categorical(y)"
   ]
  },
  {
   "cell_type": "code",
   "execution_count": 104,
   "id": "c0d31b15-454e-4f51-8635-98ad9649ca6d",
   "metadata": {
    "tags": []
   },
   "outputs": [],
   "source": [
    "X_train, X_test, y_train, y_test = train_test_split(X_,y)"
   ]
  },
  {
   "cell_type": "code",
   "execution_count": 105,
   "id": "a974c5b1-bbb9-4562-aa11-17bc1b341ed4",
   "metadata": {
    "tags": []
   },
   "outputs": [],
   "source": [
    "input_shape = X_train.shape[1:]\n",
    "output_shape = y_train.shape[1]"
   ]
  },
  {
   "cell_type": "code",
   "execution_count": 138,
   "id": "cec69187-cee4-492b-86cf-ad5993078d0d",
   "metadata": {
    "tags": []
   },
   "outputs": [],
   "source": [
    "model = Sequential(\n",
    "[\n",
    "    Conv2D(32,(5,5), activation='relu',input_shape=input_shape),\n",
    "    BatchNormalization(),\n",
    "    MaxPooling2D((3,3)),\n",
    "    Flatten(),\n",
    "    Dense(256, activation = 'relu'),\n",
    "    BatchNormalization(),\n",
    "    Dense(128, activation = 'relu'),\n",
    "    BatchNormalization(),\n",
    "    Dense(output_shape, activation = 'softmax')\n",
    "])"
   ]
  },
  {
   "cell_type": "code",
   "execution_count": 139,
   "id": "e74c5b28-76c1-40b5-be7e-05b3ed0ce83a",
   "metadata": {
    "tags": []
   },
   "outputs": [],
   "source": [
    "model.compile(optimizer='adam',loss='categorical_crossentropy',metrics='accuracy')"
   ]
  },
  {
   "cell_type": "code",
   "execution_count": 140,
   "id": "2564db54-bfbe-464e-bb2a-e804d8c39b10",
   "metadata": {
    "tags": []
   },
   "outputs": [
    {
     "name": "stdout",
     "output_type": "stream",
     "text": [
      "Epoch 1/10\n",
      "110/110 [==============================] - 33s 289ms/step - loss: 1.3142 - accuracy: 0.5529\n",
      "Epoch 2/10\n",
      "110/110 [==============================] - 32s 288ms/step - loss: 0.7044 - accuracy: 0.7534\n",
      "Epoch 3/10\n",
      "110/110 [==============================] - 32s 289ms/step - loss: 0.4401 - accuracy: 0.8611\n",
      "Epoch 4/10\n",
      "110/110 [==============================] - 32s 291ms/step - loss: 0.3007 - accuracy: 0.9080\n",
      "Epoch 5/10\n",
      "110/110 [==============================] - 32s 288ms/step - loss: 0.2054 - accuracy: 0.9429\n",
      "Epoch 6/10\n",
      "110/110 [==============================] - 32s 288ms/step - loss: 0.2026 - accuracy: 0.9403\n",
      "Epoch 7/10\n",
      "110/110 [==============================] - 32s 289ms/step - loss: 0.1558 - accuracy: 0.9523\n",
      "Epoch 8/10\n",
      "110/110 [==============================] - 32s 289ms/step - loss: 0.1186 - accuracy: 0.9646\n",
      "Epoch 9/10\n",
      "110/110 [==============================] - 32s 292ms/step - loss: 0.0869 - accuracy: 0.9754\n",
      "Epoch 10/10\n",
      "110/110 [==============================] - 32s 288ms/step - loss: 0.0749 - accuracy: 0.9763\n"
     ]
    },
    {
     "data": {
      "text/plain": [
       "<keras.src.callbacks.History at 0x202d35aa010>"
      ]
     },
     "execution_count": 140,
     "metadata": {},
     "output_type": "execute_result"
    }
   ],
   "source": [
    "model.fit(X_,y,epochs=10)"
   ]
  },
  {
   "cell_type": "code",
   "execution_count": 141,
   "id": "19bef747-ca15-4eac-a50e-9017030a3560",
   "metadata": {
    "tags": []
   },
   "outputs": [],
   "source": [
    "predict_image = glob(\"./1.jpg\")"
   ]
  },
  {
   "cell_type": "code",
   "execution_count": 142,
   "id": "a72df084-602e-495b-b4f4-a6e2688dc2ab",
   "metadata": {
    "tags": []
   },
   "outputs": [],
   "source": [
    "b = plt.imread(predict_image[0])"
   ]
  },
  {
   "cell_type": "code",
   "execution_count": 143,
   "id": "3e4872b1-25c8-4325-929f-5ea179ddc069",
   "metadata": {
    "tags": []
   },
   "outputs": [],
   "source": [
    "b = cv.resize(b,(150,150)).reshape(1,150,150,-1)"
   ]
  },
  {
   "cell_type": "code",
   "execution_count": 144,
   "id": "7306efeb-2b44-48ae-adad-1422ed0c4a5f",
   "metadata": {
    "tags": []
   },
   "outputs": [],
   "source": [
    "b = b[:,:,:,:3]"
   ]
  },
  {
   "cell_type": "code",
   "execution_count": 145,
   "id": "ae0223f0-b670-4f84-809b-82e5f2449e72",
   "metadata": {
    "tags": []
   },
   "outputs": [
    {
     "name": "stdout",
     "output_type": "stream",
     "text": [
      "WARNING:tensorflow:5 out of the last 10 calls to <function Model.make_predict_function.<locals>.predict_function at 0x00000202CD2EDE40> triggered tf.function retracing. Tracing is expensive and the excessive number of tracings could be due to (1) creating @tf.function repeatedly in a loop, (2) passing tensors with different shapes, (3) passing Python objects instead of tensors. For (1), please define your @tf.function outside of the loop. For (2), @tf.function has reduce_retracing=True option that can avoid unnecessary retracing. For (3), please refer to https://www.tensorflow.org/guide/function#controlling_retracing and https://www.tensorflow.org/api_docs/python/tf/function for  more details.\n",
      "1/1 [==============================] - 0s 92ms/step\n"
     ]
    },
    {
     "data": {
      "text/plain": [
       "6"
      ]
     },
     "execution_count": 145,
     "metadata": {},
     "output_type": "execute_result"
    }
   ],
   "source": [
    "np.argmax(model.predict(b))"
   ]
  },
  {
   "cell_type": "code",
   "execution_count": 146,
   "id": "96f2b066-ab5d-4c07-a242-2d231b1d6749",
   "metadata": {
    "tags": []
   },
   "outputs": [],
   "source": [
    "c = glob('./2.png')\n",
    "c = plt.imread(c[0])\n",
    "c = cv.resize(c,(150,150)).reshape(1,150,150,-1)\n",
    "c = c[:,:,:,:3]"
   ]
  },
  {
   "cell_type": "code",
   "execution_count": 147,
   "id": "7f890fc8-225b-4c73-8af5-a567d28e52ac",
   "metadata": {
    "tags": []
   },
   "outputs": [
    {
     "name": "stdout",
     "output_type": "stream",
     "text": [
      "WARNING:tensorflow:6 out of the last 11 calls to <function Model.make_predict_function.<locals>.predict_function at 0x00000202CD2EDE40> triggered tf.function retracing. Tracing is expensive and the excessive number of tracings could be due to (1) creating @tf.function repeatedly in a loop, (2) passing tensors with different shapes, (3) passing Python objects instead of tensors. For (1), please define your @tf.function outside of the loop. For (2), @tf.function has reduce_retracing=True option that can avoid unnecessary retracing. For (3), please refer to https://www.tensorflow.org/guide/function#controlling_retracing and https://www.tensorflow.org/api_docs/python/tf/function for  more details.\n",
      "1/1 [==============================] - 0s 87ms/step\n"
     ]
    },
    {
     "data": {
      "text/plain": [
       "4"
      ]
     },
     "execution_count": 147,
     "metadata": {},
     "output_type": "execute_result"
    }
   ],
   "source": [
    "np.argmax(model.predict(c))"
   ]
  },
  {
   "cell_type": "code",
   "execution_count": 148,
   "id": "60906c54-57e5-43ec-9be2-7cd3436d432e",
   "metadata": {
    "tags": []
   },
   "outputs": [],
   "source": [
    "c = glob('./3.jpg')\n",
    "c = plt.imread(c[0])\n",
    "c = cv.resize(c,(150,150)).reshape(1,150,150,-1)\n",
    "c = c[:,:,:,:3]"
   ]
  },
  {
   "cell_type": "code",
   "execution_count": 149,
   "id": "457018e2-8174-40d0-920a-ad261933f867",
   "metadata": {
    "tags": []
   },
   "outputs": [
    {
     "name": "stdout",
     "output_type": "stream",
     "text": [
      "1/1 [==============================] - 0s 22ms/step\n"
     ]
    },
    {
     "data": {
      "text/plain": [
       "3"
      ]
     },
     "execution_count": 149,
     "metadata": {},
     "output_type": "execute_result"
    }
   ],
   "source": [
    "np.argmax(model.predict(c))"
   ]
  },
  {
   "cell_type": "code",
   "execution_count": 151,
   "id": "a0081e4f-108b-457e-8878-d5fa0c508c84",
   "metadata": {
    "tags": []
   },
   "outputs": [],
   "source": [
    "c = glob('./4.jpg')\n",
    "c = plt.imread(c[0])\n",
    "c = cv.resize(c,(150,150)).reshape(1,150,150,-1)\n",
    "c = c[:,:,:,:3]"
   ]
  },
  {
   "cell_type": "code",
   "execution_count": 152,
   "id": "a58eb244-5a97-40fc-9546-d5aa264c7f58",
   "metadata": {
    "tags": []
   },
   "outputs": [
    {
     "name": "stdout",
     "output_type": "stream",
     "text": [
      "1/1 [==============================] - 0s 23ms/step\n"
     ]
    },
    {
     "data": {
      "text/plain": [
       "6"
      ]
     },
     "execution_count": 152,
     "metadata": {},
     "output_type": "execute_result"
    }
   ],
   "source": [
    "np.argmax(model.predict(c))"
   ]
  },
  {
   "cell_type": "code",
   "execution_count": null,
   "id": "7dce9999-682a-40d5-a9a9-3b4c3c664c21",
   "metadata": {},
   "outputs": [],
   "source": []
  }
 ],
 "metadata": {
  "kernelspec": {
   "display_name": "Python 3 (ipykernel)",
   "language": "python",
   "name": "python3"
  },
  "language_info": {
   "codemirror_mode": {
    "name": "ipython",
    "version": 3
   },
   "file_extension": ".py",
   "mimetype": "text/x-python",
   "name": "python",
   "nbconvert_exporter": "python",
   "pygments_lexer": "ipython3",
   "version": "3.11.4"
  }
 },
 "nbformat": 4,
 "nbformat_minor": 5
}
